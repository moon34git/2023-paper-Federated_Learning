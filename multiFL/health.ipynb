{
 "cells": [
  {
   "cell_type": "code",
   "execution_count": 18,
   "metadata": {},
   "outputs": [],
   "source": [
    "import numpy as np\n",
    "import pandas as pd\n",
    "import seaborn as sns\n",
    "import matplotlib.pyplot as plt\n",
    "import torch\n",
    "import pickle\n",
    "import os\n",
    "import torch.nn as nn\n",
    "from tqdm import tqdm\n",
    "import torch.nn.functional as F\n",
    "\n",
    "os.environ['CUDA_DEVICE_ORDER'] = 'PCI_BUS_ID'\n",
    "os.environ['CUDA_VISIBLE_DEVICES'] = '2'\n",
    "%matplotlib inline\n",
    "\n",
    "DEVICE = torch.device(\"cuda\" if torch.cuda.is_available() else \"cpu\")"
   ]
  },
  {
   "cell_type": "code",
   "execution_count": 19,
   "metadata": {},
   "outputs": [],
   "source": [
    "with open('../Data/mhealth_raw_data.pickle', 'rb') as f:\n",
    "    df = pickle.load(f)"
   ]
  },
  {
   "cell_type": "code",
   "execution_count": 20,
   "metadata": {},
   "outputs": [
    {
     "data": {
      "text/plain": [
       "1     30720\n",
       "2     30720\n",
       "3     30720\n",
       "4     30720\n",
       "9     30720\n",
       "10    30720\n",
       "11    30720\n",
       "5     30720\n",
       "0     30000\n",
       "7     29441\n",
       "8     29337\n",
       "6     28315\n",
       "12    10342\n",
       "Name: Activity, dtype: int64"
      ]
     },
     "execution_count": 20,
     "metadata": {},
     "output_type": "execute_result"
    }
   ],
   "source": [
    "from sklearn.utils import resample\n",
    " \n",
    "df_majority = df[df.Activity==0]\n",
    "df_minorities = df[df.Activity!=0]\n",
    " \n",
    "df_majority_downsampled = resample(df_majority,n_samples=30000, random_state=42)\n",
    "df = pd.concat([df_majority_downsampled, df_minorities])\n",
    "df.Activity.value_counts()"
   ]
  },
  {
   "cell_type": "code",
   "execution_count": 21,
   "metadata": {},
   "outputs": [
    {
     "data": {
      "text/html": [
       "<div>\n",
       "<style scoped>\n",
       "    .dataframe tbody tr th:only-of-type {\n",
       "        vertical-align: middle;\n",
       "    }\n",
       "\n",
       "    .dataframe tbody tr th {\n",
       "        vertical-align: top;\n",
       "    }\n",
       "\n",
       "    .dataframe thead th {\n",
       "        text-align: right;\n",
       "    }\n",
       "</style>\n",
       "<table border=\"1\" class=\"dataframe\">\n",
       "  <thead>\n",
       "    <tr style=\"text-align: right;\">\n",
       "      <th></th>\n",
       "      <th>alx</th>\n",
       "      <th>aly</th>\n",
       "      <th>alz</th>\n",
       "      <th>glx</th>\n",
       "      <th>gly</th>\n",
       "      <th>glz</th>\n",
       "      <th>arx</th>\n",
       "      <th>ary</th>\n",
       "      <th>arz</th>\n",
       "      <th>grx</th>\n",
       "      <th>gry</th>\n",
       "      <th>grz</th>\n",
       "      <th>Activity</th>\n",
       "      <th>subject</th>\n",
       "    </tr>\n",
       "  </thead>\n",
       "  <tbody>\n",
       "    <tr>\n",
       "      <th>154060</th>\n",
       "      <td>-0.68636</td>\n",
       "      <td>-5.2902</td>\n",
       "      <td>4.64530</td>\n",
       "      <td>0.13544</td>\n",
       "      <td>-0.83114</td>\n",
       "      <td>-0.13163</td>\n",
       "      <td>-8.4230</td>\n",
       "      <td>-6.6402</td>\n",
       "      <td>2.98050</td>\n",
       "      <td>-0.93922</td>\n",
       "      <td>0.090349</td>\n",
       "      <td>0.219830</td>\n",
       "      <td>0</td>\n",
       "      <td>subject1</td>\n",
       "    </tr>\n",
       "    <tr>\n",
       "      <th>936066</th>\n",
       "      <td>1.00030</td>\n",
       "      <td>-7.7902</td>\n",
       "      <td>-6.74410</td>\n",
       "      <td>-0.26531</td>\n",
       "      <td>-0.14447</td>\n",
       "      <td>-1.09820</td>\n",
       "      <td>2.2046</td>\n",
       "      <td>-7.5497</td>\n",
       "      <td>4.02880</td>\n",
       "      <td>-0.21961</td>\n",
       "      <td>-1.080100</td>\n",
       "      <td>0.303880</td>\n",
       "      <td>0</td>\n",
       "      <td>subject8</td>\n",
       "    </tr>\n",
       "    <tr>\n",
       "      <th>167106</th>\n",
       "      <td>1.53220</td>\n",
       "      <td>-9.5966</td>\n",
       "      <td>-0.25618</td>\n",
       "      <td>-0.27273</td>\n",
       "      <td>-0.75985</td>\n",
       "      <td>0.63654</td>\n",
       "      <td>-2.5898</td>\n",
       "      <td>-8.5217</td>\n",
       "      <td>3.83430</td>\n",
       "      <td>-0.88431</td>\n",
       "      <td>-0.848050</td>\n",
       "      <td>0.331900</td>\n",
       "      <td>0</td>\n",
       "      <td>subject2</td>\n",
       "    </tr>\n",
       "    <tr>\n",
       "      <th>493889</th>\n",
       "      <td>1.78090</td>\n",
       "      <td>-8.5942</td>\n",
       "      <td>-3.97440</td>\n",
       "      <td>-0.41002</td>\n",
       "      <td>-0.55535</td>\n",
       "      <td>-0.78389</td>\n",
       "      <td>-1.0049</td>\n",
       "      <td>-6.8588</td>\n",
       "      <td>2.11540</td>\n",
       "      <td>-0.35686</td>\n",
       "      <td>-0.854210</td>\n",
       "      <td>-0.415950</td>\n",
       "      <td>0</td>\n",
       "      <td>subject4</td>\n",
       "    </tr>\n",
       "    <tr>\n",
       "      <th>355024</th>\n",
       "      <td>-0.34940</td>\n",
       "      <td>-9.5201</td>\n",
       "      <td>1.45800</td>\n",
       "      <td>-0.68275</td>\n",
       "      <td>-0.77861</td>\n",
       "      <td>-0.24558</td>\n",
       "      <td>-1.4178</td>\n",
       "      <td>-9.5157</td>\n",
       "      <td>1.43050</td>\n",
       "      <td>-0.12353</td>\n",
       "      <td>-0.967150</td>\n",
       "      <td>-0.497840</td>\n",
       "      <td>0</td>\n",
       "      <td>subject3</td>\n",
       "    </tr>\n",
       "    <tr>\n",
       "      <th>...</th>\n",
       "      <td>...</td>\n",
       "      <td>...</td>\n",
       "      <td>...</td>\n",
       "      <td>...</td>\n",
       "      <td>...</td>\n",
       "      <td>...</td>\n",
       "      <td>...</td>\n",
       "      <td>...</td>\n",
       "      <td>...</td>\n",
       "      <td>...</td>\n",
       "      <td>...</td>\n",
       "      <td>...</td>\n",
       "      <td>...</td>\n",
       "      <td>...</td>\n",
       "    </tr>\n",
       "    <tr>\n",
       "      <th>1213641</th>\n",
       "      <td>-2.48730</td>\n",
       "      <td>-19.2330</td>\n",
       "      <td>3.46140</td>\n",
       "      <td>0.61967</td>\n",
       "      <td>-0.33771</td>\n",
       "      <td>-0.82711</td>\n",
       "      <td>-8.2348</td>\n",
       "      <td>-4.9652</td>\n",
       "      <td>2.48090</td>\n",
       "      <td>-0.43725</td>\n",
       "      <td>-1.018500</td>\n",
       "      <td>0.079741</td>\n",
       "      <td>12</td>\n",
       "      <td>subject10</td>\n",
       "    </tr>\n",
       "    <tr>\n",
       "      <th>1213642</th>\n",
       "      <td>-21.59100</td>\n",
       "      <td>-19.4370</td>\n",
       "      <td>-6.04190</td>\n",
       "      <td>0.61967</td>\n",
       "      <td>-0.33771</td>\n",
       "      <td>-0.82711</td>\n",
       "      <td>-21.3180</td>\n",
       "      <td>-10.2130</td>\n",
       "      <td>3.65600</td>\n",
       "      <td>-0.43725</td>\n",
       "      <td>-1.018500</td>\n",
       "      <td>0.079741</td>\n",
       "      <td>12</td>\n",
       "      <td>subject10</td>\n",
       "    </tr>\n",
       "    <tr>\n",
       "      <th>1213643</th>\n",
       "      <td>7.54330</td>\n",
       "      <td>-19.2450</td>\n",
       "      <td>-2.66800</td>\n",
       "      <td>0.61967</td>\n",
       "      <td>-0.33771</td>\n",
       "      <td>-0.82711</td>\n",
       "      <td>-21.2970</td>\n",
       "      <td>-18.7050</td>\n",
       "      <td>4.46060</td>\n",
       "      <td>-0.43725</td>\n",
       "      <td>-1.018500</td>\n",
       "      <td>0.079741</td>\n",
       "      <td>12</td>\n",
       "      <td>subject10</td>\n",
       "    </tr>\n",
       "    <tr>\n",
       "      <th>1213644</th>\n",
       "      <td>3.01420</td>\n",
       "      <td>-19.3340</td>\n",
       "      <td>-7.70740</td>\n",
       "      <td>0.71058</td>\n",
       "      <td>-0.27017</td>\n",
       "      <td>-0.75442</td>\n",
       "      <td>-21.1380</td>\n",
       "      <td>-18.6980</td>\n",
       "      <td>1.15880</td>\n",
       "      <td>-0.42549</td>\n",
       "      <td>-1.037000</td>\n",
       "      <td>0.084052</td>\n",
       "      <td>12</td>\n",
       "      <td>subject10</td>\n",
       "    </tr>\n",
       "    <tr>\n",
       "      <th>1213645</th>\n",
       "      <td>-2.36980</td>\n",
       "      <td>-19.3000</td>\n",
       "      <td>-4.23870</td>\n",
       "      <td>0.71058</td>\n",
       "      <td>-0.27017</td>\n",
       "      <td>-0.75442</td>\n",
       "      <td>-21.1730</td>\n",
       "      <td>-14.2910</td>\n",
       "      <td>-0.13123</td>\n",
       "      <td>-0.42549</td>\n",
       "      <td>-1.037000</td>\n",
       "      <td>0.084052</td>\n",
       "      <td>12</td>\n",
       "      <td>subject10</td>\n",
       "    </tr>\n",
       "  </tbody>\n",
       "</table>\n",
       "<p>373195 rows × 14 columns</p>\n",
       "</div>"
      ],
      "text/plain": [
       "              alx      aly      alz      glx      gly      glz      arx  \\\n",
       "154060   -0.68636  -5.2902  4.64530  0.13544 -0.83114 -0.13163  -8.4230   \n",
       "936066    1.00030  -7.7902 -6.74410 -0.26531 -0.14447 -1.09820   2.2046   \n",
       "167106    1.53220  -9.5966 -0.25618 -0.27273 -0.75985  0.63654  -2.5898   \n",
       "493889    1.78090  -8.5942 -3.97440 -0.41002 -0.55535 -0.78389  -1.0049   \n",
       "355024   -0.34940  -9.5201  1.45800 -0.68275 -0.77861 -0.24558  -1.4178   \n",
       "...           ...      ...      ...      ...      ...      ...      ...   \n",
       "1213641  -2.48730 -19.2330  3.46140  0.61967 -0.33771 -0.82711  -8.2348   \n",
       "1213642 -21.59100 -19.4370 -6.04190  0.61967 -0.33771 -0.82711 -21.3180   \n",
       "1213643   7.54330 -19.2450 -2.66800  0.61967 -0.33771 -0.82711 -21.2970   \n",
       "1213644   3.01420 -19.3340 -7.70740  0.71058 -0.27017 -0.75442 -21.1380   \n",
       "1213645  -2.36980 -19.3000 -4.23870  0.71058 -0.27017 -0.75442 -21.1730   \n",
       "\n",
       "             ary      arz      grx       gry       grz  Activity    subject  \n",
       "154060   -6.6402  2.98050 -0.93922  0.090349  0.219830         0   subject1  \n",
       "936066   -7.5497  4.02880 -0.21961 -1.080100  0.303880         0   subject8  \n",
       "167106   -8.5217  3.83430 -0.88431 -0.848050  0.331900         0   subject2  \n",
       "493889   -6.8588  2.11540 -0.35686 -0.854210 -0.415950         0   subject4  \n",
       "355024   -9.5157  1.43050 -0.12353 -0.967150 -0.497840         0   subject3  \n",
       "...          ...      ...      ...       ...       ...       ...        ...  \n",
       "1213641  -4.9652  2.48090 -0.43725 -1.018500  0.079741        12  subject10  \n",
       "1213642 -10.2130  3.65600 -0.43725 -1.018500  0.079741        12  subject10  \n",
       "1213643 -18.7050  4.46060 -0.43725 -1.018500  0.079741        12  subject10  \n",
       "1213644 -18.6980  1.15880 -0.42549 -1.037000  0.084052        12  subject10  \n",
       "1213645 -14.2910 -0.13123 -0.42549 -1.037000  0.084052        12  subject10  \n",
       "\n",
       "[373195 rows x 14 columns]"
      ]
     },
     "execution_count": 21,
     "metadata": {},
     "output_type": "execute_result"
    }
   ],
   "source": [
    "df"
   ]
  },
  {
   "cell_type": "code",
   "execution_count": 22,
   "metadata": {},
   "outputs": [
    {
     "name": "stdout",
     "output_type": "stream",
     "text": [
      "alx range: -11.47312 to 19.233\n",
      "shape (365733, 14)\n",
      "aly range: -19.379 to 2.447871999999997\n",
      "shape (360018, 14)\n",
      "alz range: -18.95 to 14.19623999999999\n",
      "shape (356270, 14)\n",
      "glx range: -0.74212 to 0.80705\n",
      "shape (349377, 14)\n",
      "gly range: -1.0694 to 0.96623\n",
      "shape (342841, 14)\n",
      "glz range: -1.1061 to 0.8290799999999999\n",
      "shape (337391, 14)\n",
      "arx range: -21.492 to 9.097647999999998\n",
      "shape (332307, 14)\n",
      "ary range: -18.694000000000003 to 11.948059999999998\n",
      "shape (326241, 14)\n",
      "arz range: -10.367 to 11.823119999999996\n",
      "shape (323674, 14)\n",
      "grx range: -1.0196 to 0.95686\n",
      "shape (320188, 14)\n",
      "gry range: -1.1417 to 0.90965\n",
      "shape (315352, 14)\n",
      "grz range: -0.69828 to 1.125\n",
      "shape (310929, 14)\n"
     ]
    }
   ],
   "source": [
    "#Dropping feature have data outside 98% confidence interval\n",
    "df1 = df.copy()\n",
    "for feature in df1.columns[:-2]:\n",
    "  lower_range = np.quantile(df[feature],0.01)\n",
    "  upper_range = np.quantile(df[feature],0.99)\n",
    "  print(feature,'range:',lower_range,'to',upper_range)\n",
    "\n",
    "  df1 = df1.drop(df1[(df1[feature]>upper_range) | (df1[feature]<lower_range)].index, axis=0)\n",
    "  print('shape',df1.shape)"
   ]
  },
  {
   "cell_type": "code",
   "execution_count": 23,
   "metadata": {},
   "outputs": [],
   "source": [
    "label_map = {\n",
    "    0: 'Nothing',\n",
    "    1: 'Standing still',  \n",
    "    2: 'Sitting and relaxing', \n",
    "    3: 'Lying down',  \n",
    "    4: 'Walking',  \n",
    "    5: 'Climbing stairs',  \n",
    "    6: 'Waist bends forward',\n",
    "    7: 'Frontal elevation of arms', \n",
    "    8: 'Knees bending (crouching)', \n",
    "    9: 'Cycling', \n",
    "    10: 'Jogging', \n",
    "    11: 'Running', \n",
    "    12: 'Jump front & back' \n",
    "}"
   ]
  },
  {
   "cell_type": "code",
   "execution_count": 24,
   "metadata": {},
   "outputs": [
    {
     "name": "stdout",
     "output_type": "stream",
     "text": [
      "(310929, 14)\n"
     ]
    },
    {
     "data": {
      "text/plain": [
       "((246501, 14), (64428, 14))"
      ]
     },
     "execution_count": 24,
     "metadata": {},
     "output_type": "execute_result"
    }
   ],
   "source": [
    "print(df1.shape)\n",
    "train = df1[(df1['subject'] != 'subject10') & (df1['subject'] != 'subject9')]\n",
    "test = df1.drop(train.index, axis=0)\n",
    "train.shape,test.shape"
   ]
  },
  {
   "cell_type": "code",
   "execution_count": 25,
   "metadata": {},
   "outputs": [
    {
     "data": {
      "text/plain": [
       "((246501, 12), (246501,), (64428, 12), (64428,))"
      ]
     },
     "execution_count": 25,
     "metadata": {},
     "output_type": "execute_result"
    }
   ],
   "source": [
    "X_train = train.drop(['Activity','subject'],axis=1)\n",
    "y_train = train['Activity']\n",
    "X_test = test.drop(['Activity','subject'],axis=1)\n",
    "y_test = test['Activity']\n",
    "X_train.shape,y_train.shape,X_test.shape,y_test.shape"
   ]
  },
  {
   "cell_type": "code",
   "execution_count": 26,
   "metadata": {},
   "outputs": [],
   "source": [
    "from scipy import stats\n",
    "\n",
    "#function to create time series datset for seuence modeling\n",
    "def create_dataset(X, y, time_steps, step=1):\n",
    "    Xs, ys = [], []\n",
    "    for i in range(0, len(X) - time_steps, step):\n",
    "        x = X.iloc[i:(i + time_steps)].values\n",
    "        labels = y.iloc[i: i + time_steps]\n",
    "        Xs.append(x)\n",
    "        ys.append(stats.mode(labels)[0][0])\n",
    "    return np.array(Xs), np.array(ys).reshape(-1, 1)"
   ]
  },
  {
   "cell_type": "code",
   "execution_count": 27,
   "metadata": {},
   "outputs": [
    {
     "data": {
      "text/plain": [
       "((4929, 100, 12), (4929, 1))"
      ]
     },
     "execution_count": 27,
     "metadata": {},
     "output_type": "execute_result"
    }
   ],
   "source": [
    "X_train_copy ,y_train_copy = create_dataset(X_train, y_train, 100, step=50)\n",
    "X_train_copy.shape, y_train_copy.shape"
   ]
  },
  {
   "cell_type": "code",
   "execution_count": 28,
   "metadata": {},
   "outputs": [
    {
     "data": {
      "text/plain": [
       "((1287, 100, 12), (1287, 1))"
      ]
     },
     "execution_count": 28,
     "metadata": {},
     "output_type": "execute_result"
    }
   ],
   "source": [
    "X_test_copy,y_test_copy = create_dataset(X_test, y_test, 100, step=50)\n",
    "X_test_copy.shape, y_test_copy.shape"
   ]
  },
  {
   "cell_type": "code",
   "execution_count": 55,
   "metadata": {},
   "outputs": [],
   "source": [
    "model = keras.Sequential()\n",
    "model.add(layers.Input(shape=[100,12]))\n",
    "model.add(layers.Conv1D(filters=32, kernel_size=3, padding=\"same\"))\n",
    "model.add(layers.BatchNormalization())\n",
    "model.add(layers.ReLU())\n",
    "model.add(layers.Conv1D(filters=64, kernel_size=3, padding=\"same\"))\n",
    "model.add(layers.BatchNormalization())\n",
    "model.add(layers.ReLU())\n",
    "model.add(layers.MaxPool1D(2))\n",
    "model.add(layers.LSTM(64))\n",
    "model.add(layers.Dense(units=128, activation='relu'))\n",
    "model.add(layers.Dense(13, activation='softmax'))"
   ]
  },
  {
   "cell_type": "code",
   "execution_count": 63,
   "metadata": {},
   "outputs": [
    {
     "data": {
      "text/plain": [
       "Net(\n",
       "  (conv1): Conv1d(100, 32, kernel_size=(3,), stride=(1,), padding=(1,))\n",
       "  (bn1): BatchNorm1d(32, eps=1e-05, momentum=0.1, affine=True, track_running_stats=True)\n",
       "  (conv2): Conv1d(32, 64, kernel_size=(3,), stride=(1,), padding=(1,))\n",
       "  (bn2): BatchNorm1d(64, eps=1e-05, momentum=0.1, affine=True, track_running_stats=True)\n",
       "  (max_pool): MaxPool1d(kernel_size=2, stride=2, padding=0, dilation=1, ceil_mode=False)\n",
       "  (lstm): LSTM(64, 64, batch_first=True)\n",
       "  (fc1): Linear(in_features=64, out_features=128, bias=True)\n",
       "  (fc2): Linear(in_features=128, out_features=13, bias=True)\n",
       ")"
      ]
     },
     "execution_count": 63,
     "metadata": {},
     "output_type": "execute_result"
    }
   ],
   "source": [
    "model"
   ]
  },
  {
   "cell_type": "code",
   "execution_count": 71,
   "metadata": {},
   "outputs": [],
   "source": [
    "class Net(nn.Module):\n",
    "    def __init__(self):\n",
    "        super(Net, self).__init__()\n",
    "        \n",
    "        self.conv1 = nn.Conv1d(in_channels=100, out_channels=32, kernel_size=3, padding=1)\n",
    "        self.bn1 = nn.BatchNorm1d(num_features=32)\n",
    "        \n",
    "        self.conv2 = nn.Conv1d(in_channels=32, out_channels=64, kernel_size=3, padding=1)\n",
    "        self.bn2 = nn.BatchNorm1d(num_features=64)\n",
    "        \n",
    "        self.max_pool = nn.MaxPool1d(kernel_size=2)\n",
    "        \n",
    "        self.lstm = nn.LSTM(input_size=64, hidden_size=64, batch_first=True)\n",
    "        \n",
    "        self.fc1 = nn.Linear(in_features=64, out_features=128)\n",
    "        self.fc2 = nn.Linear(in_features=128, out_features=13)\n",
    "        \n",
    "    def forward(self, x):\n",
    "        x = self.conv1(x)\n",
    "        x = self.bn1(x)\n",
    "        x = F.relu(x)\n",
    "        \n",
    "        x = self.conv2(x)\n",
    "        x = self.bn2(x)\n",
    "        x = F.relu(x)\n",
    "        \n",
    "        x = self.max_pool(x)\n",
    "        \n",
    "        x = x.permute(0, 2, 1) # Permute to match LSTM input shape\n",
    "        x, _ = self.lstm(x)\n",
    "        x = x[:, -1, :] # Only take the last output of the LSTM\n",
    "        \n",
    "        x = self.fc1(x)\n",
    "        x = F.relu(x)\n",
    "        \n",
    "        x = self.fc2(x)\n",
    "        x = F.softmax(x, dim=1)\n",
    "        \n",
    "        return x"
   ]
  },
  {
   "cell_type": "code",
   "execution_count": 72,
   "metadata": {},
   "outputs": [],
   "source": [
    "model = Net().to(DEVICE)"
   ]
  },
  {
   "cell_type": "code",
   "execution_count": 73,
   "metadata": {},
   "outputs": [
    {
     "data": {
      "text/plain": [
       "Net(\n",
       "  (conv1): Conv1d(100, 32, kernel_size=(3,), stride=(1,), padding=(1,))\n",
       "  (bn1): BatchNorm1d(32, eps=1e-05, momentum=0.1, affine=True, track_running_stats=True)\n",
       "  (conv2): Conv1d(32, 64, kernel_size=(3,), stride=(1,), padding=(1,))\n",
       "  (bn2): BatchNorm1d(64, eps=1e-05, momentum=0.1, affine=True, track_running_stats=True)\n",
       "  (max_pool): MaxPool1d(kernel_size=2, stride=2, padding=0, dilation=1, ceil_mode=False)\n",
       "  (lstm): LSTM(64, 64, batch_first=True)\n",
       "  (fc1): Linear(in_features=64, out_features=128, bias=True)\n",
       "  (fc2): Linear(in_features=128, out_features=13, bias=True)\n",
       ")"
      ]
     },
     "execution_count": 73,
     "metadata": {},
     "output_type": "execute_result"
    }
   ],
   "source": [
    "model"
   ]
  },
  {
   "cell_type": "code",
   "execution_count": 74,
   "metadata": {},
   "outputs": [
    {
     "data": {
      "text/plain": [
       "(torch.Size([4929, 100, 12]),\n",
       " torch.Size([4929, 1]),\n",
       " torch.Size([1287, 100, 12]),\n",
       " torch.Size([1287, 1]))"
      ]
     },
     "execution_count": 74,
     "metadata": {},
     "output_type": "execute_result"
    }
   ],
   "source": [
    "loss_fn = nn.CrossEntropyLoss()\n",
    "optimizer = torch.optim.Adam(model.parameters(), lr=0.001)\n",
    "\n",
    "X_train1 = torch.from_numpy(X_train_copy).float().to(DEVICE)\n",
    "y_train1 = torch.from_numpy(y_train_copy).long().to(DEVICE)\n",
    "\n",
    "X_test1 = torch.from_numpy(X_test_copy).float().to(DEVICE)\n",
    "y_test1 = torch.from_numpy(y_test_copy).long().to(DEVICE)\n",
    "\n",
    "X_train1.shape, y_train1.shape, X_test1.shape, y_test1.shape"
   ]
  },
  {
   "cell_type": "code",
   "execution_count": 75,
   "metadata": {},
   "outputs": [
    {
     "data": {
      "text/plain": [
       "tensor([[[ -0.6864,  -5.2902,   4.6453,  ...,  -0.9392,   0.0903,   0.2198],\n",
       "         [  1.0003,  -7.7902,  -6.7441,  ...,  -0.2196,  -1.0801,   0.3039],\n",
       "         [  1.5322,  -9.5966,  -0.2562,  ...,  -0.8843,  -0.8480,   0.3319],\n",
       "         ...,\n",
       "         [  3.6543,  -9.0272,  -0.7377,  ...,  -0.0902,  -0.8727,  -0.6703],\n",
       "         [  0.9086,  -9.5871,   1.6860,  ...,  -0.6882,  -0.8275,   0.0905],\n",
       "         [  0.3465,  -7.6891,  -0.5893,  ...,  -0.1765,  -1.0267,  -0.3944]],\n",
       "\n",
       "        [[  0.8306,  -5.2852,  -0.7976,  ...,  -0.1863,  -0.7680,   0.8922],\n",
       "         [  2.0891,  -9.5404,   1.4085,  ...,  -0.1863,   0.0308,   1.1228],\n",
       "         [  0.3504,  -8.0943,   2.4530,  ...,  -0.7490,   0.2382,   0.5172],\n",
       "         ...,\n",
       "         [-11.3560,  -8.9798,  -8.8751,  ...,  -0.3823,  -0.6037,  -0.5840],\n",
       "         [  1.9896, -10.3180,  -0.1314,  ...,  -0.5941,   0.1725,   1.0108],\n",
       "         [ -0.0558,  -9.4624,   1.2867,  ...,  -0.2000,  -0.7988,   0.8082]],\n",
       "\n",
       "        [[  0.1517,  -9.7090,   1.3807,  ...,  -0.8745,  -0.6058,  -0.0323],\n",
       "         [  3.9136,  -6.8346,  -4.2505,  ...,  -0.3118,  -0.4497,   1.0216],\n",
       "         [  1.1436,  -9.6468,   1.6541,  ...,  -0.0373,  -1.0390,  -0.3901],\n",
       "         ...,\n",
       "         [  3.9128,  -9.2538,  -0.6319,  ...,  -0.4529,  -0.6838,   0.8384],\n",
       "         [  0.2074,  -9.7943,   1.7624,  ...,  -0.3235,  -0.9261,  -0.4203],\n",
       "         [  0.6810, -11.3610,  -1.4258,  ...,  -0.0490,  -1.1376,   0.3901]],\n",
       "\n",
       "        ...,\n",
       "\n",
       "        [[  0.4968, -11.3270, -18.7910,  ...,  -0.6294,   0.2649,   0.9569],\n",
       "         [  4.8460,   0.2335, -18.2320,  ...,  -0.7372,   0.0246,   0.9073],\n",
       "         [ -3.0416,  -3.0557, -18.4440,  ...,  -0.7372,   0.0246,   0.9073],\n",
       "         ...,\n",
       "         [ -0.1875,  -8.0577, -18.6440,  ...,  -0.5490,   0.1088,   1.0323],\n",
       "         [  7.7780, -14.5320,   8.1637,  ...,  -0.7863,  -0.0595,   0.8384],\n",
       "         [ 18.4030, -12.5450, -10.9740,  ...,  -0.7980,   0.1027,   0.8039]],\n",
       "\n",
       "        [[  9.9573, -10.4630, -11.6740,  ...,  -0.8843,   0.0390,   0.6897],\n",
       "         [  9.3952,  -3.5656, -12.0010,  ...,  -0.8843,   0.0390,   0.6897],\n",
       "         [  9.0974, -11.2720,  -0.5143,  ...,  -0.6392,   0.6119,   0.7371],\n",
       "         ...,\n",
       "         [ 13.0060, -19.0660,  13.1770,  ...,  -0.6843,   0.6345,  -0.5065],\n",
       "         [ 18.6870, -15.5750,  -3.9981,  ...,  -0.7039,   0.3901,  -0.6875],\n",
       "         [ -6.4018, -19.1560,  13.1140,  ...,  -0.7372,   0.2936,  -0.6897]],\n",
       "\n",
       "        [[ -0.2274,  -8.0010,   0.8893,  ...,  -0.6098,   0.5154,   0.8276],\n",
       "         [  9.0041, -12.7240,  -3.1295,  ...,  -0.6098,   0.5154,   0.8276],\n",
       "         [  7.8632, -12.4730,  -4.7221,  ...,  -0.6098,   0.5154,   0.8276],\n",
       "         ...,\n",
       "         [  5.7282,  -1.1482,  -6.8960,  ...,  -0.7078,   0.4353,  -0.6832],\n",
       "         [  7.2772,  -1.4694,  -4.3653,  ...,  -0.7412,   0.3634,  -0.6638],\n",
       "         [  4.2217, -18.8880,   3.2853,  ...,  -0.7235,   0.2936,  -0.6875]]],\n",
       "       device='cuda:0')"
      ]
     },
     "execution_count": 75,
     "metadata": {},
     "output_type": "execute_result"
    }
   ],
   "source": [
    "X_train1"
   ]
  },
  {
   "cell_type": "code",
   "execution_count": 76,
   "metadata": {},
   "outputs": [
    {
     "name": "stderr",
     "output_type": "stream",
     "text": [
      "  3%|▎         | 3/100 [00:00<00:05, 18.98it/s]"
     ]
    },
    {
     "name": "stdout",
     "output_type": "stream",
     "text": [
      "Epoch: 0 Train Loss: 2.5650 Train Acc: 0.1674 Test Acc: 0.2036\n",
      "Epoch: 1 Train Loss: 2.5637 Train Acc: 0.1601 Test Acc: 0.2067\n",
      "Epoch: 2 Train Loss: 2.5625 Train Acc: 0.1580 Test Acc: 0.2168\n",
      "Epoch: 3 Train Loss: 2.5612 Train Acc: 0.1887 Test Acc: 0.2385\n"
     ]
    },
    {
     "name": "stderr",
     "output_type": "stream",
     "text": [
      "  9%|▉         | 9/100 [00:00<00:03, 25.23it/s]"
     ]
    },
    {
     "name": "stdout",
     "output_type": "stream",
     "text": [
      "Epoch: 4 Train Loss: 2.5598 Train Acc: 0.1864 Test Acc: 0.2230\n",
      "Epoch: 5 Train Loss: 2.5582 Train Acc: 0.1804 Test Acc: 0.1989\n",
      "Epoch: 6 Train Loss: 2.5562 Train Acc: 0.1952 Test Acc: 0.1841\n",
      "Epoch: 7 Train Loss: 2.5541 Train Acc: 0.2128 Test Acc: 0.1515\n",
      "Epoch: 8 Train Loss: 2.5515 Train Acc: 0.2439 Test Acc: 0.2028\n",
      "Epoch: 9 Train Loss: 2.5484 Train Acc: 0.2552 Test Acc: 0.2044\n",
      "Epoch: 10 Train Loss: 2.5448 Train Acc: 0.2844 Test Acc: 0.2020\n"
     ]
    },
    {
     "name": "stderr",
     "output_type": "stream",
     "text": [
      " 17%|█▋        | 17/100 [00:00<00:02, 31.04it/s]"
     ]
    },
    {
     "name": "stdout",
     "output_type": "stream",
     "text": [
      "Epoch: 11 Train Loss: 2.5406 Train Acc: 0.2917 Test Acc: 0.1981\n",
      "Epoch: 12 Train Loss: 2.5358 Train Acc: 0.3041 Test Acc: 0.2510\n",
      "Epoch: 13 Train Loss: 2.5302 Train Acc: 0.2952 Test Acc: 0.2626\n",
      "Epoch: 14 Train Loss: 2.5237 Train Acc: 0.2853 Test Acc: 0.2696\n",
      "Epoch: 15 Train Loss: 2.5164 Train Acc: 0.2944 Test Acc: 0.2704\n",
      "Epoch: 16 Train Loss: 2.5082 Train Acc: 0.3132 Test Acc: 0.3077\n",
      "Epoch: 17 Train Loss: 2.4992 Train Acc: 0.2990 Test Acc: 0.2836\n"
     ]
    },
    {
     "name": "stderr",
     "output_type": "stream",
     "text": [
      " 25%|██▌       | 25/100 [00:00<00:02, 33.54it/s]"
     ]
    },
    {
     "name": "stdout",
     "output_type": "stream",
     "text": [
      "Epoch: 18 Train Loss: 2.4895 Train Acc: 0.2767 Test Acc: 0.2844\n",
      "Epoch: 19 Train Loss: 2.4794 Train Acc: 0.2672 Test Acc: 0.2844\n",
      "Epoch: 20 Train Loss: 2.4692 Train Acc: 0.2627 Test Acc: 0.2844\n",
      "Epoch: 21 Train Loss: 2.4592 Train Acc: 0.2633 Test Acc: 0.2844\n",
      "Epoch: 22 Train Loss: 2.4495 Train Acc: 0.2633 Test Acc: 0.2844\n",
      "Epoch: 23 Train Loss: 2.4401 Train Acc: 0.2635 Test Acc: 0.2844\n",
      "Epoch: 24 Train Loss: 2.4311 Train Acc: 0.2635 Test Acc: 0.2844\n",
      "Epoch: 25 Train Loss: 2.4222 Train Acc: 0.2637 Test Acc: 0.2844\n"
     ]
    },
    {
     "name": "stderr",
     "output_type": "stream",
     "text": [
      " 33%|███▎      | 33/100 [00:01<00:01, 35.31it/s]"
     ]
    },
    {
     "name": "stdout",
     "output_type": "stream",
     "text": [
      "Epoch: 26 Train Loss: 2.4135 Train Acc: 0.2639 Test Acc: 0.2844\n",
      "Epoch: 27 Train Loss: 2.4046 Train Acc: 0.2642 Test Acc: 0.2844\n",
      "Epoch: 28 Train Loss: 2.3955 Train Acc: 0.2654 Test Acc: 0.2875\n",
      "Epoch: 29 Train Loss: 2.3865 Train Acc: 0.2715 Test Acc: 0.2914\n",
      "Epoch: 30 Train Loss: 2.3776 Train Acc: 0.2812 Test Acc: 0.2976\n",
      "Epoch: 31 Train Loss: 2.3690 Train Acc: 0.2905 Test Acc: 0.3077\n",
      "Epoch: 32 Train Loss: 2.3600 Train Acc: 0.3009 Test Acc: 0.3256\n",
      "Epoch: 33 Train Loss: 2.3508 Train Acc: 0.3161 Test Acc: 0.3349\n"
     ]
    },
    {
     "name": "stderr",
     "output_type": "stream",
     "text": [
      " 41%|████      | 41/100 [00:01<00:01, 36.43it/s]"
     ]
    },
    {
     "name": "stdout",
     "output_type": "stream",
     "text": [
      "Epoch: 34 Train Loss: 2.3409 Train Acc: 0.3352 Test Acc: 0.3473\n",
      "Epoch: 35 Train Loss: 2.3306 Train Acc: 0.3709 Test Acc: 0.3737\n",
      "Epoch: 36 Train Loss: 2.3203 Train Acc: 0.3885 Test Acc: 0.3963\n",
      "Epoch: 37 Train Loss: 2.3094 Train Acc: 0.4256 Test Acc: 0.4577\n",
      "Epoch: 38 Train Loss: 2.2976 Train Acc: 0.4480 Test Acc: 0.4911\n",
      "Epoch: 39 Train Loss: 2.2855 Train Acc: 0.4538 Test Acc: 0.4996\n",
      "Epoch: 40 Train Loss: 2.2724 Train Acc: 0.4733 Test Acc: 0.5152\n",
      "Epoch: 41 Train Loss: 2.2594 Train Acc: 0.4784 Test Acc: 0.5167\n"
     ]
    },
    {
     "name": "stderr",
     "output_type": "stream",
     "text": [
      " 49%|████▉     | 49/100 [00:01<00:01, 36.73it/s]"
     ]
    },
    {
     "name": "stdout",
     "output_type": "stream",
     "text": [
      "Epoch: 42 Train Loss: 2.2467 Train Acc: 0.4825 Test Acc: 0.5190\n",
      "Epoch: 43 Train Loss: 2.2351 Train Acc: 0.4827 Test Acc: 0.5152\n",
      "Epoch: 44 Train Loss: 2.2244 Train Acc: 0.4865 Test Acc: 0.5190\n",
      "Epoch: 45 Train Loss: 2.2141 Train Acc: 0.4863 Test Acc: 0.5214\n",
      "Epoch: 46 Train Loss: 2.2040 Train Acc: 0.4871 Test Acc: 0.5206\n",
      "Epoch: 47 Train Loss: 2.1942 Train Acc: 0.4881 Test Acc: 0.5198\n",
      "Epoch: 48 Train Loss: 2.1844 Train Acc: 0.4869 Test Acc: 0.5167\n",
      "Epoch: 49 Train Loss: 2.1753 Train Acc: 0.4867 Test Acc: 0.5245\n"
     ]
    },
    {
     "name": "stderr",
     "output_type": "stream",
     "text": [
      " 57%|█████▋    | 57/100 [00:01<00:01, 36.98it/s]"
     ]
    },
    {
     "name": "stdout",
     "output_type": "stream",
     "text": [
      "Epoch: 50 Train Loss: 2.1692 Train Acc: 0.4940 Test Acc: 0.5330\n",
      "Epoch: 51 Train Loss: 2.1576 Train Acc: 0.5070 Test Acc: 0.5835\n",
      "Epoch: 52 Train Loss: 2.1450 Train Acc: 0.3972 Test Acc: 0.4095\n",
      "Epoch: 53 Train Loss: 2.1466 Train Acc: 0.5890 Test Acc: 0.6333\n",
      "Epoch: 54 Train Loss: 2.1228 Train Acc: 0.6070 Test Acc: 0.6791\n",
      "Epoch: 55 Train Loss: 2.1172 Train Acc: 0.6470 Test Acc: 0.6799\n",
      "Epoch: 56 Train Loss: 2.0973 Train Acc: 0.4782 Test Acc: 0.4328\n",
      "Epoch: 57 Train Loss: 2.0942 Train Acc: 0.5827 Test Acc: 0.6123\n"
     ]
    },
    {
     "name": "stderr",
     "output_type": "stream",
     "text": [
      " 65%|██████▌   | 65/100 [00:01<00:00, 36.26it/s]"
     ]
    },
    {
     "name": "stdout",
     "output_type": "stream",
     "text": [
      "Epoch: 58 Train Loss: 2.0769 Train Acc: 0.7377 Test Acc: 0.7133\n",
      "Epoch: 59 Train Loss: 2.0575 Train Acc: 0.7279 Test Acc: 0.7156\n",
      "Epoch: 60 Train Loss: 2.0508 Train Acc: 0.7389 Test Acc: 0.6752\n",
      "Epoch: 61 Train Loss: 2.0313 Train Acc: 0.6892 Test Acc: 0.6200\n",
      "Epoch: 62 Train Loss: 2.0290 Train Acc: 0.7306 Test Acc: 0.7086\n",
      "Epoch: 63 Train Loss: 2.0040 Train Acc: 0.7221 Test Acc: 0.7047\n",
      "Epoch: 64 Train Loss: 1.9935 Train Acc: 0.7395 Test Acc: 0.7211\n",
      "Epoch: 65 Train Loss: 1.9732 Train Acc: 0.7241 Test Acc: 0.6294\n"
     ]
    },
    {
     "name": "stderr",
     "output_type": "stream",
     "text": [
      " 73%|███████▎  | 73/100 [00:02<00:00, 36.74it/s]"
     ]
    },
    {
     "name": "stdout",
     "output_type": "stream",
     "text": [
      "Epoch: 66 Train Loss: 1.9620 Train Acc: 0.7651 Test Acc: 0.6908\n",
      "Epoch: 67 Train Loss: 1.9433 Train Acc: 0.7738 Test Acc: 0.6799\n",
      "Epoch: 68 Train Loss: 1.9342 Train Acc: 0.7910 Test Acc: 0.7203\n",
      "Epoch: 69 Train Loss: 1.9239 Train Acc: 0.7971 Test Acc: 0.7009\n",
      "Epoch: 70 Train Loss: 1.9123 Train Acc: 0.7894 Test Acc: 0.6915\n",
      "Epoch: 71 Train Loss: 1.9033 Train Acc: 0.8162 Test Acc: 0.7529\n",
      "Epoch: 72 Train Loss: 1.8940 Train Acc: 0.8221 Test Acc: 0.7615\n",
      "Epoch: 73 Train Loss: 1.8879 Train Acc: 0.8255 Test Acc: 0.7653\n"
     ]
    },
    {
     "name": "stderr",
     "output_type": "stream",
     "text": [
      " 81%|████████  | 81/100 [00:02<00:00, 37.11it/s]"
     ]
    },
    {
     "name": "stdout",
     "output_type": "stream",
     "text": [
      "Epoch: 74 Train Loss: 1.8819 Train Acc: 0.8294 Test Acc: 0.7677\n",
      "Epoch: 75 Train Loss: 1.8741 Train Acc: 0.8320 Test Acc: 0.7700\n",
      "Epoch: 76 Train Loss: 1.8690 Train Acc: 0.8365 Test Acc: 0.7723\n",
      "Epoch: 77 Train Loss: 1.8641 Train Acc: 0.8405 Test Acc: 0.7770\n",
      "Epoch: 78 Train Loss: 1.8605 Train Acc: 0.8444 Test Acc: 0.7848\n",
      "Epoch: 79 Train Loss: 1.8567 Train Acc: 0.8468 Test Acc: 0.7972\n",
      "Epoch: 80 Train Loss: 1.8539 Train Acc: 0.8489 Test Acc: 0.7995\n",
      "Epoch: 81 Train Loss: 1.8512 Train Acc: 0.8507 Test Acc: 0.8011\n"
     ]
    },
    {
     "name": "stderr",
     "output_type": "stream",
     "text": [
      " 89%|████████▉ | 89/100 [00:02<00:00, 37.12it/s]"
     ]
    },
    {
     "name": "stdout",
     "output_type": "stream",
     "text": [
      "Epoch: 82 Train Loss: 1.8490 Train Acc: 0.8521 Test Acc: 0.8019\n",
      "Epoch: 83 Train Loss: 1.8469 Train Acc: 0.8537 Test Acc: 0.8081\n",
      "Epoch: 84 Train Loss: 1.8451 Train Acc: 0.8549 Test Acc: 0.8135\n",
      "Epoch: 85 Train Loss: 1.8436 Train Acc: 0.8551 Test Acc: 0.8197\n",
      "Epoch: 86 Train Loss: 1.8422 Train Acc: 0.8555 Test Acc: 0.8213\n",
      "Epoch: 87 Train Loss: 1.8412 Train Acc: 0.8560 Test Acc: 0.8252\n",
      "Epoch: 88 Train Loss: 1.8403 Train Acc: 0.8562 Test Acc: 0.8283\n",
      "Epoch: 89 Train Loss: 1.8394 Train Acc: 0.8560 Test Acc: 0.8291\n"
     ]
    },
    {
     "name": "stderr",
     "output_type": "stream",
     "text": [
      " 97%|█████████▋| 97/100 [00:02<00:00, 37.33it/s]"
     ]
    },
    {
     "name": "stdout",
     "output_type": "stream",
     "text": [
      "Epoch: 90 Train Loss: 1.8387 Train Acc: 0.8564 Test Acc: 0.8275\n",
      "Epoch: 91 Train Loss: 1.8380 Train Acc: 0.8566 Test Acc: 0.8275\n",
      "Epoch: 92 Train Loss: 1.8373 Train Acc: 0.8566 Test Acc: 0.8267\n",
      "Epoch: 93 Train Loss: 1.8367 Train Acc: 0.8568 Test Acc: 0.8291\n",
      "Epoch: 94 Train Loss: 1.8362 Train Acc: 0.8570 Test Acc: 0.8298\n",
      "Epoch: 95 Train Loss: 1.8357 Train Acc: 0.8576 Test Acc: 0.8314\n",
      "Epoch: 96 Train Loss: 1.8352 Train Acc: 0.8578 Test Acc: 0.8322\n",
      "Epoch: 97 Train Loss: 1.8349 Train Acc: 0.8580 Test Acc: 0.8329\n"
     ]
    },
    {
     "name": "stderr",
     "output_type": "stream",
     "text": [
      "100%|██████████| 100/100 [00:02<00:00, 34.93it/s]\n"
     ]
    },
    {
     "name": "stdout",
     "output_type": "stream",
     "text": [
      "Epoch: 98 Train Loss: 1.8345 Train Acc: 0.8580 Test Acc: 0.8337\n",
      "Epoch: 99 Train Loss: 1.8342 Train Acc: 0.8578 Test Acc: 0.8337\n"
     ]
    },
    {
     "data": {
      "image/png": "[encoded data removed]",
      "text/plain": [
       "<Figure size 640x480 with 1 Axes>"
      ]
     },
     "metadata": {},
     "output_type": "display_data"
    }
   ],
   "source": [
    "from sklearn.metrics import confusion_matrix, classification_report, accuracy_score\n",
    "\n",
    "def train(model, X_train, y_train, X_test, y_test, optimizer, loss_fn, epochs=10):\n",
    "    train_acc = []\n",
    "    test_acc = []\n",
    "    train_loss =[]\n",
    "    test_loss = []\n",
    "    for epoch in tqdm(range(epochs)):\n",
    "        model.train()\n",
    "        optimizer.zero_grad()\n",
    "        y_pred = model(X_train)\n",
    "        loss = loss_fn(y_pred, y_train.squeeze())\n",
    "        loss.backward()\n",
    "        optimizer.step()\n",
    "        model.eval()\n",
    "        with torch.no_grad():\n",
    "            y_pred_train = model(X_train)\n",
    "            y_pred_test = model(X_test)\n",
    "            train_acc.append(accuracy_score(y_train.cpu(), y_pred_train.cpu().argmax(1)))\n",
    "            test_acc.append(accuracy_score(y_test.cpu(), y_pred_test.cpu().argmax(1)))\n",
    "            train_loss.append(loss.item())\n",
    "            print('Epoch: {} Train Loss: {:.4f} Train Acc: {:.4f} Test Acc: {:.4f}'.format(epoch, loss.item(), train_acc[-1], test_acc[-1]))\n",
    "    return train_acc, test_acc, train_loss\n",
    "\n",
    "\n",
    "train_acc, test_acc, train_loss = train(model, X_train1, y_train1, X_test1, y_test1, optimizer, loss_fn, epochs=100)\n",
    "\n",
    "plt.plot(train_acc, label='train', color = 'b')\n",
    "\n",
    "plt.plot(test_acc, label='test', color = 'r')\n",
    "\n",
    "plt.plot(train_loss, label = 'train_loss', color = 'yellow')\n",
    "\n",
    "plt.legend()\n",
    "\n",
    "plt.show()\n",
    "\n"
   ]
  }
 ],
 "metadata": {
  "kernelspec": {
   "display_name": "env",
   "language": "python",
   "name": "python3"
  },
  "language_info": {
   "codemirror_mode": {
    "name": "ipython",
    "version": 3
   },
   "file_extension": ".py",
   "mimetype": "text/x-python",
   "name": "python",
   "nbconvert_exporter": "python",
   "pygments_lexer": "ipython3",
   "version": "3.7.16"
  },
  "orig_nbformat": 4
 },
 "nbformat": 4,
 "nbformat_minor": 2
}

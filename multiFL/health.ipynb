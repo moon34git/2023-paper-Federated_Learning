{
 "cells": [
  {
   "cell_type": "code",
   "execution_count": 110,
   "metadata": {},
   "outputs": [],
   "source": [
    "import numpy as np\n",
    "import pandas as pd\n",
    "import seaborn as sns\n",
    "import matplotlib.pyplot as plt\n",
    "import torch\n",
    "import pickle\n",
    "import os\n",
    "import torch.nn as nn\n",
    "from tqdm import tqdm\n",
    "import torch.nn.functional as F\n",
    "\n",
    "os.environ['CUDA_DEVICE_ORDER'] = 'PCI_BUS_ID'\n",
    "os.environ['CUDA_VISIBLE_DEVICES'] = '2'\n",
    "%matplotlib inline\n",
    "\n",
    "DEVICE = torch.device(\"cuda\" if torch.cuda.is_available() else \"cpu\")"
   ]
  },
  {
   "cell_type": "code",
   "execution_count": 132,
   "metadata": {},
   "outputs": [],
   "source": [
    "with open('../Data/mHealth/mhealth_raw_data.pickle', 'rb') as f:\n",
    "    df = pickle.load(f)"
   ]
  },
  {
   "cell_type": "code",
   "execution_count": 133,
   "metadata": {},
   "outputs": [
    {
     "data": {
      "text/plain": [
       "<AxesSubplot:>"
      ]
     },
     "execution_count": 133,
     "metadata": {},
     "output_type": "execute_result"
    },
    {
     "data": {
      "image/png": "[encoded data removed]",
      "text/plain": [
       "<Figure size 640x480 with 1 Axes>"
      ]
     },
     "metadata": {},
     "output_type": "display_data"
    }
   ],
   "source": [
    "df['Activity'].plot()"
   ]
  },
  {
   "cell_type": "code",
   "execution_count": null,
   "metadata": {},
   "outputs": [],
   "source": []
  },
  {
   "cell_type": "code",
   "execution_count": 134,
   "metadata": {},
   "outputs": [
    {
     "data": {
      "text/plain": [
       "1     30720\n",
       "2     30720\n",
       "3     30720\n",
       "4     30720\n",
       "9     30720\n",
       "10    30720\n",
       "11    30720\n",
       "5     30720\n",
       "0     30000\n",
       "7     29441\n",
       "8     29337\n",
       "6     28315\n",
       "12    10342\n",
       "Name: Activity, dtype: int64"
      ]
     },
     "execution_count": 134,
     "metadata": {},
     "output_type": "execute_result"
    }
   ],
   "source": [
    "from sklearn.utils import resample\n",
    " \n",
    "df_majority = df[df.Activity==0]\n",
    "df_minorities = df[df.Activity!=0]\n",
    " \n",
    "df_majority_downsampled = resample(df_majority,n_samples=30000, random_state=42)\n",
    "df = pd.concat([df_majority_downsampled, df_minorities])\n",
    "df.Activity.value_counts()"
   ]
  },
  {
   "cell_type": "code",
   "execution_count": 135,
   "metadata": {},
   "outputs": [
    {
     "data": {
      "text/html": [
       "<div>\n",
       "<style scoped>\n",
       "    .dataframe tbody tr th:only-of-type {\n",
       "        vertical-align: middle;\n",
       "    }\n",
       "\n",
       "    .dataframe tbody tr th {\n",
       "        vertical-align: top;\n",
       "    }\n",
       "\n",
       "    .dataframe thead th {\n",
       "        text-align: right;\n",
       "    }\n",
       "</style>\n",
       "<table border=\"1\" class=\"dataframe\">\n",
       "  <thead>\n",
       "    <tr style=\"text-align: right;\">\n",
       "      <th></th>\n",
       "      <th>alx</th>\n",
       "      <th>aly</th>\n",
       "      <th>alz</th>\n",
       "      <th>glx</th>\n",
       "      <th>gly</th>\n",
       "      <th>glz</th>\n",
       "      <th>arx</th>\n",
       "      <th>ary</th>\n",
       "      <th>arz</th>\n",
       "      <th>grx</th>\n",
       "      <th>gry</th>\n",
       "      <th>grz</th>\n",
       "      <th>Activity</th>\n",
       "      <th>subject</th>\n",
       "    </tr>\n",
       "  </thead>\n",
       "  <tbody>\n",
       "    <tr>\n",
       "      <th>154060</th>\n",
       "      <td>-0.68636</td>\n",
       "      <td>-5.2902</td>\n",
       "      <td>4.64530</td>\n",
       "      <td>0.13544</td>\n",
       "      <td>-0.83114</td>\n",
       "      <td>-0.13163</td>\n",
       "      <td>-8.4230</td>\n",
       "      <td>-6.6402</td>\n",
       "      <td>2.98050</td>\n",
       "      <td>-0.93922</td>\n",
       "      <td>0.090349</td>\n",
       "      <td>0.219830</td>\n",
       "      <td>0</td>\n",
       "      <td>subject1</td>\n",
       "    </tr>\n",
       "    <tr>\n",
       "      <th>936066</th>\n",
       "      <td>1.00030</td>\n",
       "      <td>-7.7902</td>\n",
       "      <td>-6.74410</td>\n",
       "      <td>-0.26531</td>\n",
       "      <td>-0.14447</td>\n",
       "      <td>-1.09820</td>\n",
       "      <td>2.2046</td>\n",
       "      <td>-7.5497</td>\n",
       "      <td>4.02880</td>\n",
       "      <td>-0.21961</td>\n",
       "      <td>-1.080100</td>\n",
       "      <td>0.303880</td>\n",
       "      <td>0</td>\n",
       "      <td>subject8</td>\n",
       "    </tr>\n",
       "    <tr>\n",
       "      <th>167106</th>\n",
       "      <td>1.53220</td>\n",
       "      <td>-9.5966</td>\n",
       "      <td>-0.25618</td>\n",
       "      <td>-0.27273</td>\n",
       "      <td>-0.75985</td>\n",
       "      <td>0.63654</td>\n",
       "      <td>-2.5898</td>\n",
       "      <td>-8.5217</td>\n",
       "      <td>3.83430</td>\n",
       "      <td>-0.88431</td>\n",
       "      <td>-0.848050</td>\n",
       "      <td>0.331900</td>\n",
       "      <td>0</td>\n",
       "      <td>subject2</td>\n",
       "    </tr>\n",
       "    <tr>\n",
       "      <th>493889</th>\n",
       "      <td>1.78090</td>\n",
       "      <td>-8.5942</td>\n",
       "      <td>-3.97440</td>\n",
       "      <td>-0.41002</td>\n",
       "      <td>-0.55535</td>\n",
       "      <td>-0.78389</td>\n",
       "      <td>-1.0049</td>\n",
       "      <td>-6.8588</td>\n",
       "      <td>2.11540</td>\n",
       "      <td>-0.35686</td>\n",
       "      <td>-0.854210</td>\n",
       "      <td>-0.415950</td>\n",
       "      <td>0</td>\n",
       "      <td>subject4</td>\n",
       "    </tr>\n",
       "    <tr>\n",
       "      <th>355024</th>\n",
       "      <td>-0.34940</td>\n",
       "      <td>-9.5201</td>\n",
       "      <td>1.45800</td>\n",
       "      <td>-0.68275</td>\n",
       "      <td>-0.77861</td>\n",
       "      <td>-0.24558</td>\n",
       "      <td>-1.4178</td>\n",
       "      <td>-9.5157</td>\n",
       "      <td>1.43050</td>\n",
       "      <td>-0.12353</td>\n",
       "      <td>-0.967150</td>\n",
       "      <td>-0.497840</td>\n",
       "      <td>0</td>\n",
       "      <td>subject3</td>\n",
       "    </tr>\n",
       "    <tr>\n",
       "      <th>...</th>\n",
       "      <td>...</td>\n",
       "      <td>...</td>\n",
       "      <td>...</td>\n",
       "      <td>...</td>\n",
       "      <td>...</td>\n",
       "      <td>...</td>\n",
       "      <td>...</td>\n",
       "      <td>...</td>\n",
       "      <td>...</td>\n",
       "      <td>...</td>\n",
       "      <td>...</td>\n",
       "      <td>...</td>\n",
       "      <td>...</td>\n",
       "      <td>...</td>\n",
       "    </tr>\n",
       "    <tr>\n",
       "      <th>1213641</th>\n",
       "      <td>-2.48730</td>\n",
       "      <td>-19.2330</td>\n",
       "      <td>3.46140</td>\n",
       "      <td>0.61967</td>\n",
       "      <td>-0.33771</td>\n",
       "      <td>-0.82711</td>\n",
       "      <td>-8.2348</td>\n",
       "      <td>-4.9652</td>\n",
       "      <td>2.48090</td>\n",
       "      <td>-0.43725</td>\n",
       "      <td>-1.018500</td>\n",
       "      <td>0.079741</td>\n",
       "      <td>12</td>\n",
       "      <td>subject10</td>\n",
       "    </tr>\n",
       "    <tr>\n",
       "      <th>1213642</th>\n",
       "      <td>-21.59100</td>\n",
       "      <td>-19.4370</td>\n",
       "      <td>-6.04190</td>\n",
       "      <td>0.61967</td>\n",
       "      <td>-0.33771</td>\n",
       "      <td>-0.82711</td>\n",
       "      <td>-21.3180</td>\n",
       "      <td>-10.2130</td>\n",
       "      <td>3.65600</td>\n",
       "      <td>-0.43725</td>\n",
       "      <td>-1.018500</td>\n",
       "      <td>0.079741</td>\n",
       "      <td>12</td>\n",
       "      <td>subject10</td>\n",
       "    </tr>\n",
       "    <tr>\n",
       "      <th>1213643</th>\n",
       "      <td>7.54330</td>\n",
       "      <td>-19.2450</td>\n",
       "      <td>-2.66800</td>\n",
       "      <td>0.61967</td>\n",
       "      <td>-0.33771</td>\n",
       "      <td>-0.82711</td>\n",
       "      <td>-21.2970</td>\n",
       "      <td>-18.7050</td>\n",
       "      <td>4.46060</td>\n",
       "      <td>-0.43725</td>\n",
       "      <td>-1.018500</td>\n",
       "      <td>0.079741</td>\n",
       "      <td>12</td>\n",
       "      <td>subject10</td>\n",
       "    </tr>\n",
       "    <tr>\n",
       "      <th>1213644</th>\n",
       "      <td>3.01420</td>\n",
       "      <td>-19.3340</td>\n",
       "      <td>-7.70740</td>\n",
       "      <td>0.71058</td>\n",
       "      <td>-0.27017</td>\n",
       "      <td>-0.75442</td>\n",
       "      <td>-21.1380</td>\n",
       "      <td>-18.6980</td>\n",
       "      <td>1.15880</td>\n",
       "      <td>-0.42549</td>\n",
       "      <td>-1.037000</td>\n",
       "      <td>0.084052</td>\n",
       "      <td>12</td>\n",
       "      <td>subject10</td>\n",
       "    </tr>\n",
       "    <tr>\n",
       "      <th>1213645</th>\n",
       "      <td>-2.36980</td>\n",
       "      <td>-19.3000</td>\n",
       "      <td>-4.23870</td>\n",
       "      <td>0.71058</td>\n",
       "      <td>-0.27017</td>\n",
       "      <td>-0.75442</td>\n",
       "      <td>-21.1730</td>\n",
       "      <td>-14.2910</td>\n",
       "      <td>-0.13123</td>\n",
       "      <td>-0.42549</td>\n",
       "      <td>-1.037000</td>\n",
       "      <td>0.084052</td>\n",
       "      <td>12</td>\n",
       "      <td>subject10</td>\n",
       "    </tr>\n",
       "  </tbody>\n",
       "</table>\n",
       "<p>373195 rows × 14 columns</p>\n",
       "</div>"
      ],
      "text/plain": [
       "              alx      aly      alz      glx      gly      glz      arx  \\\n",
       "154060   -0.68636  -5.2902  4.64530  0.13544 -0.83114 -0.13163  -8.4230   \n",
       "936066    1.00030  -7.7902 -6.74410 -0.26531 -0.14447 -1.09820   2.2046   \n",
       "167106    1.53220  -9.5966 -0.25618 -0.27273 -0.75985  0.63654  -2.5898   \n",
       "493889    1.78090  -8.5942 -3.97440 -0.41002 -0.55535 -0.78389  -1.0049   \n",
       "355024   -0.34940  -9.5201  1.45800 -0.68275 -0.77861 -0.24558  -1.4178   \n",
       "...           ...      ...      ...      ...      ...      ...      ...   \n",
       "1213641  -2.48730 -19.2330  3.46140  0.61967 -0.33771 -0.82711  -8.2348   \n",
       "1213642 -21.59100 -19.4370 -6.04190  0.61967 -0.33771 -0.82711 -21.3180   \n",
       "1213643   7.54330 -19.2450 -2.66800  0.61967 -0.33771 -0.82711 -21.2970   \n",
       "1213644   3.01420 -19.3340 -7.70740  0.71058 -0.27017 -0.75442 -21.1380   \n",
       "1213645  -2.36980 -19.3000 -4.23870  0.71058 -0.27017 -0.75442 -21.1730   \n",
       "\n",
       "             ary      arz      grx       gry       grz  Activity    subject  \n",
       "154060   -6.6402  2.98050 -0.93922  0.090349  0.219830         0   subject1  \n",
       "936066   -7.5497  4.02880 -0.21961 -1.080100  0.303880         0   subject8  \n",
       "167106   -8.5217  3.83430 -0.88431 -0.848050  0.331900         0   subject2  \n",
       "493889   -6.8588  2.11540 -0.35686 -0.854210 -0.415950         0   subject4  \n",
       "355024   -9.5157  1.43050 -0.12353 -0.967150 -0.497840         0   subject3  \n",
       "...          ...      ...      ...       ...       ...       ...        ...  \n",
       "1213641  -4.9652  2.48090 -0.43725 -1.018500  0.079741        12  subject10  \n",
       "1213642 -10.2130  3.65600 -0.43725 -1.018500  0.079741        12  subject10  \n",
       "1213643 -18.7050  4.46060 -0.43725 -1.018500  0.079741        12  subject10  \n",
       "1213644 -18.6980  1.15880 -0.42549 -1.037000  0.084052        12  subject10  \n",
       "1213645 -14.2910 -0.13123 -0.42549 -1.037000  0.084052        12  subject10  \n",
       "\n",
       "[373195 rows x 14 columns]"
      ]
     },
     "execution_count": 135,
     "metadata": {},
     "output_type": "execute_result"
    }
   ],
   "source": [
    "df"
   ]
  },
  {
   "cell_type": "code",
   "execution_count": 136,
   "metadata": {},
   "outputs": [
    {
     "data": {
      "text/plain": [
       "<AxesSubplot:>"
      ]
     },
     "execution_count": 136,
     "metadata": {},
     "output_type": "execute_result"
    },
    {
     "data": {
      "image/png": "[encoded data removed]",
      "text/plain": [
       "<Figure size 640x480 with 1 Axes>"
      ]
     },
     "metadata": {},
     "output_type": "display_data"
    }
   ],
   "source": [
    "df[['Activity']].reset_index(drop=True).plot()"
   ]
  },
  {
   "cell_type": "code",
   "execution_count": 137,
   "metadata": {},
   "outputs": [
    {
     "name": "stdout",
     "output_type": "stream",
     "text": [
      "alx range: -11.47312 to 19.233\n",
      "shape (365733, 14)\n",
      "aly range: -19.379 to 2.447871999999997\n",
      "shape (360018, 14)\n",
      "alz range: -18.95 to 14.19623999999999\n",
      "shape (356270, 14)\n",
      "glx range: -0.74212 to 0.80705\n",
      "shape (349377, 14)\n",
      "gly range: -1.0694 to 0.96623\n",
      "shape (342841, 14)\n",
      "glz range: -1.1061 to 0.8290799999999999\n",
      "shape (337391, 14)\n",
      "arx range: -21.492 to 9.097647999999998\n",
      "shape (332307, 14)\n",
      "ary range: -18.694000000000003 to 11.948059999999998\n",
      "shape (326241, 14)\n",
      "arz range: -10.367 to 11.823119999999996\n",
      "shape (323674, 14)\n",
      "grx range: -1.0196 to 0.95686\n",
      "shape (320188, 14)\n",
      "gry range: -1.1417 to 0.90965\n",
      "shape (315352, 14)\n",
      "grz range: -0.69828 to 1.125\n",
      "shape (310929, 14)\n"
     ]
    }
   ],
   "source": [
    "#Dropping feature have data outside 98% confidence interval\n",
    "df1 = df.copy()\n",
    "for feature in df1.columns[:-2]:\n",
    "  lower_range = np.quantile(df[feature],0.01)\n",
    "  upper_range = np.quantile(df[feature],0.99)\n",
    "  print(feature,'range:',lower_range,'to',upper_range)\n",
    "\n",
    "  df1 = df1.drop(df1[(df1[feature]>upper_range) | (df1[feature]<lower_range)].index, axis=0)\n",
    "  print('shape',df1.shape)"
   ]
  },
  {
   "cell_type": "code",
   "execution_count": 95,
   "metadata": {},
   "outputs": [],
   "source": [
    "label_map = {\n",
    "    0: 'Nothing',\n",
    "    1: 'Standing still',  \n",
    "    2: 'Sitting and relaxing', \n",
    "    3: 'Lying down',  \n",
    "    4: 'Walking',  \n",
    "    5: 'Climbing stairs',  \n",
    "    6: 'Waist bends forward',\n",
    "    7: 'Frontal elevation of arms', \n",
    "    8: 'Knees bending (crouching)', \n",
    "    9: 'Cycling', \n",
    "    10: 'Jogging', \n",
    "    11: 'Running', \n",
    "    12: 'Jump front & back' \n",
    "}"
   ]
  },
  {
   "cell_type": "code",
   "execution_count": 138,
   "metadata": {},
   "outputs": [
    {
     "name": "stdout",
     "output_type": "stream",
     "text": [
      "(310929, 14)\n"
     ]
    },
    {
     "data": {
      "text/plain": [
       "((246501, 14), (64428, 14))"
      ]
     },
     "execution_count": 138,
     "metadata": {},
     "output_type": "execute_result"
    }
   ],
   "source": [
    "print(df1.shape)\n",
    "train = df1[(df1['subject'] != 'subject10') & (df1['subject'] != 'subject9')]\n",
    "test = df1.drop(train.index, axis=0)\n",
    "train.shape,test.shape"
   ]
  },
  {
   "cell_type": "code",
   "execution_count": 166,
   "metadata": {},
   "outputs": [
    {
     "data": {
      "text/html": [
       "<div>\n",
       "<style scoped>\n",
       "    .dataframe tbody tr th:only-of-type {\n",
       "        vertical-align: middle;\n",
       "    }\n",
       "\n",
       "    .dataframe tbody tr th {\n",
       "        vertical-align: top;\n",
       "    }\n",
       "\n",
       "    .dataframe thead th {\n",
       "        text-align: right;\n",
       "    }\n",
       "</style>\n",
       "<table border=\"1\" class=\"dataframe\">\n",
       "  <thead>\n",
       "    <tr style=\"text-align: right;\">\n",
       "      <th></th>\n",
       "      <th>subject</th>\n",
       "    </tr>\n",
       "  </thead>\n",
       "  <tbody>\n",
       "    <tr>\n",
       "      <th>154060</th>\n",
       "      <td>subject1</td>\n",
       "    </tr>\n",
       "    <tr>\n",
       "      <th>936066</th>\n",
       "      <td>subject8</td>\n",
       "    </tr>\n",
       "    <tr>\n",
       "      <th>167106</th>\n",
       "      <td>subject2</td>\n",
       "    </tr>\n",
       "    <tr>\n",
       "      <th>493889</th>\n",
       "      <td>subject4</td>\n",
       "    </tr>\n",
       "    <tr>\n",
       "      <th>355024</th>\n",
       "      <td>subject3</td>\n",
       "    </tr>\n",
       "    <tr>\n",
       "      <th>...</th>\n",
       "      <td>...</td>\n",
       "    </tr>\n",
       "    <tr>\n",
       "      <th>1213636</th>\n",
       "      <td>subject10</td>\n",
       "    </tr>\n",
       "    <tr>\n",
       "      <th>1213637</th>\n",
       "      <td>subject10</td>\n",
       "    </tr>\n",
       "    <tr>\n",
       "      <th>1213640</th>\n",
       "      <td>subject10</td>\n",
       "    </tr>\n",
       "    <tr>\n",
       "      <th>1213641</th>\n",
       "      <td>subject10</td>\n",
       "    </tr>\n",
       "    <tr>\n",
       "      <th>1213645</th>\n",
       "      <td>subject10</td>\n",
       "    </tr>\n",
       "  </tbody>\n",
       "</table>\n",
       "<p>310929 rows × 1 columns</p>\n",
       "</div>"
      ],
      "text/plain": [
       "           subject\n",
       "154060    subject1\n",
       "936066    subject8\n",
       "167106    subject2\n",
       "493889    subject4\n",
       "355024    subject3\n",
       "...            ...\n",
       "1213636  subject10\n",
       "1213637  subject10\n",
       "1213640  subject10\n",
       "1213641  subject10\n",
       "1213645  subject10\n",
       "\n",
       "[310929 rows x 1 columns]"
      ]
     },
     "execution_count": 166,
     "metadata": {},
     "output_type": "execute_result"
    }
   ],
   "source": [
    "df1[['subject']]"
   ]
  },
  {
   "cell_type": "code",
   "execution_count": 98,
   "metadata": {},
   "outputs": [
    {
     "data": {
      "text/plain": [
       "((246501, 12), (246501,), (64428, 12), (64428,))"
      ]
     },
     "execution_count": 98,
     "metadata": {},
     "output_type": "execute_result"
    }
   ],
   "source": [
    "X_train = train.drop(['Activity','subject'],axis=1)\n",
    "y_train = train['Activity']\n",
    "X_test = test.drop(['Activity','subject'],axis=1)\n",
    "y_test = test['Activity']\n",
    "X_train.shape,y_train.shape,X_test.shape,y_test.shape"
   ]
  },
  {
   "cell_type": "code",
   "execution_count": 99,
   "metadata": {},
   "outputs": [],
   "source": [
    "from scipy import stats\n",
    "\n",
    "#function to create time series datset for seuence modeling\n",
    "def create_dataset(X, y, time_steps, step=1):\n",
    "    Xs, ys = [], []\n",
    "    for i in range(0, len(X) - time_steps, step):\n",
    "        x = X.iloc[i:(i + time_steps)].values\n",
    "        labels = y.iloc[i: i + time_steps]\n",
    "        Xs.append(x)\n",
    "        ys.append(stats.mode(labels)[0][0])\n",
    "    return np.array(Xs), np.array(ys).reshape(-1, 1) \n",
    "\n",
    "## 0:100, 100:200 ...\n",
    "## 0, 50, 100, ...\n"
   ]
  },
  {
   "cell_type": "code",
   "execution_count": 100,
   "metadata": {},
   "outputs": [
    {
     "data": {
      "text/plain": [
       "((4929, 100, 12), (4929, 1))"
      ]
     },
     "execution_count": 100,
     "metadata": {},
     "output_type": "execute_result"
    }
   ],
   "source": [
    "X_train_copy ,y_train_copy = create_dataset(X_train, y_train, 100, step=50)\n",
    "X_train_copy.shape, y_train_copy.shape"
   ]
  },
  {
   "cell_type": "code",
   "execution_count": null,
   "metadata": {},
   "outputs": [],
   "source": []
  },
  {
   "cell_type": "code",
   "execution_count": 68,
   "metadata": {},
   "outputs": [
    {
     "data": {
      "text/plain": [
       "array([ 0.83059, -5.2852 , -0.79762, -0.25788, -0.5591 , -1.0138 ,\n",
       "        3.4328 , -9.672  ,  9.7976 , -0.18627, -0.76797,  0.89224])"
      ]
     },
     "execution_count": 68,
     "metadata": {},
     "output_type": "execute_result"
    }
   ],
   "source": [
    "X_train.values[50]"
   ]
  },
  {
   "cell_type": "code",
   "execution_count": 63,
   "metadata": {},
   "outputs": [
    {
     "data": {
      "text/plain": [
       "array([[  0.83059 ,  -5.2852  ,  -0.79762 , ...,  -0.18627 ,  -0.76797 ,\n",
       "          0.89224 ],\n",
       "       [  2.0891  ,  -9.5404  ,   1.4085  , ...,  -0.18627 ,   0.030801,\n",
       "          1.1228  ],\n",
       "       [  0.35037 ,  -8.0943  ,   2.453   , ...,  -0.74902 ,   0.23819 ,\n",
       "          0.51724 ],\n",
       "       ...,\n",
       "       [-11.356   ,  -8.9798  ,  -8.8751  , ...,  -0.38235 ,  -0.6037  ,\n",
       "         -0.58405 ],\n",
       "       [  1.9896  , -10.318   ,  -0.13143 , ...,  -0.59412 ,   0.17248 ,\n",
       "          1.0108  ],\n",
       "       [ -0.055774,  -9.4624  ,   1.2867  , ...,  -0.2     ,  -0.79877 ,\n",
       "          0.80819 ]])"
      ]
     },
     "execution_count": 63,
     "metadata": {},
     "output_type": "execute_result"
    }
   ],
   "source": [
    "X_train_copy[1]"
   ]
  },
  {
   "cell_type": "code",
   "execution_count": 101,
   "metadata": {},
   "outputs": [
    {
     "data": {
      "text/plain": [
       "((1287, 100, 12), (1287, 1))"
      ]
     },
     "execution_count": 101,
     "metadata": {},
     "output_type": "execute_result"
    }
   ],
   "source": [
    "X_test_copy,y_test_copy = create_dataset(X_test, y_test, 100, step=50)\n",
    "X_test_copy.shape, y_test_copy.shape"
   ]
  },
  {
   "cell_type": "code",
   "execution_count": 55,
   "metadata": {},
   "outputs": [],
   "source": [
    "model = keras.Sequential()\n",
    "model.add(layers.Input(shape=[100,12]))\n",
    "model.add(layers.Conv1D(filters=32, kernel_size=3, padding=\"same\"))\n",
    "model.add(layers.BatchNormalization())\n",
    "model.add(layers.ReLU())\n",
    "model.add(layers.Conv1D(filters=64, kernel_size=3, padding=\"same\"))\n",
    "model.add(layers.BatchNormalization())\n",
    "model.add(layers.ReLU())\n",
    "model.add(layers.MaxPool1D(2))\n",
    "model.add(layers.LSTM(64))\n",
    "model.add(layers.Dense(units=128, activation='relu'))\n",
    "model.add(layers.Dense(13, activation='softmax'))"
   ]
  },
  {
   "cell_type": "code",
   "execution_count": 102,
   "metadata": {},
   "outputs": [
    {
     "data": {
      "text/plain": [
       "Net(\n",
       "  (conv1): Conv1d(100, 32, kernel_size=(3,), stride=(1,), padding=(1,))\n",
       "  (bn1): BatchNorm1d(32, eps=1e-05, momentum=0.1, affine=True, track_running_stats=True)\n",
       "  (conv2): Conv1d(32, 64, kernel_size=(3,), stride=(1,), padding=(1,))\n",
       "  (bn2): BatchNorm1d(64, eps=1e-05, momentum=0.1, affine=True, track_running_stats=True)\n",
       "  (max_pool): MaxPool1d(kernel_size=2, stride=2, padding=0, dilation=1, ceil_mode=False)\n",
       "  (lstm): LSTM(64, 64, batch_first=True)\n",
       "  (fc1): Linear(in_features=64, out_features=128, bias=True)\n",
       "  (fc2): Linear(in_features=128, out_features=13, bias=True)\n",
       ")"
      ]
     },
     "execution_count": 102,
     "metadata": {},
     "output_type": "execute_result"
    }
   ],
   "source": [
    "model"
   ]
  },
  {
   "cell_type": "code",
   "execution_count": 81,
   "metadata": {},
   "outputs": [],
   "source": [
    "class Net(nn.Module):\n",
    "    def __init__(self):\n",
    "        super(Net, self).__init__()\n",
    "        \n",
    "        self.conv1 = nn.Conv1d(in_channels=100, out_channels=32, kernel_size=3, padding=1)\n",
    "        self.bn1 = nn.BatchNorm1d(num_features=32)\n",
    "        \n",
    "        self.conv2 = nn.Conv1d(in_channels=32, out_channels=64, kernel_size=3, padding=1)\n",
    "        self.bn2 = nn.BatchNorm1d(num_features=64)\n",
    "        \n",
    "        self.max_pool = nn.MaxPool1d(kernel_size=2)\n",
    "        \n",
    "        self.lstm = nn.LSTM(input_size=64, hidden_size=64, batch_first=True)\n",
    "        \n",
    "        self.fc1 = nn.Linear(in_features=64, out_features=128)\n",
    "        self.fc2 = nn.Linear(in_features=128, out_features=13)\n",
    "        \n",
    "    def forward(self, x):\n",
    "        x = self.conv1(x)\n",
    "        x = self.bn1(x)\n",
    "        x = F.relu(x)\n",
    "        \n",
    "        x = self.conv2(x)\n",
    "        x = self.bn2(x)\n",
    "        x = F.relu(x)\n",
    "        \n",
    "        x = self.max_pool(x)\n",
    "        \n",
    "        x = x.permute(0, 2, 1) # Permute to match LSTM input shape\n",
    "        x, _ = self.lstm(x)\n",
    "        x = x[:, -1, :] # Only take the last output of the LSTM\n",
    "        \n",
    "        x = self.fc1(x)\n",
    "        x = F.relu(x)\n",
    "        \n",
    "        x = self.fc2(x)\n",
    "        x = F.softmax(x, dim=1)\n",
    "        \n",
    "        return x"
   ]
  },
  {
   "cell_type": "code",
   "execution_count": 104,
   "metadata": {},
   "outputs": [],
   "source": [
    "model = Net().to(DEVICE)"
   ]
  },
  {
   "cell_type": "code",
   "execution_count": 83,
   "metadata": {},
   "outputs": [
    {
     "data": {
      "text/plain": [
       "Net(\n",
       "  (conv1): Conv1d(100, 32, kernel_size=(3,), stride=(1,), padding=(1,))\n",
       "  (bn1): BatchNorm1d(32, eps=1e-05, momentum=0.1, affine=True, track_running_stats=True)\n",
       "  (conv2): Conv1d(32, 64, kernel_size=(3,), stride=(1,), padding=(1,))\n",
       "  (bn2): BatchNorm1d(64, eps=1e-05, momentum=0.1, affine=True, track_running_stats=True)\n",
       "  (max_pool): MaxPool1d(kernel_size=2, stride=2, padding=0, dilation=1, ceil_mode=False)\n",
       "  (lstm): LSTM(64, 64, batch_first=True)\n",
       "  (fc1): Linear(in_features=64, out_features=128, bias=True)\n",
       "  (fc2): Linear(in_features=128, out_features=13, bias=True)\n",
       ")"
      ]
     },
     "execution_count": 83,
     "metadata": {},
     "output_type": "execute_result"
    }
   ],
   "source": [
    "model"
   ]
  },
  {
   "cell_type": "code",
   "execution_count": 105,
   "metadata": {},
   "outputs": [
    {
     "data": {
      "text/plain": [
       "(torch.Size([4929, 100, 12]),\n",
       " torch.Size([4929, 1]),\n",
       " torch.Size([1287, 100, 12]),\n",
       " torch.Size([1287, 1]))"
      ]
     },
     "execution_count": 105,
     "metadata": {},
     "output_type": "execute_result"
    }
   ],
   "source": [
    "loss_fn = nn.CrossEntropyLoss()\n",
    "optimizer = torch.optim.Adam(model.parameters(), lr=0.001)\n",
    "\n",
    "X_train1 = torch.from_numpy(X_train_copy).float().to(DEVICE)\n",
    "y_train1 = torch.from_numpy(y_train_copy).long().to(DEVICE)\n",
    "\n",
    "X_test1 = torch.from_numpy(X_test_copy).float().to(DEVICE)\n",
    "y_test1 = torch.from_numpy(y_test_copy).long().to(DEVICE)\n",
    "\n",
    "X_train1.shape, y_train1.shape, X_test1.shape, y_test1.shape"
   ]
  },
  {
   "cell_type": "code",
   "execution_count": 75,
   "metadata": {},
   "outputs": [
    {
     "data": {
      "text/plain": [
       "tensor([[[ -0.6864,  -5.2902,   4.6453,  ...,  -0.9392,   0.0903,   0.2198],\n",
       "         [  1.0003,  -7.7902,  -6.7441,  ...,  -0.2196,  -1.0801,   0.3039],\n",
       "         [  1.5322,  -9.5966,  -0.2562,  ...,  -0.8843,  -0.8480,   0.3319],\n",
       "         ...,\n",
       "         [  3.6543,  -9.0272,  -0.7377,  ...,  -0.0902,  -0.8727,  -0.6703],\n",
       "         [  0.9086,  -9.5871,   1.6860,  ...,  -0.6882,  -0.8275,   0.0905],\n",
       "         [  0.3465,  -7.6891,  -0.5893,  ...,  -0.1765,  -1.0267,  -0.3944]],\n",
       "\n",
       "        [[  0.8306,  -5.2852,  -0.7976,  ...,  -0.1863,  -0.7680,   0.8922],\n",
       "         [  2.0891,  -9.5404,   1.4085,  ...,  -0.1863,   0.0308,   1.1228],\n",
       "         [  0.3504,  -8.0943,   2.4530,  ...,  -0.7490,   0.2382,   0.5172],\n",
       "         ...,\n",
       "         [-11.3560,  -8.9798,  -8.8751,  ...,  -0.3823,  -0.6037,  -0.5840],\n",
       "         [  1.9896, -10.3180,  -0.1314,  ...,  -0.5941,   0.1725,   1.0108],\n",
       "         [ -0.0558,  -9.4624,   1.2867,  ...,  -0.2000,  -0.7988,   0.8082]],\n",
       "\n",
       "        [[  0.1517,  -9.7090,   1.3807,  ...,  -0.8745,  -0.6058,  -0.0323],\n",
       "         [  3.9136,  -6.8346,  -4.2505,  ...,  -0.3118,  -0.4497,   1.0216],\n",
       "         [  1.1436,  -9.6468,   1.6541,  ...,  -0.0373,  -1.0390,  -0.3901],\n",
       "         ...,\n",
       "         [  3.9128,  -9.2538,  -0.6319,  ...,  -0.4529,  -0.6838,   0.8384],\n",
       "         [  0.2074,  -9.7943,   1.7624,  ...,  -0.3235,  -0.9261,  -0.4203],\n",
       "         [  0.6810, -11.3610,  -1.4258,  ...,  -0.0490,  -1.1376,   0.3901]],\n",
       "\n",
       "        ...,\n",
       "\n",
       "        [[  0.4968, -11.3270, -18.7910,  ...,  -0.6294,   0.2649,   0.9569],\n",
       "         [  4.8460,   0.2335, -18.2320,  ...,  -0.7372,   0.0246,   0.9073],\n",
       "         [ -3.0416,  -3.0557, -18.4440,  ...,  -0.7372,   0.0246,   0.9073],\n",
       "         ...,\n",
       "         [ -0.1875,  -8.0577, -18.6440,  ...,  -0.5490,   0.1088,   1.0323],\n",
       "         [  7.7780, -14.5320,   8.1637,  ...,  -0.7863,  -0.0595,   0.8384],\n",
       "         [ 18.4030, -12.5450, -10.9740,  ...,  -0.7980,   0.1027,   0.8039]],\n",
       "\n",
       "        [[  9.9573, -10.4630, -11.6740,  ...,  -0.8843,   0.0390,   0.6897],\n",
       "         [  9.3952,  -3.5656, -12.0010,  ...,  -0.8843,   0.0390,   0.6897],\n",
       "         [  9.0974, -11.2720,  -0.5143,  ...,  -0.6392,   0.6119,   0.7371],\n",
       "         ...,\n",
       "         [ 13.0060, -19.0660,  13.1770,  ...,  -0.6843,   0.6345,  -0.5065],\n",
       "         [ 18.6870, -15.5750,  -3.9981,  ...,  -0.7039,   0.3901,  -0.6875],\n",
       "         [ -6.4018, -19.1560,  13.1140,  ...,  -0.7372,   0.2936,  -0.6897]],\n",
       "\n",
       "        [[ -0.2274,  -8.0010,   0.8893,  ...,  -0.6098,   0.5154,   0.8276],\n",
       "         [  9.0041, -12.7240,  -3.1295,  ...,  -0.6098,   0.5154,   0.8276],\n",
       "         [  7.8632, -12.4730,  -4.7221,  ...,  -0.6098,   0.5154,   0.8276],\n",
       "         ...,\n",
       "         [  5.7282,  -1.1482,  -6.8960,  ...,  -0.7078,   0.4353,  -0.6832],\n",
       "         [  7.2772,  -1.4694,  -4.3653,  ...,  -0.7412,   0.3634,  -0.6638],\n",
       "         [  4.2217, -18.8880,   3.2853,  ...,  -0.7235,   0.2936,  -0.6875]]],\n",
       "       device='cuda:0')"
      ]
     },
     "execution_count": 75,
     "metadata": {},
     "output_type": "execute_result"
    }
   ],
   "source": [
    "X_train1"
   ]
  },
  {
   "cell_type": "code",
   "execution_count": 85,
   "metadata": {},
   "outputs": [
    {
     "name": "stderr",
     "output_type": "stream",
     "text": [
      "  4%|▍         | 4/100 [00:09<02:46,  1.73s/it]"
     ]
    },
    {
     "name": "stdout",
     "output_type": "stream",
     "text": [
      "Epoch: 0 Train Loss: 2.5651 Train Acc: 0.1343 Test Acc: 0.1601\n",
      "Epoch: 1 Train Loss: 2.5639 Train Acc: 0.1923 Test Acc: 0.1880\n",
      "Epoch: 2 Train Loss: 2.5629 Train Acc: 0.1954 Test Acc: 0.1772\n",
      "Epoch: 3 Train Loss: 2.5620 Train Acc: 0.2004 Test Acc: 0.1709\n",
      "Epoch: 4 Train Loss: 2.5609 Train Acc: 0.2037 Test Acc: 0.1709\n"
     ]
    },
    {
     "name": "stderr",
     "output_type": "stream",
     "text": [
      " 11%|█         | 11/100 [00:09<00:37,  2.38it/s]"
     ]
    },
    {
     "name": "stdout",
     "output_type": "stream",
     "text": [
      "Epoch: 5 Train Loss: 2.5597 Train Acc: 0.2067 Test Acc: 0.1702\n",
      "Epoch: 6 Train Loss: 2.5583 Train Acc: 0.2110 Test Acc: 0.2059\n",
      "Epoch: 7 Train Loss: 2.5567 Train Acc: 0.2256 Test Acc: 0.2222\n",
      "Epoch: 8 Train Loss: 2.5549 Train Acc: 0.2408 Test Acc: 0.2432\n",
      "Epoch: 9 Train Loss: 2.5527 Train Acc: 0.2497 Test Acc: 0.2688\n",
      "Epoch: 10 Train Loss: 2.5501 Train Acc: 0.2562 Test Acc: 0.2813\n",
      "Epoch: 11 Train Loss: 2.5470 Train Acc: 0.2550 Test Acc: 0.2735\n",
      "Epoch: 12 Train Loss: 2.5435 Train Acc: 0.2518 Test Acc: 0.2657\n"
     ]
    },
    {
     "name": "stderr",
     "output_type": "stream",
     "text": [
      " 19%|█▉        | 19/100 [00:09<00:13,  5.88it/s]"
     ]
    },
    {
     "name": "stdout",
     "output_type": "stream",
     "text": [
      "Epoch: 13 Train Loss: 2.5394 Train Acc: 0.2506 Test Acc: 0.2650\n",
      "Epoch: 14 Train Loss: 2.5346 Train Acc: 0.2473 Test Acc: 0.2626\n",
      "Epoch: 15 Train Loss: 2.5292 Train Acc: 0.2418 Test Acc: 0.2626\n",
      "Epoch: 16 Train Loss: 2.5230 Train Acc: 0.2384 Test Acc: 0.2603\n",
      "Epoch: 17 Train Loss: 2.5160 Train Acc: 0.2368 Test Acc: 0.2642\n",
      "Epoch: 18 Train Loss: 2.5079 Train Acc: 0.2428 Test Acc: 0.2782\n",
      "Epoch: 19 Train Loss: 2.4990 Train Acc: 0.2603 Test Acc: 0.2991\n",
      "Epoch: 20 Train Loss: 2.4889 Train Acc: 0.2828 Test Acc: 0.3302\n"
     ]
    },
    {
     "name": "stderr",
     "output_type": "stream",
     "text": [
      " 27%|██▋       | 27/100 [00:09<00:06, 11.11it/s]"
     ]
    },
    {
     "name": "stdout",
     "output_type": "stream",
     "text": [
      "Epoch: 21 Train Loss: 2.4778 Train Acc: 0.3009 Test Acc: 0.3481\n",
      "Epoch: 22 Train Loss: 2.4657 Train Acc: 0.3171 Test Acc: 0.3489\n",
      "Epoch: 23 Train Loss: 2.4526 Train Acc: 0.3242 Test Acc: 0.3497\n",
      "Epoch: 24 Train Loss: 2.4391 Train Acc: 0.3236 Test Acc: 0.3489\n",
      "Epoch: 25 Train Loss: 2.4254 Train Acc: 0.3246 Test Acc: 0.3489\n",
      "Epoch: 26 Train Loss: 2.4116 Train Acc: 0.3244 Test Acc: 0.3489\n",
      "Epoch: 27 Train Loss: 2.3980 Train Acc: 0.3256 Test Acc: 0.3489\n",
      "Epoch: 28 Train Loss: 2.3849 Train Acc: 0.3260 Test Acc: 0.3512\n"
     ]
    },
    {
     "name": "stderr",
     "output_type": "stream",
     "text": [
      " 35%|███▌      | 35/100 [00:09<00:03, 17.87it/s]"
     ]
    },
    {
     "name": "stdout",
     "output_type": "stream",
     "text": [
      "Epoch: 29 Train Loss: 2.3724 Train Acc: 0.3277 Test Acc: 0.3535\n",
      "Epoch: 30 Train Loss: 2.3604 Train Acc: 0.3341 Test Acc: 0.3613\n",
      "Epoch: 31 Train Loss: 2.3488 Train Acc: 0.3400 Test Acc: 0.3761\n",
      "Epoch: 32 Train Loss: 2.3374 Train Acc: 0.3518 Test Acc: 0.3939\n",
      "Epoch: 33 Train Loss: 2.3258 Train Acc: 0.3650 Test Acc: 0.4157\n",
      "Epoch: 34 Train Loss: 2.3138 Train Acc: 0.3743 Test Acc: 0.4250\n",
      "Epoch: 35 Train Loss: 2.3012 Train Acc: 0.3812 Test Acc: 0.4320\n",
      "Epoch: 36 Train Loss: 2.2882 Train Acc: 0.3867 Test Acc: 0.4312\n"
     ]
    },
    {
     "name": "stderr",
     "output_type": "stream",
     "text": [
      " 43%|████▎     | 43/100 [00:10<00:02, 23.65it/s]"
     ]
    },
    {
     "name": "stdout",
     "output_type": "stream",
     "text": [
      "Epoch: 37 Train Loss: 2.2748 Train Acc: 0.3914 Test Acc: 0.4320\n",
      "Epoch: 38 Train Loss: 2.2616 Train Acc: 0.4143 Test Acc: 0.4328\n",
      "Epoch: 39 Train Loss: 2.2489 Train Acc: 0.3974 Test Acc: 0.4289\n",
      "Epoch: 40 Train Loss: 2.2369 Train Acc: 0.4153 Test Acc: 0.4305\n",
      "Epoch: 41 Train Loss: 2.2257 Train Acc: 0.4041 Test Acc: 0.4281\n",
      "Epoch: 42 Train Loss: 2.2155 Train Acc: 0.3841 Test Acc: 0.4211\n",
      "Epoch: 43 Train Loss: 2.2059 Train Acc: 0.3857 Test Acc: 0.4188\n"
     ]
    },
    {
     "name": "stderr",
     "output_type": "stream",
     "text": [
      " 51%|█████     | 51/100 [00:10<00:01, 28.70it/s]"
     ]
    },
    {
     "name": "stdout",
     "output_type": "stream",
     "text": [
      "Epoch: 44 Train Loss: 2.1965 Train Acc: 0.3743 Test Acc: 0.4157\n",
      "Epoch: 45 Train Loss: 2.1870 Train Acc: 0.3725 Test Acc: 0.4126\n",
      "Epoch: 46 Train Loss: 2.1764 Train Acc: 0.3901 Test Acc: 0.4118\n",
      "Epoch: 47 Train Loss: 2.1652 Train Acc: 0.3812 Test Acc: 0.4009\n",
      "Epoch: 48 Train Loss: 2.1533 Train Acc: 0.4045 Test Acc: 0.4367\n",
      "Epoch: 49 Train Loss: 2.1414 Train Acc: 0.4208 Test Acc: 0.4545\n",
      "Epoch: 50 Train Loss: 2.1289 Train Acc: 0.4299 Test Acc: 0.4468\n",
      "Epoch: 51 Train Loss: 2.1176 Train Acc: 0.4175 Test Acc: 0.4584\n"
     ]
    },
    {
     "name": "stderr",
     "output_type": "stream",
     "text": [
      " 59%|█████▉    | 59/100 [00:10<00:01, 32.76it/s]"
     ]
    },
    {
     "name": "stdout",
     "output_type": "stream",
     "text": [
      "Epoch: 52 Train Loss: 2.1069 Train Acc: 0.5798 Test Acc: 0.5921\n",
      "Epoch: 53 Train Loss: 2.0916 Train Acc: 0.4654 Test Acc: 0.4623\n",
      "Epoch: 54 Train Loss: 2.0808 Train Acc: 0.5494 Test Acc: 0.5664\n",
      "Epoch: 55 Train Loss: 2.0677 Train Acc: 0.6036 Test Acc: 0.6146\n",
      "Epoch: 56 Train Loss: 2.0579 Train Acc: 0.5902 Test Acc: 0.6030\n",
      "Epoch: 57 Train Loss: 2.0470 Train Acc: 0.5936 Test Acc: 0.6030\n",
      "Epoch: 58 Train Loss: 2.0393 Train Acc: 0.6535 Test Acc: 0.6651\n",
      "Epoch: 59 Train Loss: 2.0307 Train Acc: 0.6815 Test Acc: 0.6838\n"
     ]
    },
    {
     "name": "stderr",
     "output_type": "stream",
     "text": [
      " 67%|██████▋   | 67/100 [00:10<00:00, 35.10it/s]"
     ]
    },
    {
     "name": "stdout",
     "output_type": "stream",
     "text": [
      "Epoch: 60 Train Loss: 2.0231 Train Acc: 0.7042 Test Acc: 0.6993\n",
      "Epoch: 61 Train Loss: 2.0143 Train Acc: 0.7194 Test Acc: 0.7148\n",
      "Epoch: 62 Train Loss: 2.0065 Train Acc: 0.7403 Test Acc: 0.7420\n",
      "Epoch: 63 Train Loss: 1.9970 Train Acc: 0.7492 Test Acc: 0.7444\n",
      "Epoch: 64 Train Loss: 1.9878 Train Acc: 0.7630 Test Acc: 0.7444\n",
      "Epoch: 65 Train Loss: 1.9785 Train Acc: 0.7653 Test Acc: 0.7451\n",
      "Epoch: 66 Train Loss: 1.9688 Train Acc: 0.7533 Test Acc: 0.7436\n",
      "Epoch: 67 Train Loss: 1.9600 Train Acc: 0.7523 Test Acc: 0.7630\n"
     ]
    },
    {
     "name": "stderr",
     "output_type": "stream",
     "text": [
      " 75%|███████▌  | 75/100 [00:11<00:00, 36.43it/s]"
     ]
    },
    {
     "name": "stdout",
     "output_type": "stream",
     "text": [
      "Epoch: 68 Train Loss: 1.9517 Train Acc: 0.7513 Test Acc: 0.7708\n",
      "Epoch: 69 Train Loss: 1.9436 Train Acc: 0.7496 Test Acc: 0.7692\n",
      "Epoch: 70 Train Loss: 1.9367 Train Acc: 0.7705 Test Acc: 0.7700\n",
      "Epoch: 71 Train Loss: 1.9303 Train Acc: 0.7521 Test Acc: 0.7754\n",
      "Epoch: 72 Train Loss: 1.9247 Train Acc: 0.7776 Test Acc: 0.7723\n",
      "Epoch: 73 Train Loss: 1.9158 Train Acc: 0.7884 Test Acc: 0.7848\n",
      "Epoch: 74 Train Loss: 1.9035 Train Acc: 0.8077 Test Acc: 0.7972\n",
      "Epoch: 75 Train Loss: 1.8941 Train Acc: 0.8377 Test Acc: 0.8050\n"
     ]
    },
    {
     "name": "stderr",
     "output_type": "stream",
     "text": [
      " 83%|████████▎ | 83/100 [00:11<00:00, 37.07it/s]"
     ]
    },
    {
     "name": "stdout",
     "output_type": "stream",
     "text": [
      "Epoch: 76 Train Loss: 1.8829 Train Acc: 0.8387 Test Acc: 0.7941\n",
      "Epoch: 77 Train Loss: 1.8723 Train Acc: 0.8407 Test Acc: 0.7941\n",
      "Epoch: 78 Train Loss: 1.8657 Train Acc: 0.8426 Test Acc: 0.8026\n",
      "Epoch: 79 Train Loss: 1.8610 Train Acc: 0.8525 Test Acc: 0.8112\n",
      "Epoch: 80 Train Loss: 1.8558 Train Acc: 0.8535 Test Acc: 0.8213\n",
      "Epoch: 81 Train Loss: 1.8521 Train Acc: 0.8545 Test Acc: 0.8267\n",
      "Epoch: 82 Train Loss: 1.8499 Train Acc: 0.8555 Test Acc: 0.8306\n",
      "Epoch: 83 Train Loss: 1.8483 Train Acc: 0.8564 Test Acc: 0.8298\n"
     ]
    },
    {
     "name": "stderr",
     "output_type": "stream",
     "text": [
      " 91%|█████████ | 91/100 [00:11<00:00, 37.33it/s]"
     ]
    },
    {
     "name": "stdout",
     "output_type": "stream",
     "text": [
      "Epoch: 84 Train Loss: 1.8469 Train Acc: 0.8560 Test Acc: 0.8322\n",
      "Epoch: 85 Train Loss: 1.8454 Train Acc: 0.8562 Test Acc: 0.8306\n",
      "Epoch: 86 Train Loss: 1.8438 Train Acc: 0.8564 Test Acc: 0.8314\n",
      "Epoch: 87 Train Loss: 1.8424 Train Acc: 0.8568 Test Acc: 0.8329\n",
      "Epoch: 88 Train Loss: 1.8411 Train Acc: 0.8572 Test Acc: 0.8368\n",
      "Epoch: 89 Train Loss: 1.8399 Train Acc: 0.8576 Test Acc: 0.8407\n",
      "Epoch: 90 Train Loss: 1.8389 Train Acc: 0.8576 Test Acc: 0.8438\n",
      "Epoch: 91 Train Loss: 1.8379 Train Acc: 0.8578 Test Acc: 0.8399\n"
     ]
    },
    {
     "name": "stderr",
     "output_type": "stream",
     "text": [
      "100%|██████████| 100/100 [00:11<00:00,  8.53it/s]"
     ]
    },
    {
     "name": "stdout",
     "output_type": "stream",
     "text": [
      "Epoch: 92 Train Loss: 1.8371 Train Acc: 0.8578 Test Acc: 0.8353\n",
      "Epoch: 93 Train Loss: 1.8363 Train Acc: 0.8580 Test Acc: 0.8337\n",
      "Epoch: 94 Train Loss: 1.8356 Train Acc: 0.8580 Test Acc: 0.8337\n",
      "Epoch: 95 Train Loss: 1.8350 Train Acc: 0.8580 Test Acc: 0.8353\n",
      "Epoch: 96 Train Loss: 1.8345 Train Acc: 0.8582 Test Acc: 0.8361\n",
      "Epoch: 97 Train Loss: 1.8341 Train Acc: 0.8582 Test Acc: 0.8337\n",
      "Epoch: 98 Train Loss: 1.8337 Train Acc: 0.8582 Test Acc: 0.8345\n",
      "Epoch: 99 Train Loss: 1.8333 Train Acc: 0.8584 Test Acc: 0.8353\n"
     ]
    },
    {
     "name": "stderr",
     "output_type": "stream",
     "text": [
      "\n"
     ]
    },
    {
     "data": {
      "image/png": "[encoded data removed]",
      "text/plain": [
       "<Figure size 640x480 with 1 Axes>"
      ]
     },
     "metadata": {},
     "output_type": "display_data"
    }
   ],
   "source": [
    "from sklearn.metrics import confusion_matrix, classification_report, accuracy_score\n",
    "\n",
    "def train(model, X_train, y_train, X_test, y_test, optimizer, loss_fn, epochs=10):\n",
    "    train_acc = []\n",
    "    test_acc = []\n",
    "    train_loss =[]\n",
    "    test_loss = []\n",
    "    for epoch in tqdm(range(epochs)):\n",
    "        model.train()\n",
    "        optimizer.zero_grad()\n",
    "        y_pred = model(X_train)\n",
    "        loss = loss_fn(y_pred, y_train.squeeze())\n",
    "        loss.backward()\n",
    "        optimizer.step()\n",
    "        model.eval()\n",
    "        with torch.no_grad():\n",
    "            y_pred_train = model(X_train)\n",
    "            y_pred_test = model(X_test)\n",
    "            train_acc.append(accuracy_score(y_train.cpu(), y_pred_train.cpu().argmax(1)))\n",
    "            test_acc.append(accuracy_score(y_test.cpu(), y_pred_test.cpu().argmax(1)))\n",
    "            train_loss.append(loss.item())\n",
    "            print('Epoch: {} Train Loss: {:.4f} Train Acc: {:.4f} Test Acc: {:.4f}'.format(epoch, loss.item(), train_acc[-1], test_acc[-1]))\n",
    "    return train_acc, test_acc, train_loss\n",
    "\n",
    "\n",
    "train_acc, test_acc, train_loss = train(model, X_train1, y_train1, X_test1, y_test1, optimizer, loss_fn, epochs=100)\n",
    "\n",
    "plt.plot(train_acc, label='train', color = 'b')\n",
    "\n",
    "plt.plot(test_acc, label='test', color = 'r')\n",
    "\n",
    "plt.plot(train_loss, label = 'train_loss', color = 'yellow')\n",
    "\n",
    "plt.legend()\n",
    "\n",
    "plt.show()\n",
    "\n"
   ]
  },
  {
   "cell_type": "code",
   "execution_count": 108,
   "metadata": {},
   "outputs": [
    {
     "data": {
      "text/html": [
       "<div>\n",
       "<style scoped>\n",
       "    .dataframe tbody tr th:only-of-type {\n",
       "        vertical-align: middle;\n",
       "    }\n",
       "\n",
       "    .dataframe tbody tr th {\n",
       "        vertical-align: top;\n",
       "    }\n",
       "\n",
       "    .dataframe thead th {\n",
       "        text-align: right;\n",
       "    }\n",
       "</style>\n",
       "<table border=\"1\" class=\"dataframe\">\n",
       "  <thead>\n",
       "    <tr style=\"text-align: right;\">\n",
       "      <th></th>\n",
       "      <th>alx</th>\n",
       "      <th>aly</th>\n",
       "      <th>alz</th>\n",
       "      <th>glx</th>\n",
       "      <th>gly</th>\n",
       "      <th>glz</th>\n",
       "      <th>arx</th>\n",
       "      <th>ary</th>\n",
       "      <th>arz</th>\n",
       "      <th>grx</th>\n",
       "      <th>gry</th>\n",
       "      <th>grz</th>\n",
       "    </tr>\n",
       "  </thead>\n",
       "  <tbody>\n",
       "    <tr>\n",
       "      <th>3</th>\n",
       "      <td>-1.50070</td>\n",
       "      <td>-13.84000</td>\n",
       "      <td>-7.79040</td>\n",
       "      <td>0.076067</td>\n",
       "      <td>-0.88368</td>\n",
       "      <td>0.282910</td>\n",
       "      <td>2.91280</td>\n",
       "      <td>-5.42950</td>\n",
       "      <td>2.05140</td>\n",
       "      <td>0.917650</td>\n",
       "      <td>-0.25051</td>\n",
       "      <td>0.67672</td>\n",
       "    </tr>\n",
       "    <tr>\n",
       "      <th>4</th>\n",
       "      <td>4.87730</td>\n",
       "      <td>-10.19100</td>\n",
       "      <td>-9.20040</td>\n",
       "      <td>0.371060</td>\n",
       "      <td>-0.92871</td>\n",
       "      <td>-0.239690</td>\n",
       "      <td>-1.46190</td>\n",
       "      <td>-17.41800</td>\n",
       "      <td>-3.79800</td>\n",
       "      <td>-0.060784</td>\n",
       "      <td>0.55647</td>\n",
       "      <td>1.02370</td>\n",
       "    </tr>\n",
       "    <tr>\n",
       "      <th>6</th>\n",
       "      <td>-0.78183</td>\n",
       "      <td>-10.43400</td>\n",
       "      <td>0.15798</td>\n",
       "      <td>0.235620</td>\n",
       "      <td>-0.75047</td>\n",
       "      <td>0.473480</td>\n",
       "      <td>-0.30675</td>\n",
       "      <td>-11.53300</td>\n",
       "      <td>0.73587</td>\n",
       "      <td>0.419610</td>\n",
       "      <td>-0.82752</td>\n",
       "      <td>0.62931</td>\n",
       "    </tr>\n",
       "    <tr>\n",
       "      <th>10</th>\n",
       "      <td>2.56990</td>\n",
       "      <td>-9.76950</td>\n",
       "      <td>0.27681</td>\n",
       "      <td>0.740260</td>\n",
       "      <td>-0.58912</td>\n",
       "      <td>0.131630</td>\n",
       "      <td>-4.19460</td>\n",
       "      <td>-11.20400</td>\n",
       "      <td>1.55440</td>\n",
       "      <td>0.156860</td>\n",
       "      <td>-0.91376</td>\n",
       "      <td>0.72414</td>\n",
       "    </tr>\n",
       "    <tr>\n",
       "      <th>13</th>\n",
       "      <td>1.08440</td>\n",
       "      <td>-9.62480</td>\n",
       "      <td>1.87340</td>\n",
       "      <td>0.319110</td>\n",
       "      <td>-0.60225</td>\n",
       "      <td>0.634580</td>\n",
       "      <td>-1.76200</td>\n",
       "      <td>-9.25180</td>\n",
       "      <td>2.81870</td>\n",
       "      <td>-0.074510</td>\n",
       "      <td>-0.65092</td>\n",
       "      <td>0.96983</td>\n",
       "    </tr>\n",
       "    <tr>\n",
       "      <th>...</th>\n",
       "      <td>...</td>\n",
       "      <td>...</td>\n",
       "      <td>...</td>\n",
       "      <td>...</td>\n",
       "      <td>...</td>\n",
       "      <td>...</td>\n",
       "      <td>...</td>\n",
       "      <td>...</td>\n",
       "      <td>...</td>\n",
       "      <td>...</td>\n",
       "      <td>...</td>\n",
       "      <td>...</td>\n",
       "    </tr>\n",
       "    <tr>\n",
       "      <th>373184</th>\n",
       "      <td>6.25990</td>\n",
       "      <td>0.85677</td>\n",
       "      <td>7.45960</td>\n",
       "      <td>0.552880</td>\n",
       "      <td>0.45591</td>\n",
       "      <td>0.143420</td>\n",
       "      <td>-3.77980</td>\n",
       "      <td>4.85040</td>\n",
       "      <td>8.04460</td>\n",
       "      <td>0.372550</td>\n",
       "      <td>0.26489</td>\n",
       "      <td>0.93103</td>\n",
       "    </tr>\n",
       "    <tr>\n",
       "      <th>373185</th>\n",
       "      <td>2.71240</td>\n",
       "      <td>-1.63480</td>\n",
       "      <td>-11.00300</td>\n",
       "      <td>0.070501</td>\n",
       "      <td>-0.57036</td>\n",
       "      <td>0.734770</td>\n",
       "      <td>-1.45910</td>\n",
       "      <td>-2.87400</td>\n",
       "      <td>2.59590</td>\n",
       "      <td>-0.237250</td>\n",
       "      <td>-0.25257</td>\n",
       "      <td>1.06030</td>\n",
       "    </tr>\n",
       "    <tr>\n",
       "      <th>373187</th>\n",
       "      <td>6.48060</td>\n",
       "      <td>-10.52500</td>\n",
       "      <td>5.90310</td>\n",
       "      <td>0.602970</td>\n",
       "      <td>-0.56848</td>\n",
       "      <td>-0.754420</td>\n",
       "      <td>-1.56790</td>\n",
       "      <td>-10.20700</td>\n",
       "      <td>4.33340</td>\n",
       "      <td>0.711760</td>\n",
       "      <td>-0.58316</td>\n",
       "      <td>-0.15302</td>\n",
       "    </tr>\n",
       "    <tr>\n",
       "      <th>373189</th>\n",
       "      <td>1.82920</td>\n",
       "      <td>-7.66660</td>\n",
       "      <td>-2.30250</td>\n",
       "      <td>0.241190</td>\n",
       "      <td>-0.77298</td>\n",
       "      <td>0.149310</td>\n",
       "      <td>-3.09420</td>\n",
       "      <td>-8.19130</td>\n",
       "      <td>7.87170</td>\n",
       "      <td>0.600000</td>\n",
       "      <td>-0.50308</td>\n",
       "      <td>1.03660</td>\n",
       "    </tr>\n",
       "    <tr>\n",
       "      <th>373192</th>\n",
       "      <td>2.43620</td>\n",
       "      <td>0.47015</td>\n",
       "      <td>9.39160</td>\n",
       "      <td>0.448980</td>\n",
       "      <td>0.94371</td>\n",
       "      <td>0.062868</td>\n",
       "      <td>-9.57970</td>\n",
       "      <td>-0.21271</td>\n",
       "      <td>1.72890</td>\n",
       "      <td>-0.449020</td>\n",
       "      <td>0.82957</td>\n",
       "      <td>0.68966</td>\n",
       "    </tr>\n",
       "  </tbody>\n",
       "</table>\n",
       "<p>246501 rows × 12 columns</p>\n",
       "</div>"
      ],
      "text/plain": [
       "            alx       aly       alz       glx      gly       glz      arx  \\\n",
       "3      -1.50070 -13.84000  -7.79040  0.076067 -0.88368  0.282910  2.91280   \n",
       "4       4.87730 -10.19100  -9.20040  0.371060 -0.92871 -0.239690 -1.46190   \n",
       "6      -0.78183 -10.43400   0.15798  0.235620 -0.75047  0.473480 -0.30675   \n",
       "10      2.56990  -9.76950   0.27681  0.740260 -0.58912  0.131630 -4.19460   \n",
       "13      1.08440  -9.62480   1.87340  0.319110 -0.60225  0.634580 -1.76200   \n",
       "...         ...       ...       ...       ...      ...       ...      ...   \n",
       "373184  6.25990   0.85677   7.45960  0.552880  0.45591  0.143420 -3.77980   \n",
       "373185  2.71240  -1.63480 -11.00300  0.070501 -0.57036  0.734770 -1.45910   \n",
       "373187  6.48060 -10.52500   5.90310  0.602970 -0.56848 -0.754420 -1.56790   \n",
       "373189  1.82920  -7.66660  -2.30250  0.241190 -0.77298  0.149310 -3.09420   \n",
       "373192  2.43620   0.47015   9.39160  0.448980  0.94371  0.062868 -9.57970   \n",
       "\n",
       "             ary      arz       grx      gry      grz  \n",
       "3       -5.42950  2.05140  0.917650 -0.25051  0.67672  \n",
       "4      -17.41800 -3.79800 -0.060784  0.55647  1.02370  \n",
       "6      -11.53300  0.73587  0.419610 -0.82752  0.62931  \n",
       "10     -11.20400  1.55440  0.156860 -0.91376  0.72414  \n",
       "13      -9.25180  2.81870 -0.074510 -0.65092  0.96983  \n",
       "...          ...      ...       ...      ...      ...  \n",
       "373184   4.85040  8.04460  0.372550  0.26489  0.93103  \n",
       "373185  -2.87400  2.59590 -0.237250 -0.25257  1.06030  \n",
       "373187 -10.20700  4.33340  0.711760 -0.58316 -0.15302  \n",
       "373189  -8.19130  7.87170  0.600000 -0.50308  1.03660  \n",
       "373192  -0.21271  1.72890 -0.449020  0.82957  0.68966  \n",
       "\n",
       "[246501 rows x 12 columns]"
      ]
     },
     "execution_count": 108,
     "metadata": {},
     "output_type": "execute_result"
    }
   ],
   "source": [
    "X_train"
   ]
  },
  {
   "cell_type": "code",
   "execution_count": 106,
   "metadata": {},
   "outputs": [
    {
     "name": "stderr",
     "output_type": "stream",
     "text": [
      "  3%|▎         | 3/100 [00:00<00:04, 20.44it/s]"
     ]
    },
    {
     "name": "stdout",
     "output_type": "stream",
     "text": [
      "Epoch: 0 Train Loss: 2.5659 Train Acc: 0.0952 Test Acc: 0.0878\n",
      "Epoch: 1 Train Loss: 2.5642 Train Acc: 0.1298 Test Acc: 0.1158\n",
      "Epoch: 2 Train Loss: 2.5624 Train Acc: 0.1309 Test Acc: 0.1204\n",
      "Epoch: 3 Train Loss: 2.5605 Train Acc: 0.1718 Test Acc: 0.1274\n",
      "Epoch: 4 Train Loss: 2.5582 Train Acc: 0.2092 Test Acc: 0.1608\n"
     ]
    },
    {
     "name": "stderr",
     "output_type": "stream",
     "text": [
      " 10%|█         | 10/100 [00:00<00:03, 29.83it/s]"
     ]
    },
    {
     "name": "stdout",
     "output_type": "stream",
     "text": [
      "Epoch: 5 Train Loss: 2.5555 Train Acc: 0.2094 Test Acc: 0.1624\n",
      "Epoch: 6 Train Loss: 2.5521 Train Acc: 0.2094 Test Acc: 0.1624\n",
      "Epoch: 7 Train Loss: 2.5480 Train Acc: 0.2094 Test Acc: 0.1624\n",
      "Epoch: 8 Train Loss: 2.5432 Train Acc: 0.2094 Test Acc: 0.1624\n",
      "Epoch: 9 Train Loss: 2.5378 Train Acc: 0.2094 Test Acc: 0.1624\n",
      "Epoch: 10 Train Loss: 2.5316 Train Acc: 0.2094 Test Acc: 0.1624\n",
      "Epoch: 11 Train Loss: 2.5247 Train Acc: 0.2094 Test Acc: 0.1624\n",
      "Epoch: 12 Train Loss: 2.5174 Train Acc: 0.2094 Test Acc: 0.1624\n"
     ]
    },
    {
     "name": "stderr",
     "output_type": "stream",
     "text": [
      " 18%|█▊        | 18/100 [00:00<00:02, 34.22it/s]"
     ]
    },
    {
     "name": "stdout",
     "output_type": "stream",
     "text": [
      "Epoch: 13 Train Loss: 2.5098 Train Acc: 0.2094 Test Acc: 0.1624\n",
      "Epoch: 14 Train Loss: 2.5021 Train Acc: 0.2094 Test Acc: 0.1624\n",
      "Epoch: 15 Train Loss: 2.4948 Train Acc: 0.2094 Test Acc: 0.1624\n",
      "Epoch: 16 Train Loss: 2.4879 Train Acc: 0.2094 Test Acc: 0.1624\n",
      "Epoch: 17 Train Loss: 2.4820 Train Acc: 0.2094 Test Acc: 0.1624\n",
      "Epoch: 18 Train Loss: 2.4772 Train Acc: 0.2094 Test Acc: 0.1624\n",
      "Epoch: 19 Train Loss: 2.4737 Train Acc: 0.2094 Test Acc: 0.1624\n",
      "Epoch: 20 Train Loss: 2.4714 Train Acc: 0.2094 Test Acc: 0.1624\n"
     ]
    },
    {
     "name": "stderr",
     "output_type": "stream",
     "text": [
      " 26%|██▌       | 26/100 [00:00<00:02, 35.69it/s]"
     ]
    },
    {
     "name": "stdout",
     "output_type": "stream",
     "text": [
      "Epoch: 21 Train Loss: 2.4700 Train Acc: 0.2094 Test Acc: 0.1624\n",
      "Epoch: 22 Train Loss: 2.4690 Train Acc: 0.2094 Test Acc: 0.1624\n",
      "Epoch: 23 Train Loss: 2.4681 Train Acc: 0.2094 Test Acc: 0.1624\n",
      "Epoch: 24 Train Loss: 2.4672 Train Acc: 0.2094 Test Acc: 0.1624\n",
      "Epoch: 25 Train Loss: 2.4660 Train Acc: 0.2094 Test Acc: 0.1624\n",
      "Epoch: 26 Train Loss: 2.4646 Train Acc: 0.2094 Test Acc: 0.1624\n",
      "Epoch: 27 Train Loss: 2.4631 Train Acc: 0.2094 Test Acc: 0.1624\n",
      "Epoch: 28 Train Loss: 2.4617 Train Acc: 0.2094 Test Acc: 0.1624\n"
     ]
    },
    {
     "name": "stderr",
     "output_type": "stream",
     "text": [
      " 34%|███▍      | 34/100 [00:01<00:01, 36.19it/s]"
     ]
    },
    {
     "name": "stdout",
     "output_type": "stream",
     "text": [
      "Epoch: 29 Train Loss: 2.4610 Train Acc: 0.2094 Test Acc: 0.1624\n",
      "Epoch: 30 Train Loss: 2.4610 Train Acc: 0.1903 Test Acc: 0.1601\n",
      "Epoch: 31 Train Loss: 2.4616 Train Acc: 0.1889 Test Acc: 0.1570\n",
      "Epoch: 32 Train Loss: 2.4623 Train Acc: 0.1889 Test Acc: 0.1570\n",
      "Epoch: 33 Train Loss: 2.4625 Train Acc: 0.1889 Test Acc: 0.1570\n",
      "Epoch: 34 Train Loss: 2.4621 Train Acc: 0.1889 Test Acc: 0.1570\n",
      "Epoch: 35 Train Loss: 2.4614 Train Acc: 0.2094 Test Acc: 0.1624\n",
      "Epoch: 36 Train Loss: 2.4607 Train Acc: 0.2094 Test Acc: 0.1624\n"
     ]
    },
    {
     "name": "stderr",
     "output_type": "stream",
     "text": [
      " 42%|████▏     | 42/100 [00:01<00:01, 36.70it/s]"
     ]
    },
    {
     "name": "stdout",
     "output_type": "stream",
     "text": [
      "Epoch: 37 Train Loss: 2.4603 Train Acc: 0.2094 Test Acc: 0.1624\n",
      "Epoch: 38 Train Loss: 2.4603 Train Acc: 0.2094 Test Acc: 0.1624\n",
      "Epoch: 39 Train Loss: 2.4605 Train Acc: 0.2094 Test Acc: 0.1624\n",
      "Epoch: 40 Train Loss: 2.4609 Train Acc: 0.2094 Test Acc: 0.1624\n",
      "Epoch: 41 Train Loss: 2.4610 Train Acc: 0.2094 Test Acc: 0.1624\n",
      "Epoch: 42 Train Loss: 2.4610 Train Acc: 0.2094 Test Acc: 0.1624\n",
      "Epoch: 43 Train Loss: 2.4608 Train Acc: 0.2094 Test Acc: 0.1624\n",
      "Epoch: 44 Train Loss: 2.4605 Train Acc: 0.2094 Test Acc: 0.1624\n"
     ]
    },
    {
     "name": "stderr",
     "output_type": "stream",
     "text": [
      " 50%|█████     | 50/100 [00:01<00:01, 37.41it/s]"
     ]
    },
    {
     "name": "stdout",
     "output_type": "stream",
     "text": [
      "Epoch: 45 Train Loss: 2.4602 Train Acc: 0.2094 Test Acc: 0.1624\n",
      "Epoch: 46 Train Loss: 2.4601 Train Acc: 0.2094 Test Acc: 0.1624\n",
      "Epoch: 47 Train Loss: 2.4602 Train Acc: 0.2094 Test Acc: 0.1624\n",
      "Epoch: 48 Train Loss: 2.4603 Train Acc: 0.2094 Test Acc: 0.1624\n",
      "Epoch: 49 Train Loss: 2.4604 Train Acc: 0.2094 Test Acc: 0.1624\n",
      "Epoch: 50 Train Loss: 2.4605 Train Acc: 0.2094 Test Acc: 0.1624\n",
      "Epoch: 51 Train Loss: 2.4604 Train Acc: 0.2094 Test Acc: 0.1624\n",
      "Epoch: 52 Train Loss: 2.4602 Train Acc: 0.2094 Test Acc: 0.1624\n"
     ]
    },
    {
     "name": "stderr",
     "output_type": "stream",
     "text": [
      " 58%|█████▊    | 58/100 [00:01<00:01, 37.40it/s]"
     ]
    },
    {
     "name": "stdout",
     "output_type": "stream",
     "text": [
      "Epoch: 53 Train Loss: 2.4601 Train Acc: 0.2094 Test Acc: 0.1624\n",
      "Epoch: 54 Train Loss: 2.4600 Train Acc: 0.2094 Test Acc: 0.1624\n",
      "Epoch: 55 Train Loss: 2.4601 Train Acc: 0.2094 Test Acc: 0.1624\n",
      "Epoch: 56 Train Loss: 2.4601 Train Acc: 0.2094 Test Acc: 0.1624\n",
      "Epoch: 57 Train Loss: 2.4602 Train Acc: 0.2094 Test Acc: 0.1624\n",
      "Epoch: 58 Train Loss: 2.4601 Train Acc: 0.2094 Test Acc: 0.1624\n",
      "Epoch: 59 Train Loss: 2.4601 Train Acc: 0.2094 Test Acc: 0.1624\n",
      "Epoch: 60 Train Loss: 2.4600 Train Acc: 0.2094 Test Acc: 0.1624\n"
     ]
    },
    {
     "name": "stderr",
     "output_type": "stream",
     "text": [
      " 66%|██████▌   | 66/100 [00:01<00:00, 37.65it/s]"
     ]
    },
    {
     "name": "stdout",
     "output_type": "stream",
     "text": [
      "Epoch: 61 Train Loss: 2.4599 Train Acc: 0.2094 Test Acc: 0.1624\n",
      "Epoch: 62 Train Loss: 2.4598 Train Acc: 0.2094 Test Acc: 0.1624\n",
      "Epoch: 63 Train Loss: 2.4597 Train Acc: 0.2094 Test Acc: 0.1624\n",
      "Epoch: 64 Train Loss: 2.4596 Train Acc: 0.2094 Test Acc: 0.1624\n",
      "Epoch: 65 Train Loss: 2.4596 Train Acc: 0.2094 Test Acc: 0.1624\n",
      "Epoch: 66 Train Loss: 2.4594 Train Acc: 0.2094 Test Acc: 0.1624\n",
      "Epoch: 67 Train Loss: 2.4592 Train Acc: 0.2094 Test Acc: 0.1624\n",
      "Epoch: 68 Train Loss: 2.4590 Train Acc: 0.2094 Test Acc: 0.1624\n"
     ]
    },
    {
     "name": "stderr",
     "output_type": "stream",
     "text": [
      " 74%|███████▍  | 74/100 [00:02<00:00, 37.51it/s]"
     ]
    },
    {
     "name": "stdout",
     "output_type": "stream",
     "text": [
      "Epoch: 69 Train Loss: 2.4587 Train Acc: 0.2094 Test Acc: 0.1624\n",
      "Epoch: 70 Train Loss: 2.4584 Train Acc: 0.2094 Test Acc: 0.1624\n",
      "Epoch: 71 Train Loss: 2.4581 Train Acc: 0.2094 Test Acc: 0.1624\n",
      "Epoch: 72 Train Loss: 2.4578 Train Acc: 0.2094 Test Acc: 0.1624\n",
      "Epoch: 73 Train Loss: 2.4574 Train Acc: 0.2094 Test Acc: 0.1624\n",
      "Epoch: 74 Train Loss: 2.4570 Train Acc: 0.2094 Test Acc: 0.1624\n",
      "Epoch: 75 Train Loss: 2.4564 Train Acc: 0.2094 Test Acc: 0.1624\n",
      "Epoch: 76 Train Loss: 2.4559 Train Acc: 0.2094 Test Acc: 0.1624\n"
     ]
    },
    {
     "name": "stderr",
     "output_type": "stream",
     "text": [
      " 82%|████████▏ | 82/100 [00:02<00:00, 37.69it/s]"
     ]
    },
    {
     "name": "stdout",
     "output_type": "stream",
     "text": [
      "Epoch: 77 Train Loss: 2.4553 Train Acc: 0.2094 Test Acc: 0.1624\n",
      "Epoch: 78 Train Loss: 2.4547 Train Acc: 0.2094 Test Acc: 0.1624\n",
      "Epoch: 79 Train Loss: 2.4540 Train Acc: 0.2094 Test Acc: 0.1624\n",
      "Epoch: 80 Train Loss: 2.4533 Train Acc: 0.2142 Test Acc: 0.1639\n",
      "Epoch: 81 Train Loss: 2.4525 Train Acc: 0.2144 Test Acc: 0.1647\n",
      "Epoch: 82 Train Loss: 2.4517 Train Acc: 0.2185 Test Acc: 0.1671\n",
      "Epoch: 83 Train Loss: 2.4507 Train Acc: 0.2293 Test Acc: 0.1740\n",
      "Epoch: 84 Train Loss: 2.4496 Train Acc: 0.2467 Test Acc: 0.1888\n"
     ]
    },
    {
     "name": "stderr",
     "output_type": "stream",
     "text": [
      " 90%|█████████ | 90/100 [00:02<00:00, 37.64it/s]"
     ]
    },
    {
     "name": "stdout",
     "output_type": "stream",
     "text": [
      "Epoch: 85 Train Loss: 2.4485 Train Acc: 0.2855 Test Acc: 0.1841\n",
      "Epoch: 86 Train Loss: 2.4472 Train Acc: 0.3051 Test Acc: 0.1888\n",
      "Epoch: 87 Train Loss: 2.4459 Train Acc: 0.3076 Test Acc: 0.1849\n",
      "Epoch: 88 Train Loss: 2.4444 Train Acc: 0.2962 Test Acc: 0.1826\n",
      "Epoch: 89 Train Loss: 2.4427 Train Acc: 0.2997 Test Acc: 0.1849\n",
      "Epoch: 90 Train Loss: 2.4408 Train Acc: 0.2804 Test Acc: 0.1803\n",
      "Epoch: 91 Train Loss: 2.4387 Train Acc: 0.2850 Test Acc: 0.1818\n",
      "Epoch: 92 Train Loss: 2.4362 Train Acc: 0.2812 Test Acc: 0.1826\n"
     ]
    },
    {
     "name": "stderr",
     "output_type": "stream",
     "text": [
      "100%|██████████| 100/100 [00:02<00:00, 36.16it/s]"
     ]
    },
    {
     "name": "stdout",
     "output_type": "stream",
     "text": [
      "Epoch: 93 Train Loss: 2.4335 Train Acc: 0.2790 Test Acc: 0.1787\n",
      "Epoch: 94 Train Loss: 2.4305 Train Acc: 0.2781 Test Acc: 0.1810\n",
      "Epoch: 95 Train Loss: 2.4273 Train Acc: 0.2615 Test Acc: 0.1772\n",
      "Epoch: 96 Train Loss: 2.4240 Train Acc: 0.2899 Test Acc: 0.1865\n",
      "Epoch: 97 Train Loss: 2.4207 Train Acc: 0.2374 Test Acc: 0.1678\n",
      "Epoch: 98 Train Loss: 2.4176 Train Acc: 0.2934 Test Acc: 0.1888\n",
      "Epoch: 99 Train Loss: 2.4130 Train Acc: 0.2995 Test Acc: 0.1896\n"
     ]
    },
    {
     "name": "stderr",
     "output_type": "stream",
     "text": [
      "\n"
     ]
    },
    {
     "data": {
      "image/png": "[encoded data removed]",
      "text/plain": [
       "<Figure size 640x480 with 1 Axes>"
      ]
     },
     "metadata": {},
     "output_type": "display_data"
    }
   ],
   "source": [
    "from sklearn.metrics import confusion_matrix, classification_report, accuracy_score\n",
    "\n",
    "def train(model, X_train, y_train, X_test, y_test, optimizer, loss_fn, epochs=10):\n",
    "    train_acc = []\n",
    "    test_acc = []\n",
    "    train_loss =[]\n",
    "    test_loss = []\n",
    "    for epoch in tqdm(range(epochs)):\n",
    "        model.train()\n",
    "        optimizer.zero_grad()\n",
    "        y_pred = model(X_train)\n",
    "        loss = loss_fn(y_pred, y_train.squeeze())\n",
    "        loss.backward()\n",
    "        optimizer.step()\n",
    "        model.eval()\n",
    "        with torch.no_grad():\n",
    "            y_pred_train = model(X_train)\n",
    "            y_pred_test = model(X_test)\n",
    "            train_acc.append(accuracy_score(y_train.cpu(), y_pred_train.cpu().argmax(1)))\n",
    "            test_acc.append(accuracy_score(y_test.cpu(), y_pred_test.cpu().argmax(1)))\n",
    "            train_loss.append(loss.item())\n",
    "            print('Epoch: {} Train Loss: {:.4f} Train Acc: {:.4f} Test Acc: {:.4f}'.format(epoch, loss.item(), train_acc[-1], test_acc[-1]))\n",
    "    return train_acc, test_acc, train_loss\n",
    "\n",
    "\n",
    "train_acc, test_acc, train_loss = train(model, X_train1, y_train1, X_test1, y_test1, optimizer, loss_fn, epochs=100)\n",
    "\n",
    "plt.plot(train_acc, label='train', color = 'b')\n",
    "\n",
    "plt.plot(test_acc, label='test', color = 'r')\n",
    "\n",
    "plt.plot(train_loss, label = 'train_loss', color = 'yellow')\n",
    "\n",
    "plt.legend()\n",
    "\n",
    "plt.show()\n",
    "\n"
   ]
  },
  {
   "cell_type": "code",
   "execution_count": 2,
   "metadata": {},
   "outputs": [],
   "source": [
    "with open('../Data/mHealth_subject10.log', 'r') as f:\n",
    "    data = f.readlines()"
   ]
  },
  {
   "cell_type": "code",
   "execution_count": 35,
   "metadata": {},
   "outputs": [],
   "source": [
    "def toPickle(path, name):\n",
    "    with open(path, 'r') as f:\n",
    "        data = f.readlines()\n",
    "    for i in range(len(data)):\n",
    "        data[i] = data[i].split('\\t')\n",
    "        data[i][-1] = data[i][-1].strip('\\n')\n",
    "\n",
    "    for i in range(len(data)):\n",
    "        data[i] = [float(x) for x in data[i]]\n",
    "    \n",
    "    cols = ['xc_ACC', 'yc_ACC', 'zc_ACC', 'ecg1', 'ecg2', 'xla_ACC', 'yla_ACC', 'zla_ACC', 'xla_GYR', 'yla_GYR', 'zla_GYR', 'xla_MAG', 'yla_MAG', 'zla_MAG', 'xrla_ACC',\n",
    "        'yrla_ACC','zrla_ACC','xrla_GYR','yrla_GYR','zrla_GYR','xrla_MAG','yrla_MAG','zrla_MAG', 'label']\n",
    "    \n",
    "    mHealth_subject = pd.DataFrame(data, columns=cols)\n",
    "\n",
    "    print(mHealth_subject['label'].value_counts())\n",
    "\n",
    "    with open('../Data/mHealth/' + name + '.pickle', 'wb') as f:\n",
    "        pickle.dump(mHealth_subject, f)\n",
    "\n",
    "    return mHealth_subject"
   ]
  },
  {
   "cell_type": "code",
   "execution_count": 47,
   "metadata": {},
   "outputs": [
    {
     "name": "stdout",
     "output_type": "stream",
     "text": [
      "0.0     100814\n",
      "1.0       3072\n",
      "2.0       3072\n",
      "3.0       3072\n",
      "4.0       3072\n",
      "9.0       3072\n",
      "10.0      3072\n",
      "11.0      3072\n",
      "5.0       3072\n",
      "8.0       2969\n",
      "6.0       2867\n",
      "7.0       2867\n",
      "12.0      1075\n",
      "Name: label, dtype: int64\n"
     ]
    }
   ],
   "source": [
    "a = toPickle('../Data/mHealth/mHealth_subject9.log', 'mHealth_subject9')"
   ]
  },
  {
   "cell_type": "code",
   "execution_count": 124,
   "metadata": {},
   "outputs": [],
   "source": [
    "with open('../Data/mHealth/mHealth_subject5.pickle', 'rb') as f:\n",
    "    data = pickle.load(f)"
   ]
  },
  {
   "cell_type": "code",
   "execution_count": 125,
   "metadata": {},
   "outputs": [
    {
     "data": {
      "text/plain": [
       "<AxesSubplot:>"
      ]
     },
     "execution_count": 125,
     "metadata": {},
     "output_type": "execute_result"
    },
    {
     "data": {
      "image/png": "[encoded data removed]",
      "text/plain": [
       "<Figure size 640x480 with 1 Axes>"
      ]
     },
     "metadata": {},
     "output_type": "display_data"
    }
   ],
   "source": [
    "data[['label']].plot()"
   ]
  },
  {
   "cell_type": "code",
   "execution_count": 22,
   "metadata": {},
   "outputs": [],
   "source": [
    "import copy\n",
    "\n",
    "data_copy = copy.deepcopy(data)"
   ]
  },
  {
   "cell_type": "code",
   "execution_count": 23,
   "metadata": {},
   "outputs": [],
   "source": [
    "for i in range(len(data)):\n",
    "    data_copy[i] = data_copy[i].split('\\t')\n",
    "    data_copy[i][-1] = data_copy[i][-1].strip('\\n')"
   ]
  },
  {
   "cell_type": "code",
   "execution_count": 24,
   "metadata": {},
   "outputs": [],
   "source": [
    "for i in range(len(data_copy)):\n",
    "    data_copy[i] = [float(x) for x in data_copy[i]]"
   ]
  },
  {
   "cell_type": "code",
   "execution_count": 30,
   "metadata": {},
   "outputs": [],
   "source": [
    "cols = ['xc_ACC', 'yc_ACC', 'zc_ACC', 'ecg1', 'ecg2', 'xla_ACC', 'yla_ACC', 'zla_ACC', 'xla_GYR', 'yla_GYR', 'zla_GYR', 'xla_MAG', 'yla_MAG', 'zla_MAG', 'xrla_ACC',\n",
    "        'yrla_ACC','zrla_ACC','xrla_GYR','yrla_GYR','zrla_GYR','xrla_MAG','yrla_MAG','zrla_MAG', 'label']"
   ]
  },
  {
   "cell_type": "code",
   "execution_count": 31,
   "metadata": {},
   "outputs": [],
   "source": [
    "mHealth_subject10 = pd.DataFrame(data_copy, columns=cols)"
   ]
  },
  {
   "cell_type": "code",
   "execution_count": 33,
   "metadata": {},
   "outputs": [
    {
     "data": {
      "text/plain": [
       "0.0     64614\n",
       "5.0      3072\n",
       "1.0      3072\n",
       "2.0      3072\n",
       "3.0      3072\n",
       "4.0      3072\n",
       "9.0      3072\n",
       "10.0     3072\n",
       "11.0     3072\n",
       "8.0      2867\n",
       "7.0      2765\n",
       "6.0      2458\n",
       "12.0     1024\n",
       "Name: label, dtype: int64"
      ]
     },
     "execution_count": 33,
     "metadata": {},
     "output_type": "execute_result"
    }
   ],
   "source": [
    "mHealth_subject10['label'].value_counts()"
   ]
  },
  {
   "cell_type": "code",
   "execution_count": 29,
   "metadata": {},
   "outputs": [],
   "source": [
    "cols = ['xc_ACC', 'yc_ACC', 'zc_ACC', 'ecg1', 'ecg2', 'xla_ACC', 'yla_ACC', 'zla_ACC', 'xla_GYR', 'yla_GYR', 'zla_GYR', 'xla_MAG', 'yla_MAG', 'zla_MAG', 'xrla_ACC',\n",
    "        'yrla_ACC','zrla_ACC','xrla_GYR','yrla_GYR','zrla_GYR','xrla_MAG','yrla_MAG','zrla_MAG', 'label']"
   ]
  },
  {
   "cell_type": "code",
   "execution_count": 1,
   "metadata": {},
   "outputs": [],
   "source": [
    "modal_chest = ['xc_ACC', 'yc_ACC', 'zc_ACC', 'ecg1', 'ecg2']\n",
    "modal_left_angle = ['xla_ACC', 'yla_ACC', 'zla_ACC', 'xla_GYR', 'yla_GYR', 'zla_GYR', 'xla_MAG', 'yla_MAG', 'zla_MAG']\n",
    "modal_right_lower_arm = ['xrla_ACC', 'yrla_ACC','zrla_ACC','xrla_GYR','yrla_GYR','zrla_GYR','xrla_MAG','yrla_MAG','zrla_MAG']\n"
   ]
  },
  {
   "cell_type": "code",
   "execution_count": 30,
   "metadata": {},
   "outputs": [
    {
     "data": {
      "text/plain": [
       "0.0     126106\n",
       "8.0       3379\n",
       "1.0       3072\n",
       "2.0       3072\n",
       "3.0       3072\n",
       "4.0       3072\n",
       "6.0       3072\n",
       "7.0       3072\n",
       "9.0       3072\n",
       "10.0      3072\n",
       "11.0      3072\n",
       "5.0       3072\n",
       "12.0      1075\n",
       "Name: label, dtype: int64"
      ]
     },
     "execution_count": 30,
     "metadata": {},
     "output_type": "execute_result"
    }
   ],
   "source": [
    "with open('../Data/mHealth/mHealth_subject1.pickle', 'rb') as f:\n",
    "    data = pickle.load(f)\n",
    "data['label'].value_counts()"
   ]
  },
  {
   "cell_type": "code",
   "execution_count": 32,
   "metadata": {},
   "outputs": [
    {
     "data": {
      "text/plain": [
       "array([40, 46, 94, 95, 30, 79, 90, 55, 24, 32])"
      ]
     },
     "execution_count": 32,
     "metadata": {},
     "output_type": "execute_result"
    }
   ],
   "source": [
    "np.random.randint(0, 100, 10)"
   ]
  },
  {
   "cell_type": "code",
   "execution_count": 43,
   "metadata": {},
   "outputs": [
    {
     "data": {
      "text/plain": [
       "0.0     126106\n",
       "8.0       3379\n",
       "1.0       3072\n",
       "2.0       3072\n",
       "3.0       3072\n",
       "4.0       3072\n",
       "6.0       3072\n",
       "7.0       3072\n",
       "9.0       3072\n",
       "10.0      3072\n",
       "11.0      3072\n",
       "5.0       3072\n",
       "12.0      1075\n",
       "Name: label, dtype: int64"
      ]
     },
     "execution_count": 43,
     "metadata": {},
     "output_type": "execute_result"
    }
   ],
   "source": [
    "data['label'].value_counts()"
   ]
  },
  {
   "cell_type": "code",
   "execution_count": 46,
   "metadata": {},
   "outputs": [],
   "source": [
    "result = pd.DataFrame([])\n",
    "for i in range(1, 13):\n",
    "    if i == 12:\n",
    "        balanced = data.loc[data['label'] == i].reset_index(drop=True)\n",
    "    else:\n",
    "        balanced = data.loc[data['label'] == i].reset_index(drop=True).loc[np.random.randint(0, 3072, 1075)].reset_index(drop=True)\n",
    "\n",
    "    result = pd.concat([result, balanced], axis=0)"
   ]
  },
  {
   "cell_type": "code",
   "execution_count": null,
   "metadata": {},
   "outputs": [],
   "source": []
  },
  {
   "cell_type": "code",
   "execution_count": 50,
   "metadata": {},
   "outputs": [],
   "source": [
    "shuf = result.sample(frac=1).reset_index(drop=True)"
   ]
  },
  {
   "cell_type": "code",
   "execution_count": 54,
   "metadata": {},
   "outputs": [],
   "source": [
    "with open('../Data/mHealth/mHealth_balanced.pickle', 'wb') as f:\n",
    "    pickle.dump(shuf, f)"
   ]
  },
  {
   "cell_type": "code",
   "execution_count": 55,
   "metadata": {},
   "outputs": [],
   "source": [
    "with open('../Data/mHealth/mHealth_balanced.pickle', 'rb') as f:\n",
    "    data = pickle.load(f)"
   ]
  },
  {
   "cell_type": "code",
   "execution_count": 57,
   "metadata": {},
   "outputs": [
    {
     "data": {
      "text/plain": [
       "6.0     1075\n",
       "11.0    1075\n",
       "1.0     1075\n",
       "7.0     1075\n",
       "5.0     1075\n",
       "12.0    1075\n",
       "3.0     1075\n",
       "4.0     1075\n",
       "2.0     1075\n",
       "9.0     1075\n",
       "8.0     1075\n",
       "10.0    1075\n",
       "Name: label, dtype: int64"
      ]
     },
     "execution_count": 57,
     "metadata": {},
     "output_type": "execute_result"
    }
   ],
   "source": [
    "data['label'].value_counts()"
   ]
  },
  {
   "cell_type": "code",
   "execution_count": 48,
   "metadata": {},
   "outputs": [],
   "source": [
    "result = result.reset_index(drop=True)"
   ]
  },
  {
   "cell_type": "code",
   "execution_count": 41,
   "metadata": {},
   "outputs": [],
   "source": [
    "balanced = data.loc[data['label'] == 0].reset_index(drop=True).loc[np.random.randint(0, 120000, 1075)].reset_index(drop=True)\n"
   ]
  },
  {
   "cell_type": "code",
   "execution_count": 42,
   "metadata": {},
   "outputs": [
    {
     "data": {
      "text/html": [
       "<div>\n",
       "<style scoped>\n",
       "    .dataframe tbody tr th:only-of-type {\n",
       "        vertical-align: middle;\n",
       "    }\n",
       "\n",
       "    .dataframe tbody tr th {\n",
       "        vertical-align: top;\n",
       "    }\n",
       "\n",
       "    .dataframe thead th {\n",
       "        text-align: right;\n",
       "    }\n",
       "</style>\n",
       "<table border=\"1\" class=\"dataframe\">\n",
       "  <thead>\n",
       "    <tr style=\"text-align: right;\">\n",
       "      <th></th>\n",
       "      <th>xc_ACC</th>\n",
       "      <th>yc_ACC</th>\n",
       "      <th>zc_ACC</th>\n",
       "      <th>ecg1</th>\n",
       "      <th>ecg2</th>\n",
       "      <th>xla_ACC</th>\n",
       "      <th>yla_ACC</th>\n",
       "      <th>zla_ACC</th>\n",
       "      <th>xla_GYR</th>\n",
       "      <th>yla_GYR</th>\n",
       "      <th>...</th>\n",
       "      <th>xrla_ACC</th>\n",
       "      <th>yrla_ACC</th>\n",
       "      <th>zrla_ACC</th>\n",
       "      <th>xrla_GYR</th>\n",
       "      <th>yrla_GYR</th>\n",
       "      <th>zrla_GYR</th>\n",
       "      <th>xrla_MAG</th>\n",
       "      <th>yrla_MAG</th>\n",
       "      <th>zrla_MAG</th>\n",
       "      <th>label</th>\n",
       "    </tr>\n",
       "  </thead>\n",
       "  <tbody>\n",
       "    <tr>\n",
       "      <th>0</th>\n",
       "      <td>-8.5822</td>\n",
       "      <td>0.82613</td>\n",
       "      <td>-5.33620</td>\n",
       "      <td>0.083726</td>\n",
       "      <td>0.016745</td>\n",
       "      <td>0.83519</td>\n",
       "      <td>-6.5804</td>\n",
       "      <td>-0.61233</td>\n",
       "      <td>0.40260</td>\n",
       "      <td>-0.71670</td>\n",
       "      <td>...</td>\n",
       "      <td>-3.1347</td>\n",
       "      <td>-8.098100</td>\n",
       "      <td>9.18880</td>\n",
       "      <td>0.456860</td>\n",
       "      <td>-0.45585</td>\n",
       "      <td>1.12070</td>\n",
       "      <td>6.90430</td>\n",
       "      <td>8.199600</td>\n",
       "      <td>10.16400</td>\n",
       "      <td>0.0</td>\n",
       "    </tr>\n",
       "    <tr>\n",
       "      <th>1</th>\n",
       "      <td>-1.0691</td>\n",
       "      <td>-0.58708</td>\n",
       "      <td>1.07350</td>\n",
       "      <td>0.309790</td>\n",
       "      <td>0.234430</td>\n",
       "      <td>2.67580</td>\n",
       "      <td>-13.1660</td>\n",
       "      <td>-1.70440</td>\n",
       "      <td>-0.66605</td>\n",
       "      <td>-0.51595</td>\n",
       "      <td>...</td>\n",
       "      <td>-6.7746</td>\n",
       "      <td>-0.772570</td>\n",
       "      <td>1.74260</td>\n",
       "      <td>-0.631370</td>\n",
       "      <td>0.18686</td>\n",
       "      <td>-0.78664</td>\n",
       "      <td>-0.55111</td>\n",
       "      <td>-1.251400</td>\n",
       "      <td>19.49600</td>\n",
       "      <td>0.0</td>\n",
       "    </tr>\n",
       "    <tr>\n",
       "      <th>2</th>\n",
       "      <td>-9.5481</td>\n",
       "      <td>-0.37230</td>\n",
       "      <td>1.41910</td>\n",
       "      <td>-0.221870</td>\n",
       "      <td>-0.255360</td>\n",
       "      <td>2.07050</td>\n",
       "      <td>-9.5889</td>\n",
       "      <td>0.52043</td>\n",
       "      <td>0.56215</td>\n",
       "      <td>-0.69418</td>\n",
       "      <td>...</td>\n",
       "      <td>-3.8799</td>\n",
       "      <td>-9.491700</td>\n",
       "      <td>0.82750</td>\n",
       "      <td>0.233330</td>\n",
       "      <td>-0.99795</td>\n",
       "      <td>0.51724</td>\n",
       "      <td>3.05140</td>\n",
       "      <td>-0.062389</td>\n",
       "      <td>-3.18740</td>\n",
       "      <td>0.0</td>\n",
       "    </tr>\n",
       "    <tr>\n",
       "      <th>3</th>\n",
       "      <td>-8.7145</td>\n",
       "      <td>-0.63675</td>\n",
       "      <td>-3.62570</td>\n",
       "      <td>-0.012559</td>\n",
       "      <td>0.163270</td>\n",
       "      <td>2.57980</td>\n",
       "      <td>-9.4506</td>\n",
       "      <td>-2.48840</td>\n",
       "      <td>-0.58813</td>\n",
       "      <td>-0.70732</td>\n",
       "      <td>...</td>\n",
       "      <td>-3.5698</td>\n",
       "      <td>-9.830600</td>\n",
       "      <td>1.93560</td>\n",
       "      <td>0.321570</td>\n",
       "      <td>-0.99589</td>\n",
       "      <td>-0.21121</td>\n",
       "      <td>4.81490</td>\n",
       "      <td>50.614000</td>\n",
       "      <td>-33.62300</td>\n",
       "      <td>0.0</td>\n",
       "    </tr>\n",
       "    <tr>\n",
       "      <th>4</th>\n",
       "      <td>-9.7485</td>\n",
       "      <td>0.55521</td>\n",
       "      <td>0.38681</td>\n",
       "      <td>-0.079540</td>\n",
       "      <td>-0.711670</td>\n",
       "      <td>2.15950</td>\n",
       "      <td>-9.6617</td>\n",
       "      <td>0.16351</td>\n",
       "      <td>-0.20037</td>\n",
       "      <td>-0.84240</td>\n",
       "      <td>...</td>\n",
       "      <td>-2.2988</td>\n",
       "      <td>-9.176500</td>\n",
       "      <td>1.35370</td>\n",
       "      <td>0.105880</td>\n",
       "      <td>-0.98973</td>\n",
       "      <td>-0.39655</td>\n",
       "      <td>0.53495</td>\n",
       "      <td>-0.364570</td>\n",
       "      <td>0.37536</td>\n",
       "      <td>0.0</td>\n",
       "    </tr>\n",
       "    <tr>\n",
       "      <th>...</th>\n",
       "      <td>...</td>\n",
       "      <td>...</td>\n",
       "      <td>...</td>\n",
       "      <td>...</td>\n",
       "      <td>...</td>\n",
       "      <td>...</td>\n",
       "      <td>...</td>\n",
       "      <td>...</td>\n",
       "      <td>...</td>\n",
       "      <td>...</td>\n",
       "      <td>...</td>\n",
       "      <td>...</td>\n",
       "      <td>...</td>\n",
       "      <td>...</td>\n",
       "      <td>...</td>\n",
       "      <td>...</td>\n",
       "      <td>...</td>\n",
       "      <td>...</td>\n",
       "      <td>...</td>\n",
       "      <td>...</td>\n",
       "      <td>...</td>\n",
       "    </tr>\n",
       "    <tr>\n",
       "      <th>1070</th>\n",
       "      <td>-8.7621</td>\n",
       "      <td>-1.29140</td>\n",
       "      <td>0.17851</td>\n",
       "      <td>0.012559</td>\n",
       "      <td>0.246990</td>\n",
       "      <td>0.22346</td>\n",
       "      <td>-10.3800</td>\n",
       "      <td>-4.36050</td>\n",
       "      <td>-0.40631</td>\n",
       "      <td>-0.61538</td>\n",
       "      <td>...</td>\n",
       "      <td>-1.3259</td>\n",
       "      <td>-8.915000</td>\n",
       "      <td>1.50220</td>\n",
       "      <td>-0.029412</td>\n",
       "      <td>-1.14370</td>\n",
       "      <td>-0.46983</td>\n",
       "      <td>7.59080</td>\n",
       "      <td>5.038300</td>\n",
       "      <td>21.40100</td>\n",
       "      <td>0.0</td>\n",
       "    </tr>\n",
       "    <tr>\n",
       "      <th>1071</th>\n",
       "      <td>-10.4290</td>\n",
       "      <td>1.23170</td>\n",
       "      <td>-1.27860</td>\n",
       "      <td>-1.084200</td>\n",
       "      <td>-0.293040</td>\n",
       "      <td>5.97840</td>\n",
       "      <td>-8.1895</td>\n",
       "      <td>-0.14136</td>\n",
       "      <td>-0.34694</td>\n",
       "      <td>-0.90994</td>\n",
       "      <td>...</td>\n",
       "      <td>-8.0121</td>\n",
       "      <td>-0.035851</td>\n",
       "      <td>1.41490</td>\n",
       "      <td>-0.845100</td>\n",
       "      <td>-0.66119</td>\n",
       "      <td>-0.20690</td>\n",
       "      <td>-53.77200</td>\n",
       "      <td>8.841700</td>\n",
       "      <td>267.79000</td>\n",
       "      <td>0.0</td>\n",
       "    </tr>\n",
       "    <tr>\n",
       "      <th>1072</th>\n",
       "      <td>-9.0401</td>\n",
       "      <td>2.50870</td>\n",
       "      <td>-3.34260</td>\n",
       "      <td>0.577710</td>\n",
       "      <td>0.904240</td>\n",
       "      <td>2.41800</td>\n",
       "      <td>-8.4097</td>\n",
       "      <td>-3.34420</td>\n",
       "      <td>0.14286</td>\n",
       "      <td>-0.88931</td>\n",
       "      <td>...</td>\n",
       "      <td>4.1319</td>\n",
       "      <td>-11.771000</td>\n",
       "      <td>1.85930</td>\n",
       "      <td>-0.456860</td>\n",
       "      <td>-0.76181</td>\n",
       "      <td>-0.48707</td>\n",
       "      <td>-4.36540</td>\n",
       "      <td>-41.565000</td>\n",
       "      <td>13.32500</td>\n",
       "      <td>0.0</td>\n",
       "    </tr>\n",
       "    <tr>\n",
       "      <th>1073</th>\n",
       "      <td>-8.4531</td>\n",
       "      <td>1.44290</td>\n",
       "      <td>0.79302</td>\n",
       "      <td>0.020931</td>\n",
       "      <td>0.355830</td>\n",
       "      <td>1.04890</td>\n",
       "      <td>-10.5910</td>\n",
       "      <td>-2.64410</td>\n",
       "      <td>0.74397</td>\n",
       "      <td>-0.42026</td>\n",
       "      <td>...</td>\n",
       "      <td>-6.2904</td>\n",
       "      <td>-6.893600</td>\n",
       "      <td>0.64491</td>\n",
       "      <td>-0.676470</td>\n",
       "      <td>-0.39014</td>\n",
       "      <td>0.77155</td>\n",
       "      <td>12.02700</td>\n",
       "      <td>17.750000</td>\n",
       "      <td>-64.19700</td>\n",
       "      <td>0.0</td>\n",
       "    </tr>\n",
       "    <tr>\n",
       "      <th>1074</th>\n",
       "      <td>-9.2221</td>\n",
       "      <td>0.49804</td>\n",
       "      <td>-3.47100</td>\n",
       "      <td>0.150710</td>\n",
       "      <td>0.075353</td>\n",
       "      <td>-0.25352</td>\n",
       "      <td>-9.7266</td>\n",
       "      <td>-0.38470</td>\n",
       "      <td>-0.22820</td>\n",
       "      <td>-0.71482</td>\n",
       "      <td>...</td>\n",
       "      <td>-5.8292</td>\n",
       "      <td>-0.990290</td>\n",
       "      <td>7.97130</td>\n",
       "      <td>-0.539220</td>\n",
       "      <td>0.64066</td>\n",
       "      <td>1.04310</td>\n",
       "      <td>-3.72540</td>\n",
       "      <td>4.479400</td>\n",
       "      <td>-9.50560</td>\n",
       "      <td>0.0</td>\n",
       "    </tr>\n",
       "  </tbody>\n",
       "</table>\n",
       "<p>1075 rows × 24 columns</p>\n",
       "</div>"
      ],
      "text/plain": [
       "       xc_ACC   yc_ACC   zc_ACC      ecg1      ecg2  xla_ACC  yla_ACC  \\\n",
       "0     -8.5822  0.82613 -5.33620  0.083726  0.016745  0.83519  -6.5804   \n",
       "1     -1.0691 -0.58708  1.07350  0.309790  0.234430  2.67580 -13.1660   \n",
       "2     -9.5481 -0.37230  1.41910 -0.221870 -0.255360  2.07050  -9.5889   \n",
       "3     -8.7145 -0.63675 -3.62570 -0.012559  0.163270  2.57980  -9.4506   \n",
       "4     -9.7485  0.55521  0.38681 -0.079540 -0.711670  2.15950  -9.6617   \n",
       "...       ...      ...      ...       ...       ...      ...      ...   \n",
       "1070  -8.7621 -1.29140  0.17851  0.012559  0.246990  0.22346 -10.3800   \n",
       "1071 -10.4290  1.23170 -1.27860 -1.084200 -0.293040  5.97840  -8.1895   \n",
       "1072  -9.0401  2.50870 -3.34260  0.577710  0.904240  2.41800  -8.4097   \n",
       "1073  -8.4531  1.44290  0.79302  0.020931  0.355830  1.04890 -10.5910   \n",
       "1074  -9.2221  0.49804 -3.47100  0.150710  0.075353 -0.25352  -9.7266   \n",
       "\n",
       "      zla_ACC  xla_GYR  yla_GYR  ...  xrla_ACC   yrla_ACC  zrla_ACC  xrla_GYR  \\\n",
       "0    -0.61233  0.40260 -0.71670  ...   -3.1347  -8.098100   9.18880  0.456860   \n",
       "1    -1.70440 -0.66605 -0.51595  ...   -6.7746  -0.772570   1.74260 -0.631370   \n",
       "2     0.52043  0.56215 -0.69418  ...   -3.8799  -9.491700   0.82750  0.233330   \n",
       "3    -2.48840 -0.58813 -0.70732  ...   -3.5698  -9.830600   1.93560  0.321570   \n",
       "4     0.16351 -0.20037 -0.84240  ...   -2.2988  -9.176500   1.35370  0.105880   \n",
       "...       ...      ...      ...  ...       ...        ...       ...       ...   \n",
       "1070 -4.36050 -0.40631 -0.61538  ...   -1.3259  -8.915000   1.50220 -0.029412   \n",
       "1071 -0.14136 -0.34694 -0.90994  ...   -8.0121  -0.035851   1.41490 -0.845100   \n",
       "1072 -3.34420  0.14286 -0.88931  ...    4.1319 -11.771000   1.85930 -0.456860   \n",
       "1073 -2.64410  0.74397 -0.42026  ...   -6.2904  -6.893600   0.64491 -0.676470   \n",
       "1074 -0.38470 -0.22820 -0.71482  ...   -5.8292  -0.990290   7.97130 -0.539220   \n",
       "\n",
       "      yrla_GYR  zrla_GYR  xrla_MAG   yrla_MAG   zrla_MAG  label  \n",
       "0     -0.45585   1.12070   6.90430   8.199600   10.16400    0.0  \n",
       "1      0.18686  -0.78664  -0.55111  -1.251400   19.49600    0.0  \n",
       "2     -0.99795   0.51724   3.05140  -0.062389   -3.18740    0.0  \n",
       "3     -0.99589  -0.21121   4.81490  50.614000  -33.62300    0.0  \n",
       "4     -0.98973  -0.39655   0.53495  -0.364570    0.37536    0.0  \n",
       "...        ...       ...       ...        ...        ...    ...  \n",
       "1070  -1.14370  -0.46983   7.59080   5.038300   21.40100    0.0  \n",
       "1071  -0.66119  -0.20690 -53.77200   8.841700  267.79000    0.0  \n",
       "1072  -0.76181  -0.48707  -4.36540 -41.565000   13.32500    0.0  \n",
       "1073  -0.39014   0.77155  12.02700  17.750000  -64.19700    0.0  \n",
       "1074   0.64066   1.04310  -3.72540   4.479400   -9.50560    0.0  \n",
       "\n",
       "[1075 rows x 24 columns]"
      ]
     },
     "execution_count": 42,
     "metadata": {},
     "output_type": "execute_result"
    }
   ],
   "source": [
    "balanced"
   ]
  },
  {
   "cell_type": "code",
   "execution_count": 17,
   "metadata": {},
   "outputs": [
    {
     "data": {
      "text/plain": [
       "count    64614.000000\n",
       "mean        -8.874695\n",
       "std          3.323434\n",
       "min        -22.139000\n",
       "25%         -9.900675\n",
       "50%         -9.294050\n",
       "75%         -7.430800\n",
       "max         13.272000\n",
       "Name: xc_ACC, dtype: float64"
      ]
     },
     "execution_count": 17,
     "metadata": {},
     "output_type": "execute_result"
    }
   ],
   "source": [
    "data.loc[data['label'] == 0]['xc_ACC'].describe()"
   ]
  },
  {
   "cell_type": "code",
   "execution_count": 18,
   "metadata": {},
   "outputs": [
    {
     "data": {
      "text/plain": [
       "count    3072.000000\n",
       "mean       -1.971242\n",
       "std         0.197143\n",
       "min        -2.582600\n",
       "25%        -2.106700\n",
       "50%        -1.988400\n",
       "75%        -1.847550\n",
       "max        -0.925930\n",
       "Name: xc_ACC, dtype: float64"
      ]
     },
     "execution_count": 18,
     "metadata": {},
     "output_type": "execute_result"
    }
   ],
   "source": [
    "data.loc[data['label'] == 3]['xc_ACC'].describe()"
   ]
  },
  {
   "cell_type": "code",
   "execution_count": 19,
   "metadata": {},
   "outputs": [
    {
     "data": {
      "text/plain": [
       "0.0     64614\n",
       "5.0      3072\n",
       "1.0      3072\n",
       "2.0      3072\n",
       "3.0      3072\n",
       "4.0      3072\n",
       "9.0      3072\n",
       "10.0     3072\n",
       "11.0     3072\n",
       "8.0      2867\n",
       "7.0      2765\n",
       "6.0      2458\n",
       "12.0     1024\n",
       "Name: label, dtype: int64"
      ]
     },
     "execution_count": 19,
     "metadata": {},
     "output_type": "execute_result"
    }
   ],
   "source": [
    "data['label'].value_counts()"
   ]
  },
  {
   "cell_type": "code",
   "execution_count": 58,
   "metadata": {},
   "outputs": [
    {
     "data": {
      "text/html": [
       "<div>\n",
       "<style scoped>\n",
       "    .dataframe tbody tr th:only-of-type {\n",
       "        vertical-align: middle;\n",
       "    }\n",
       "\n",
       "    .dataframe tbody tr th {\n",
       "        vertical-align: top;\n",
       "    }\n",
       "\n",
       "    .dataframe thead th {\n",
       "        text-align: right;\n",
       "    }\n",
       "</style>\n",
       "<table border=\"1\" class=\"dataframe\">\n",
       "  <thead>\n",
       "    <tr style=\"text-align: right;\">\n",
       "      <th></th>\n",
       "      <th>xc_ACC</th>\n",
       "      <th>yc_ACC</th>\n",
       "      <th>zc_ACC</th>\n",
       "      <th>ecg1</th>\n",
       "      <th>ecg2</th>\n",
       "      <th>xla_ACC</th>\n",
       "      <th>yla_ACC</th>\n",
       "      <th>zla_ACC</th>\n",
       "      <th>xla_GYR</th>\n",
       "      <th>yla_GYR</th>\n",
       "      <th>...</th>\n",
       "      <th>xrla_ACC</th>\n",
       "      <th>yrla_ACC</th>\n",
       "      <th>zrla_ACC</th>\n",
       "      <th>xrla_GYR</th>\n",
       "      <th>yrla_GYR</th>\n",
       "      <th>zrla_GYR</th>\n",
       "      <th>xrla_MAG</th>\n",
       "      <th>yrla_MAG</th>\n",
       "      <th>zrla_MAG</th>\n",
       "      <th>label</th>\n",
       "    </tr>\n",
       "  </thead>\n",
       "  <tbody>\n",
       "    <tr>\n",
       "      <th>0</th>\n",
       "      <td>-9.4570</td>\n",
       "      <td>0.12269</td>\n",
       "      <td>2.5163</td>\n",
       "      <td>-0.062794</td>\n",
       "      <td>0.506540</td>\n",
       "      <td>-0.007531</td>\n",
       "      <td>-9.5752</td>\n",
       "      <td>0.89616</td>\n",
       "      <td>-0.47310</td>\n",
       "      <td>-0.68856</td>\n",
       "      <td>...</td>\n",
       "      <td>-3.46760</td>\n",
       "      <td>-9.5290</td>\n",
       "      <td>3.09650</td>\n",
       "      <td>-0.852940</td>\n",
       "      <td>-0.634500</td>\n",
       "      <td>0.24353</td>\n",
       "      <td>-8.95110</td>\n",
       "      <td>2.559700</td>\n",
       "      <td>-7.0638</td>\n",
       "      <td>6.0</td>\n",
       "    </tr>\n",
       "    <tr>\n",
       "      <th>1</th>\n",
       "      <td>-21.8200</td>\n",
       "      <td>-1.44610</td>\n",
       "      <td>12.6910</td>\n",
       "      <td>-0.895870</td>\n",
       "      <td>-1.728900</td>\n",
       "      <td>19.606000</td>\n",
       "      <td>-19.3380</td>\n",
       "      <td>-18.94800</td>\n",
       "      <td>0.71614</td>\n",
       "      <td>-0.62477</td>\n",
       "      <td>...</td>\n",
       "      <td>-20.80600</td>\n",
       "      <td>-7.3736</td>\n",
       "      <td>-15.35800</td>\n",
       "      <td>-0.925490</td>\n",
       "      <td>0.022587</td>\n",
       "      <td>0.60345</td>\n",
       "      <td>157.35000</td>\n",
       "      <td>7.599900</td>\n",
       "      <td>-117.1500</td>\n",
       "      <td>11.0</td>\n",
       "    </tr>\n",
       "    <tr>\n",
       "      <th>2</th>\n",
       "      <td>-9.8095</td>\n",
       "      <td>0.57741</td>\n",
       "      <td>1.1362</td>\n",
       "      <td>-0.087912</td>\n",
       "      <td>-0.142330</td>\n",
       "      <td>2.581100</td>\n",
       "      <td>-9.6585</td>\n",
       "      <td>0.49080</td>\n",
       "      <td>-0.21336</td>\n",
       "      <td>-0.88931</td>\n",
       "      <td>...</td>\n",
       "      <td>-3.07820</td>\n",
       "      <td>-9.1534</td>\n",
       "      <td>1.65690</td>\n",
       "      <td>-0.072549</td>\n",
       "      <td>-0.940450</td>\n",
       "      <td>-0.34483</td>\n",
       "      <td>0.35892</td>\n",
       "      <td>-0.014346</td>\n",
       "      <td>-1.0757</td>\n",
       "      <td>1.0</td>\n",
       "    </tr>\n",
       "    <tr>\n",
       "      <th>3</th>\n",
       "      <td>-9.3517</td>\n",
       "      <td>0.41577</td>\n",
       "      <td>3.6164</td>\n",
       "      <td>-0.142330</td>\n",
       "      <td>-0.280480</td>\n",
       "      <td>2.480100</td>\n",
       "      <td>-9.5274</td>\n",
       "      <td>0.72551</td>\n",
       "      <td>-0.35807</td>\n",
       "      <td>-0.80488</td>\n",
       "      <td>...</td>\n",
       "      <td>0.41776</td>\n",
       "      <td>9.0539</td>\n",
       "      <td>3.39020</td>\n",
       "      <td>-0.174510</td>\n",
       "      <td>1.043100</td>\n",
       "      <td>-0.22629</td>\n",
       "      <td>-1.77400</td>\n",
       "      <td>2.133700</td>\n",
       "      <td>-6.1940</td>\n",
       "      <td>7.0</td>\n",
       "    </tr>\n",
       "    <tr>\n",
       "      <th>4</th>\n",
       "      <td>-9.0360</td>\n",
       "      <td>2.30680</td>\n",
       "      <td>-1.3292</td>\n",
       "      <td>-0.025118</td>\n",
       "      <td>-0.133960</td>\n",
       "      <td>-0.773570</td>\n",
       "      <td>-8.5874</td>\n",
       "      <td>-3.29130</td>\n",
       "      <td>0.50649</td>\n",
       "      <td>-0.75610</td>\n",
       "      <td>...</td>\n",
       "      <td>-3.79490</td>\n",
       "      <td>-7.2376</td>\n",
       "      <td>0.24229</td>\n",
       "      <td>-0.505880</td>\n",
       "      <td>-0.542090</td>\n",
       "      <td>1.09480</td>\n",
       "      <td>-15.57600</td>\n",
       "      <td>-31.531000</td>\n",
       "      <td>-10.8270</td>\n",
       "      <td>5.0</td>\n",
       "    </tr>\n",
       "    <tr>\n",
       "      <th>...</th>\n",
       "      <td>...</td>\n",
       "      <td>...</td>\n",
       "      <td>...</td>\n",
       "      <td>...</td>\n",
       "      <td>...</td>\n",
       "      <td>...</td>\n",
       "      <td>...</td>\n",
       "      <td>...</td>\n",
       "      <td>...</td>\n",
       "      <td>...</td>\n",
       "      <td>...</td>\n",
       "      <td>...</td>\n",
       "      <td>...</td>\n",
       "      <td>...</td>\n",
       "      <td>...</td>\n",
       "      <td>...</td>\n",
       "      <td>...</td>\n",
       "      <td>...</td>\n",
       "      <td>...</td>\n",
       "      <td>...</td>\n",
       "      <td>...</td>\n",
       "    </tr>\n",
       "    <tr>\n",
       "      <th>12895</th>\n",
       "      <td>-7.9340</td>\n",
       "      <td>-0.27121</td>\n",
       "      <td>-4.0455</td>\n",
       "      <td>-0.221870</td>\n",
       "      <td>0.066981</td>\n",
       "      <td>1.244100</td>\n",
       "      <td>-4.2712</td>\n",
       "      <td>-4.34700</td>\n",
       "      <td>0.41373</td>\n",
       "      <td>-0.72608</td>\n",
       "      <td>...</td>\n",
       "      <td>1.27740</td>\n",
       "      <td>-7.6503</td>\n",
       "      <td>5.97170</td>\n",
       "      <td>0.643140</td>\n",
       "      <td>-0.560570</td>\n",
       "      <td>1.03660</td>\n",
       "      <td>-6.23460</td>\n",
       "      <td>4.904000</td>\n",
       "      <td>-24.0000</td>\n",
       "      <td>9.0</td>\n",
       "    </tr>\n",
       "    <tr>\n",
       "      <th>12896</th>\n",
       "      <td>-14.4130</td>\n",
       "      <td>0.42798</td>\n",
       "      <td>1.3754</td>\n",
       "      <td>0.096285</td>\n",
       "      <td>0.196760</td>\n",
       "      <td>3.690200</td>\n",
       "      <td>-16.1100</td>\n",
       "      <td>2.90850</td>\n",
       "      <td>0.53618</td>\n",
       "      <td>-0.80863</td>\n",
       "      <td>...</td>\n",
       "      <td>-3.87470</td>\n",
       "      <td>-10.4600</td>\n",
       "      <td>1.97700</td>\n",
       "      <td>-0.582350</td>\n",
       "      <td>-0.636550</td>\n",
       "      <td>0.74353</td>\n",
       "      <td>-4.65750</td>\n",
       "      <td>-16.919000</td>\n",
       "      <td>9.4623</td>\n",
       "      <td>4.0</td>\n",
       "    </tr>\n",
       "    <tr>\n",
       "      <th>12897</th>\n",
       "      <td>-17.6880</td>\n",
       "      <td>3.59160</td>\n",
       "      <td>-15.2350</td>\n",
       "      <td>-0.523290</td>\n",
       "      <td>-1.339600</td>\n",
       "      <td>-6.180000</td>\n",
       "      <td>-16.0250</td>\n",
       "      <td>-4.43590</td>\n",
       "      <td>0.50093</td>\n",
       "      <td>-0.70919</td>\n",
       "      <td>...</td>\n",
       "      <td>-21.12300</td>\n",
       "      <td>-3.4009</td>\n",
       "      <td>-6.08670</td>\n",
       "      <td>-0.884310</td>\n",
       "      <td>0.199180</td>\n",
       "      <td>0.59483</td>\n",
       "      <td>-8.85120</td>\n",
       "      <td>12.549000</td>\n",
       "      <td>84.5350</td>\n",
       "      <td>12.0</td>\n",
       "    </tr>\n",
       "    <tr>\n",
       "      <th>12898</th>\n",
       "      <td>-8.0950</td>\n",
       "      <td>-0.80391</td>\n",
       "      <td>-3.4618</td>\n",
       "      <td>0.100470</td>\n",
       "      <td>-0.062794</td>\n",
       "      <td>-1.053400</td>\n",
       "      <td>-9.1817</td>\n",
       "      <td>-4.31340</td>\n",
       "      <td>0.51577</td>\n",
       "      <td>-0.58161</td>\n",
       "      <td>...</td>\n",
       "      <td>-1.77450</td>\n",
       "      <td>-4.7427</td>\n",
       "      <td>4.73160</td>\n",
       "      <td>0.658820</td>\n",
       "      <td>-0.556470</td>\n",
       "      <td>1.02590</td>\n",
       "      <td>2.37700</td>\n",
       "      <td>-13.651000</td>\n",
       "      <td>-19.6720</td>\n",
       "      <td>9.0</td>\n",
       "    </tr>\n",
       "    <tr>\n",
       "      <th>12899</th>\n",
       "      <td>12.4320</td>\n",
       "      <td>2.12610</td>\n",
       "      <td>2.8545</td>\n",
       "      <td>0.263740</td>\n",
       "      <td>1.410800</td>\n",
       "      <td>-13.471000</td>\n",
       "      <td>3.6146</td>\n",
       "      <td>-8.83940</td>\n",
       "      <td>0.82375</td>\n",
       "      <td>-0.45216</td>\n",
       "      <td>...</td>\n",
       "      <td>1.66750</td>\n",
       "      <td>-1.1719</td>\n",
       "      <td>-0.19401</td>\n",
       "      <td>-0.709800</td>\n",
       "      <td>0.168380</td>\n",
       "      <td>0.86422</td>\n",
       "      <td>-0.69832</td>\n",
       "      <td>-15.972000</td>\n",
       "      <td>-18.9880</td>\n",
       "      <td>12.0</td>\n",
       "    </tr>\n",
       "  </tbody>\n",
       "</table>\n",
       "<p>12900 rows × 24 columns</p>\n",
       "</div>"
      ],
      "text/plain": [
       "        xc_ACC   yc_ACC   zc_ACC      ecg1      ecg2    xla_ACC  yla_ACC  \\\n",
       "0      -9.4570  0.12269   2.5163 -0.062794  0.506540  -0.007531  -9.5752   \n",
       "1     -21.8200 -1.44610  12.6910 -0.895870 -1.728900  19.606000 -19.3380   \n",
       "2      -9.8095  0.57741   1.1362 -0.087912 -0.142330   2.581100  -9.6585   \n",
       "3      -9.3517  0.41577   3.6164 -0.142330 -0.280480   2.480100  -9.5274   \n",
       "4      -9.0360  2.30680  -1.3292 -0.025118 -0.133960  -0.773570  -8.5874   \n",
       "...        ...      ...      ...       ...       ...        ...      ...   \n",
       "12895  -7.9340 -0.27121  -4.0455 -0.221870  0.066981   1.244100  -4.2712   \n",
       "12896 -14.4130  0.42798   1.3754  0.096285  0.196760   3.690200 -16.1100   \n",
       "12897 -17.6880  3.59160 -15.2350 -0.523290 -1.339600  -6.180000 -16.0250   \n",
       "12898  -8.0950 -0.80391  -3.4618  0.100470 -0.062794  -1.053400  -9.1817   \n",
       "12899  12.4320  2.12610   2.8545  0.263740  1.410800 -13.471000   3.6146   \n",
       "\n",
       "        zla_ACC  xla_GYR  yla_GYR  ...  xrla_ACC  yrla_ACC  zrla_ACC  \\\n",
       "0       0.89616 -0.47310 -0.68856  ...  -3.46760   -9.5290   3.09650   \n",
       "1     -18.94800  0.71614 -0.62477  ... -20.80600   -7.3736 -15.35800   \n",
       "2       0.49080 -0.21336 -0.88931  ...  -3.07820   -9.1534   1.65690   \n",
       "3       0.72551 -0.35807 -0.80488  ...   0.41776    9.0539   3.39020   \n",
       "4      -3.29130  0.50649 -0.75610  ...  -3.79490   -7.2376   0.24229   \n",
       "...         ...      ...      ...  ...       ...       ...       ...   \n",
       "12895  -4.34700  0.41373 -0.72608  ...   1.27740   -7.6503   5.97170   \n",
       "12896   2.90850  0.53618 -0.80863  ...  -3.87470  -10.4600   1.97700   \n",
       "12897  -4.43590  0.50093 -0.70919  ... -21.12300   -3.4009  -6.08670   \n",
       "12898  -4.31340  0.51577 -0.58161  ...  -1.77450   -4.7427   4.73160   \n",
       "12899  -8.83940  0.82375 -0.45216  ...   1.66750   -1.1719  -0.19401   \n",
       "\n",
       "       xrla_GYR  yrla_GYR  zrla_GYR   xrla_MAG   yrla_MAG  zrla_MAG  label  \n",
       "0     -0.852940 -0.634500   0.24353   -8.95110   2.559700   -7.0638    6.0  \n",
       "1     -0.925490  0.022587   0.60345  157.35000   7.599900 -117.1500   11.0  \n",
       "2     -0.072549 -0.940450  -0.34483    0.35892  -0.014346   -1.0757    1.0  \n",
       "3     -0.174510  1.043100  -0.22629   -1.77400   2.133700   -6.1940    7.0  \n",
       "4     -0.505880 -0.542090   1.09480  -15.57600 -31.531000  -10.8270    5.0  \n",
       "...         ...       ...       ...        ...        ...       ...    ...  \n",
       "12895  0.643140 -0.560570   1.03660   -6.23460   4.904000  -24.0000    9.0  \n",
       "12896 -0.582350 -0.636550   0.74353   -4.65750 -16.919000    9.4623    4.0  \n",
       "12897 -0.884310  0.199180   0.59483   -8.85120  12.549000   84.5350   12.0  \n",
       "12898  0.658820 -0.556470   1.02590    2.37700 -13.651000  -19.6720    9.0  \n",
       "12899 -0.709800  0.168380   0.86422   -0.69832 -15.972000  -18.9880   12.0  \n",
       "\n",
       "[12900 rows x 24 columns]"
      ]
     },
     "execution_count": 58,
     "metadata": {},
     "output_type": "execute_result"
    }
   ],
   "source": []
  }
 ],
 "metadata": {
  "kernelspec": {
   "display_name": "env",
   "language": "python",
   "name": "python3"
  },
  "language_info": {
   "codemirror_mode": {
    "name": "ipython",
    "version": 3
   },
   "file_extension": ".py",
   "mimetype": "text/x-python",
   "name": "python",
   "nbconvert_exporter": "python",
   "pygments_lexer": "ipython3",
   "version": "3.7.16"
  },
  "orig_nbformat": 4
 },
 "nbformat": 4,
 "nbformat_minor": 2
}

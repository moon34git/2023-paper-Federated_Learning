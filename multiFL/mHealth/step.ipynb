{
 "cells": [
  {
   "cell_type": "code",
   "execution_count": 1,
   "metadata": {},
   "outputs": [
    {
     "name": "stderr",
     "output_type": "stream",
     "text": [
      "/home/jhmoon/venvFL/env/lib/python3.7/site-packages/tqdm/auto.py:21: TqdmWarning: IProgress not found. Please update jupyter and ipywidgets. See https://ipywidgets.readthedocs.io/en/stable/user_install.html\n",
      "  from .autonotebook import tqdm as notebook_tqdm\n"
     ]
    },
    {
     "name": "stdout",
     "output_type": "stream",
     "text": [
      "alx range: -11.47312 to 19.233\n",
      "shape (365733, 14)\n",
      "aly range: -19.379 to 2.447871999999997\n",
      "shape (360018, 14)\n",
      "alz range: -18.95 to 14.19623999999999\n",
      "shape (356270, 14)\n",
      "glx range: -0.74212 to 0.80705\n",
      "shape (349377, 14)\n",
      "gly range: -1.0694 to 0.96623\n",
      "shape (342841, 14)\n",
      "glz range: -1.1061 to 0.8290799999999999\n",
      "shape (337391, 14)\n",
      "arx range: -21.492 to 9.097647999999998\n",
      "shape (332307, 14)\n",
      "ary range: -18.694000000000003 to 11.948059999999998\n",
      "shape (326241, 14)\n",
      "arz range: -10.367 to 11.823119999999996\n",
      "shape (323674, 14)\n",
      "grx range: -1.0196 to 0.95686\n",
      "shape (320188, 14)\n",
      "gry range: -1.1417 to 0.90965\n",
      "shape (315352, 14)\n",
      "grz range: -0.69828 to 1.125\n",
      "shape (310929, 14)\n",
      "Activity range: 0.0 to 12.0\n",
      "shape (310929, 14)\n",
      "(310929, 14)\n"
     ]
    },
    {
     "data": {
      "text/plain": [
       "((246501, 12), (246501,), (64428, 12), (64428,))"
      ]
     },
     "execution_count": 1,
     "metadata": {},
     "output_type": "execute_result"
    }
   ],
   "source": [
    "import numpy as np\n",
    "import pandas as pd\n",
    "import seaborn as sns\n",
    "import matplotlib.pyplot as plt\n",
    "import torch\n",
    "import pickle\n",
    "import os\n",
    "import torch.nn as nn\n",
    "from tqdm import tqdm\n",
    "import torch.nn.functional as F\n",
    "\n",
    "os.environ['CUDA_DEVICE_ORDER'] = 'PCI_BUS_ID'\n",
    "os.environ['CUDA_VISIBLE_DEVICES'] = '2'\n",
    "\n",
    "\n",
    "DEVICE = torch.device(\"cuda\" if torch.cuda.is_available() else \"cpu\")\n",
    "\n",
    "\n",
    "with open('/home/jhmoon/venvFL/2023-paper-Federated_Learning/Data/mHealth/mhealth_raw_data.pickle', 'rb') as f:\n",
    "    df = pickle.load(f)\n",
    "\n",
    "from sklearn.utils import resample\n",
    " \n",
    "df_majority = df[df.Activity==0]\n",
    "df_minorities = df[df.Activity!=0]\n",
    " \n",
    "df_majority_downsampled = resample(df_majority,n_samples = 30000, random_state = 42)\n",
    "df = pd.concat([df_majority_downsampled, df_minorities])\n",
    "df.Activity.value_counts()\n",
    "\n",
    "#Dropping feature have data outside 98% confidence interval\n",
    "df1 = df.copy()\n",
    "for feature in df1.columns[:-1]:\n",
    "  lower_range = np.quantile(df[feature],0.01)\n",
    "  upper_range = np.quantile(df[feature],0.99)\n",
    "  print(feature,'range:',lower_range,'to',upper_range)\n",
    "\n",
    "  df1 = df1.drop(df1[(df1[feature]>upper_range) | (df1[feature]<lower_range)].index, axis=0)\n",
    "  print('shape',df1.shape)\n",
    "\n",
    "label_map = {\n",
    "    0: 'Nothing',\n",
    "    1: 'Standing still',  \n",
    "    2: 'Sitting and relaxing', \n",
    "    3: 'Lying down',  \n",
    "    4: 'Walking',  \n",
    "    5: 'Climbing stairs',  \n",
    "    6: 'Waist bends forward',\n",
    "    7: 'Frontal elevation of arms', \n",
    "    8: 'Knees bending (crouching)', \n",
    "    9: 'Cycling', \n",
    "    10: 'Jogging', \n",
    "    11: 'Running', \n",
    "    12: 'Jump front & back' \n",
    "}\n",
    "\n",
    "#spliting data into train and test set\n",
    "print(df1.shape)\n",
    "train = df1[(df1['subject'] != 'subject10') & (df1['subject'] != 'subject9')]\n",
    "test = df1.drop(train.index, axis=0)\n",
    "train.shape,test.shape\n",
    "\n",
    "\n",
    "X_train = train.drop(['Activity','subject'],axis=1)\n",
    "y_train = train['Activity']\n",
    "X_test = test.drop(['Activity', 'subject'],axis=1)\n",
    "y_test = test['Activity']\n",
    "X_train.shape,y_train.shape,X_test.shape,y_test.shape\n",
    "\n",
    "# X_train: DF\n"
   ]
  },
  {
   "cell_type": "code",
   "execution_count": 2,
   "metadata": {},
   "outputs": [
    {
     "data": {
      "text/plain": [
       "<torch._C.Generator at 0x7f69b3f7b3f0>"
      ]
     },
     "execution_count": 2,
     "metadata": {},
     "output_type": "execute_result"
    }
   ],
   "source": [
    "torch.manual_seed(34)"
   ]
  },
  {
   "cell_type": "code",
   "execution_count": 3,
   "metadata": {},
   "outputs": [],
   "source": [
    "from scipy import stats\n",
    "\n",
    "#function to create time series datset for seuence modeling\n",
    "# Repeat 4929 times\n",
    "def create_dataset(X, y, time_steps, step=1):\n",
    "    Xs, ys = [], []\n",
    "    for i in range(0, len(X) - time_steps, step):\n",
    "        x = X.iloc[i:(i + time_steps)].values\n",
    "        labels = y.iloc[i: i + time_steps]\n",
    "        Xs.append(x)\n",
    "        ys.append(stats.mode(labels)[0][0])\n",
    "    return np.array(Xs), np.array(ys).reshape(-1, 1)"
   ]
  },
  {
   "cell_type": "code",
   "execution_count": 4,
   "metadata": {},
   "outputs": [],
   "source": [
    "X_tr_modal1 = X_train.iloc[:, :6]\n",
    "X_tr_modal2 = X_train.iloc[:, 6:]\n",
    "X_tr_modal3 = X_train.copy()\n",
    "\n",
    "y_tr_modal = y_train.copy()\n",
    "\n",
    "X_ts_modal1 = X_test.iloc[:, :6]\n",
    "X_ts_modal2 = X_test.iloc[:, 6:]\n",
    "X_ts_modal3 = X_test.copy()\n",
    "\n",
    "y_ts_modal = y_test.copy()"
   ]
  },
  {
   "cell_type": "code",
   "execution_count": 5,
   "metadata": {},
   "outputs": [
    {
     "data": {
      "text/html": [
       "<div>\n",
       "<style scoped>\n",
       "    .dataframe tbody tr th:only-of-type {\n",
       "        vertical-align: middle;\n",
       "    }\n",
       "\n",
       "    .dataframe tbody tr th {\n",
       "        vertical-align: top;\n",
       "    }\n",
       "\n",
       "    .dataframe thead th {\n",
       "        text-align: right;\n",
       "    }\n",
       "</style>\n",
       "<table border=\"1\" class=\"dataframe\">\n",
       "  <thead>\n",
       "    <tr style=\"text-align: right;\">\n",
       "      <th></th>\n",
       "      <th>alx</th>\n",
       "      <th>aly</th>\n",
       "      <th>alz</th>\n",
       "      <th>glx</th>\n",
       "      <th>gly</th>\n",
       "      <th>glz</th>\n",
       "    </tr>\n",
       "  </thead>\n",
       "  <tbody>\n",
       "    <tr>\n",
       "      <th>154060</th>\n",
       "      <td>-0.68636</td>\n",
       "      <td>-5.2902</td>\n",
       "      <td>4.64530</td>\n",
       "      <td>0.13544</td>\n",
       "      <td>-0.83114</td>\n",
       "      <td>-0.13163</td>\n",
       "    </tr>\n",
       "    <tr>\n",
       "      <th>936066</th>\n",
       "      <td>1.00030</td>\n",
       "      <td>-7.7902</td>\n",
       "      <td>-6.74410</td>\n",
       "      <td>-0.26531</td>\n",
       "      <td>-0.14447</td>\n",
       "      <td>-1.09820</td>\n",
       "    </tr>\n",
       "    <tr>\n",
       "      <th>167106</th>\n",
       "      <td>1.53220</td>\n",
       "      <td>-9.5966</td>\n",
       "      <td>-0.25618</td>\n",
       "      <td>-0.27273</td>\n",
       "      <td>-0.75985</td>\n",
       "      <td>0.63654</td>\n",
       "    </tr>\n",
       "    <tr>\n",
       "      <th>493889</th>\n",
       "      <td>1.78090</td>\n",
       "      <td>-8.5942</td>\n",
       "      <td>-3.97440</td>\n",
       "      <td>-0.41002</td>\n",
       "      <td>-0.55535</td>\n",
       "      <td>-0.78389</td>\n",
       "    </tr>\n",
       "    <tr>\n",
       "      <th>355024</th>\n",
       "      <td>-0.34940</td>\n",
       "      <td>-9.5201</td>\n",
       "      <td>1.45800</td>\n",
       "      <td>-0.68275</td>\n",
       "      <td>-0.77861</td>\n",
       "      <td>-0.24558</td>\n",
       "    </tr>\n",
       "    <tr>\n",
       "      <th>...</th>\n",
       "      <td>...</td>\n",
       "      <td>...</td>\n",
       "      <td>...</td>\n",
       "      <td>...</td>\n",
       "      <td>...</td>\n",
       "      <td>...</td>\n",
       "    </tr>\n",
       "    <tr>\n",
       "      <th>978518</th>\n",
       "      <td>4.95120</td>\n",
       "      <td>-2.8483</td>\n",
       "      <td>-3.64500</td>\n",
       "      <td>-0.52876</td>\n",
       "      <td>-0.72795</td>\n",
       "      <td>-0.67387</td>\n",
       "    </tr>\n",
       "    <tr>\n",
       "      <th>978519</th>\n",
       "      <td>5.72820</td>\n",
       "      <td>-1.1482</td>\n",
       "      <td>-6.89600</td>\n",
       "      <td>-0.48052</td>\n",
       "      <td>-0.82927</td>\n",
       "      <td>-0.59725</td>\n",
       "    </tr>\n",
       "    <tr>\n",
       "      <th>978520</th>\n",
       "      <td>7.27720</td>\n",
       "      <td>-1.4694</td>\n",
       "      <td>-4.36530</td>\n",
       "      <td>-0.48052</td>\n",
       "      <td>-0.82927</td>\n",
       "      <td>-0.59725</td>\n",
       "    </tr>\n",
       "    <tr>\n",
       "      <th>978523</th>\n",
       "      <td>4.22170</td>\n",
       "      <td>-18.8880</td>\n",
       "      <td>3.28530</td>\n",
       "      <td>-0.38590</td>\n",
       "      <td>-0.72233</td>\n",
       "      <td>-0.77603</td>\n",
       "    </tr>\n",
       "    <tr>\n",
       "      <th>978524</th>\n",
       "      <td>12.46700</td>\n",
       "      <td>-16.4410</td>\n",
       "      <td>-6.52030</td>\n",
       "      <td>-0.38590</td>\n",
       "      <td>-0.72233</td>\n",
       "      <td>-0.77603</td>\n",
       "    </tr>\n",
       "  </tbody>\n",
       "</table>\n",
       "<p>246501 rows × 6 columns</p>\n",
       "</div>"
      ],
      "text/plain": [
       "             alx      aly      alz      glx      gly      glz\n",
       "154060  -0.68636  -5.2902  4.64530  0.13544 -0.83114 -0.13163\n",
       "936066   1.00030  -7.7902 -6.74410 -0.26531 -0.14447 -1.09820\n",
       "167106   1.53220  -9.5966 -0.25618 -0.27273 -0.75985  0.63654\n",
       "493889   1.78090  -8.5942 -3.97440 -0.41002 -0.55535 -0.78389\n",
       "355024  -0.34940  -9.5201  1.45800 -0.68275 -0.77861 -0.24558\n",
       "...          ...      ...      ...      ...      ...      ...\n",
       "978518   4.95120  -2.8483 -3.64500 -0.52876 -0.72795 -0.67387\n",
       "978519   5.72820  -1.1482 -6.89600 -0.48052 -0.82927 -0.59725\n",
       "978520   7.27720  -1.4694 -4.36530 -0.48052 -0.82927 -0.59725\n",
       "978523   4.22170 -18.8880  3.28530 -0.38590 -0.72233 -0.77603\n",
       "978524  12.46700 -16.4410 -6.52030 -0.38590 -0.72233 -0.77603\n",
       "\n",
       "[246501 rows x 6 columns]"
      ]
     },
     "execution_count": 5,
     "metadata": {},
     "output_type": "execute_result"
    }
   ],
   "source": [
    "X_tr_modal1"
   ]
  },
  {
   "cell_type": "code",
   "execution_count": 12,
   "metadata": {},
   "outputs": [],
   "source": [
    "X_train, y_train = create_dataset(X_tr_modal1, y_tr_modal, 10, step=5)\n",
    "X_test, y_test = create_dataset(X_ts_modal1, y_ts_modal, 10, step=5)"
   ]
  },
  {
   "cell_type": "code",
   "execution_count": 15,
   "metadata": {},
   "outputs": [
    {
     "data": {
      "text/plain": [
       "array([[ -0.68636,  -5.2902 ,   4.6453 ,   0.13544,  -0.83114,  -0.13163],\n",
       "       [  1.0003 ,  -7.7902 ,  -6.7441 ,  -0.26531,  -0.14447,  -1.0982 ],\n",
       "       [  1.5322 ,  -9.5966 ,  -0.25618,  -0.27273,  -0.75985,   0.63654],\n",
       "       [  1.7809 ,  -8.5942 ,  -3.9744 ,  -0.41002,  -0.55535,  -0.78389],\n",
       "       [ -0.3494 ,  -9.5201 ,   1.458  ,  -0.68275,  -0.77861,  -0.24558],\n",
       "       [  1.4099 ,  -9.8865 ,  -0.53231,   0.59184,  -0.66604,   0.05501],\n",
       "       [ -0.25623,  -9.8694 ,  -0.79811,   0.26716,  -0.61914,  -0.40472],\n",
       "       [  2.6704 ,  -8.8709 ,   1.0311 ,   0.3859 ,  -0.62477,   0.51277],\n",
       "       [ -0.54737, -19.355  ,  -8.7857 ,  -0.56957,  -0.5197 ,  -0.7721 ],\n",
       "       [  2.3344 , -19.096  ,   9.2456 ,  -0.50278,  -0.35272,  -0.91356]])"
      ]
     },
     "execution_count": 15,
     "metadata": {},
     "output_type": "execute_result"
    }
   ],
   "source": [
    "X_train[0]"
   ]
  },
  {
   "cell_type": "code",
   "execution_count": 16,
   "metadata": {},
   "outputs": [
    {
     "data": {
      "text/plain": [
       "array([[  1.4099  ,  -9.8865  ,  -0.53231 ,   0.59184 ,  -0.66604 ,\n",
       "          0.05501 ],\n",
       "       [ -0.25623 ,  -9.8694  ,  -0.79811 ,   0.26716 ,  -0.61914 ,\n",
       "         -0.40472 ],\n",
       "       [  2.6704  ,  -8.8709  ,   1.0311  ,   0.3859  ,  -0.62477 ,\n",
       "          0.51277 ],\n",
       "       [ -0.54737 , -19.355   ,  -8.7857  ,  -0.56957 ,  -0.5197  ,\n",
       "         -0.7721  ],\n",
       "       [  2.3344  , -19.096   ,   9.2456  ,  -0.50278 ,  -0.35272 ,\n",
       "         -0.91356 ],\n",
       "       [  0.13529 ,  -9.6352  ,   0.83209 ,  -0.64007 ,  -0.73171 ,\n",
       "          0.32417 ],\n",
       "       [  0.49466 ,  -4.8068  ,  -8.4021  ,  -0.068646,  -0.98311 ,\n",
       "         -0.37525 ],\n",
       "       [ -0.115   ,  -7.9223  ,  -4.116   ,  -0.45083 ,  -0.16323 ,\n",
       "         -0.93517 ],\n",
       "       [  2.4473  , -13.509   ,   0.60945 ,  -0.43228 ,  -0.77674 ,\n",
       "         -0.65226 ],\n",
       "       [ -2.2128  ,  -9.7367  ,  -0.4048  ,   0.21707 ,  -0.87617 ,\n",
       "         -0.53438 ]])"
      ]
     },
     "execution_count": 16,
     "metadata": {},
     "output_type": "execute_result"
    }
   ],
   "source": [
    "X_train[1]"
   ]
  },
  {
   "cell_type": "code",
   "execution_count": 271,
   "metadata": {},
   "outputs": [],
   "source": [
    "from sklearn.preprocessing import StandardScaler\n",
    "\n",
    "scaler = StandardScaler()\n",
    "X_tr_modal1 = scaler.fit_transform(X_tr_modal1.values)\n",
    "X_tr_modal1 = pd.DataFrame(X_tr_modal1)\n",
    "\n",
    "scaler1 = StandardScaler()\n",
    "X_ts_modal1 = scaler1.fit_transform(X_ts_modal1.values)\n",
    "X_ts_modal1 = pd.DataFrame(X_ts_modal1)"
   ]
  },
  {
   "cell_type": "code",
   "execution_count": 4,
   "metadata": {},
   "outputs": [],
   "source": [
    "from scipy import stats\n",
    "\n",
    "#function to create time series datset for seuence modeling\n",
    "# Repeat 4929 times\n",
    "def create_dataset(X, y, time_steps, step=1):\n",
    "    Xs, ys = [], []\n",
    "    for i in range(0, len(X) - time_steps, step):\n",
    "        x = X.iloc[i:(i + time_steps)].values\n",
    "        labels = y.iloc[i: i + time_steps]\n",
    "        Xs.append(x)\n",
    "        ys.append(stats.mode(labels)[0][0])\n",
    "    return np.array(Xs), np.array(ys).reshape(-1, 1)"
   ]
  },
  {
   "cell_type": "code",
   "execution_count": 6,
   "metadata": {},
   "outputs": [],
   "source": [
    "class ConvLSTM12(nn.Module):\n",
    "    def __init__(self):\n",
    "        super(ConvLSTM12, self).__init__()\n",
    "        self.conv1 = nn.Conv1d(in_channels=12, out_channels=32, kernel_size=3, padding=1)\n",
    "        self.bn1 = nn.BatchNorm1d(32)\n",
    "        self.relu1 = nn.ReLU()\n",
    "        self.conv2 = nn.Conv1d(in_channels=32, out_channels=64, kernel_size=3, padding=1)\n",
    "        self.bn2 = nn.BatchNorm1d(64)\n",
    "        self.relu2 = nn.ReLU()\n",
    "        self.pool = nn.MaxPool1d(kernel_size=2)\n",
    "        self.lstm = nn.LSTM(input_size=64, hidden_size=64, num_layers=2, batch_first=True)\n",
    "        self.fc1 = nn.Linear(in_features=64, out_features=128)\n",
    "        self.relu3 = nn.ReLU()\n",
    "        self.fc2 = nn.Linear(in_features=128, out_features=13)\n",
    "        self.softmax = nn.Softmax(dim=1)\n",
    "\n",
    "\n",
    "    def forward(self, x):\n",
    "        # print(f\"Round {self.round} initialized\")\n",
    "        # Convolutional layers\n",
    "        x = self.conv1(x)\n",
    "        x = self.bn1(x)\n",
    "        x = self.relu1(x)\n",
    "        x = self.conv2(x)\n",
    "        x = self.bn2(x)\n",
    "        x = self.relu2(x)\n",
    "        x = self.pool(x)\n",
    "\n",
    "        # LSTM layer\n",
    "        x = x.permute(0, 2, 1)  # Change from (batch_size, seq_len, num_features) to (batch_size, num_features, seq_len)\n",
    "        x, _ = self.lstm(x)\n",
    "        x = x[:, -1, :]  # Extract the last timestep output\n",
    "\n",
    "\n",
    "        # Fully connected layers\n",
    "        x = self.fc1(x)\n",
    "        x = self.relu3(x)\n",
    "        x = self.fc2(x)\n",
    "        x = self.softmax(x)\n",
    "        return x\n",
    "\n",
    "class ConvLSTM6(nn.Module):\n",
    "    def __init__(self):\n",
    "        super(ConvLSTM6, self).__init__()\n",
    "        self.conv1 = nn.Conv1d(in_channels=6, out_channels=32, kernel_size=3, padding=1)\n",
    "        self.bn1 = nn.BatchNorm1d(32)\n",
    "        self.relu1 = nn.ReLU()\n",
    "        self.conv2 = nn.Conv1d(in_channels=32, out_channels=64, kernel_size=3, padding=1)\n",
    "        self.bn2 = nn.BatchNorm1d(64)\n",
    "        self.relu2 = nn.ReLU()\n",
    "        self.pool = nn.MaxPool1d(kernel_size=2)\n",
    "        self.lstm = nn.LSTM(input_size=64, hidden_size=64, num_layers=2, batch_first=True)\n",
    "        self.fc1 = nn.Linear(in_features=64, out_features=128)\n",
    "        self.relu3 = nn.ReLU()\n",
    "        self.fc2 = nn.Linear(in_features=128, out_features=13)\n",
    "        self.softmax = nn.Softmax(dim=1)\n",
    "\n",
    "\n",
    "    def forward(self, x):\n",
    "        # print(f\"Round {self.round} initialized\")\n",
    "        # Convolutional layers\n",
    "        x = self.conv1(x)\n",
    "        x = self.bn1(x)\n",
    "        x = self.relu1(x)\n",
    "        x = self.conv2(x)\n",
    "        x = self.bn2(x)\n",
    "        x = self.relu2(x)\n",
    "        x = self.pool(x)\n",
    "\n",
    "        # LSTM layer\n",
    "        x = x.permute(0, 2, 1)  # Change from (batch_size, seq_len, num_features) to (batch_size, num_features, seq_len)\n",
    "        x, _ = self.lstm(x)\n",
    "        x = x[:, -1, :]  # Extract the last timestep output\n",
    "\n",
    "\n",
    "        # Fully connected layers\n",
    "        x = self.fc1(x)\n",
    "        x = self.relu3(x)\n",
    "        x = self.fc2(x)\n",
    "        x = self.softmax(x)\n",
    "        return x"
   ]
  },
  {
   "cell_type": "code",
   "execution_count": null,
   "metadata": {},
   "outputs": [],
   "source": []
  },
  {
   "cell_type": "code",
   "execution_count": 14,
   "metadata": {},
   "outputs": [],
   "source": [
    "from sklearn.metrics import confusion_matrix, classification_report, accuracy_score\n",
    "import random\n",
    "\n",
    "def modalTest(model, X_train, y_train, X_test, y_test, epoch, time_step, step):\n",
    "    X_train, y_train = create_dataset(X_train, y_train, time_step, step)\n",
    "    X_test, y_test = create_dataset(X_test, y_test, time_step, step)\n",
    "    print(X_train.shape, y_train.shape)\n",
    "\n",
    "# 100, 50\n",
    "\n",
    "    X_train = np.transpose(X_train, (0, 2, 1))\n",
    "    X_test = np.transpose(X_test, (0, 2, 1))\n",
    "\n",
    "    X_train = torch.from_numpy(X_train).float().to(DEVICE)\n",
    "    y_train = torch.from_numpy(y_train).long().to(DEVICE)\n",
    "\n",
    "    X_test = torch.from_numpy(X_test).float().to(DEVICE)\n",
    "    y_test = torch.from_numpy(y_test).long().to(DEVICE)\n",
    "\n",
    "\n",
    "    yvalues = pd.Series(y_train.squeeze().cpu().numpy())\n",
    "    yvaluess = pd.Series(y_test.squeeze().cpu().numpy())\n",
    "    ytr = []\n",
    "    yts = []\n",
    "    for i in range(12):\n",
    "        ytr.append(yvalues[yvalues == i].index.to_list())\n",
    "        yts.append(yvaluess[yvaluess == i].index.to_list())\n",
    "\n",
    "    m1tr_index = []\n",
    "    m2tr_index = []\n",
    "    m3tr_index = []\n",
    "\n",
    "    m1v_index = []\n",
    "    m2v_index = []\n",
    "    m3v_index = []\n",
    "\n",
    "    m1ts_index = []\n",
    "    m2ts_index = []\n",
    "    m3ts_index = []\n",
    "\n",
    "    for i in range(12):\n",
    "        m1tr_index += np.random.choice(ytr[i], 72, replace=False).tolist()\n",
    "        m2tr_index += np.random.choice(ytr[i], 72, replace=False).tolist()\n",
    "        m3tr_index += np.random.choice(ytr[i], 72, replace=False).tolist()\n",
    "\n",
    "        m1v_index += np.random.choice(ytr[i], 24, replace=False).tolist()\n",
    "        m2v_index += np.random.choice(ytr[i], 24, replace=False).tolist()\n",
    "        m3v_index += np.random.choice(ytr[i], 24, replace=False).tolist()\n",
    "\n",
    "        m1ts_index += np.random.choice(yts[i], 30, replace=False).tolist()\n",
    "        m2ts_index += np.random.choice(yts[i], 30, replace=False).tolist()\n",
    "        m3ts_index += np.random.choice(yts[i], 30, replace=False).tolist()\n",
    "\n",
    "    m1tr_index = random.sample(m1tr_index, len(m1tr_index))\n",
    "    m2tr_index = random.sample(m2tr_index, len(m2tr_index))\n",
    "    m3tr_index = random.sample(m3tr_index, len(m3tr_index))\n",
    "\n",
    "    m1v_index = random.sample(m1v_index, len(m1v_index))\n",
    "    m2v_index = random.sample(m2v_index, len(m2v_index))\n",
    "    m3v_index = random.sample(m3v_index, len(m3v_index))\n",
    "\n",
    "    m1ts_index = random.sample(m1ts_index, len(m1ts_index))\n",
    "    m2ts_index = random.sample(m2ts_index, len(m2ts_index))\n",
    "    m3ts_index = random.sample(m3ts_index, len(m3ts_index))\n",
    "\n",
    "    X_trains = [X_train[m1tr_index], X_train[m2tr_index], X_train[m3tr_index]]\n",
    "    y_trains = [y_train[m1tr_index], y_train[m2tr_index], y_train[m3tr_index]]\n",
    "    X_vals = [X_train[m1v_index], X_train[m2v_index], X_train[m3v_index]]\n",
    "    y_vals = [y_train[m1v_index], y_train[m2v_index], y_train[m3v_index]]\n",
    "    X_test = X_test[m1ts_index]\n",
    "    y_test = y_test[m1ts_index]\n",
    "\n",
    "    model = model.to(DEVICE)\n",
    "\n",
    "    loss_fn = nn.CrossEntropyLoss()\n",
    "    optimizer = torch.optim.Adam(model.parameters(), lr=0.001)\n",
    "\n",
    "    def train(model, X_train, y_train, X_test, y_test, optimizer, loss_fn, epochs=10, device=DEVICE):\n",
    "        train_acc = []\n",
    "        test_acc = []\n",
    "        train_loss =[]\n",
    "        test_loss = []\n",
    "        for epoch in tqdm(range(epochs)):\n",
    "            model.train()\n",
    "            optimizer.zero_grad()\n",
    "            X_train = X_train.to(device)\n",
    "            y_train = y_train.to(device)\n",
    "            y_pred = model(X_train)\n",
    "            loss = loss_fn(y_pred, y_train.squeeze())\n",
    "            loss.backward()\n",
    "            optimizer.step()\n",
    "            model.eval()\n",
    "            with torch.no_grad():\n",
    "                y_pred_train = model(X_train)\n",
    "                y_pred_test = model(X_test)\n",
    "                train_acc.append(accuracy_score(y_train.cpu(), y_pred_train.cpu().argmax(1)))\n",
    "                test_acc.append(accuracy_score(y_test.cpu(), y_pred_test.cpu().argmax(1)))\n",
    "                train_loss.append(loss.item())\n",
    "                if epoch % 9 == 0:\n",
    "                    print('Epoch: {} Train Loss: {:.4f} Train Acc: {:.4f} Test Acc: {:.4f}'.format(epoch, loss.item(), train_acc[-1], test_acc[-1]))\n",
    "        return train_acc, test_acc, train_loss\n",
    "\n",
    "\n",
    "    train_acc, test_acc, train_loss = train(model, X_trains[0], y_trains[0], X_test, y_test, optimizer, loss_fn, epochs= epoch, device = DEVICE)\n",
    "\n",
    "    plt.plot(train_acc, label='train', color = 'b')\n",
    "\n",
    "    plt.plot(test_acc, label='test', color = 'r')\n",
    "\n",
    "    # plt.plot(train_loss, label = 'train_loss', color = 'yellow')\n",
    "\n",
    "    plt.legend()\n",
    "\n",
    "    plt.show()\n",
    "    return "
   ]
  },
  {
   "cell_type": "code",
   "execution_count": 15,
   "metadata": {},
   "outputs": [
    {
     "name": "stdout",
     "output_type": "stream",
     "text": [
      "(4929, 100, 6) (4929, 1)\n"
     ]
    },
    {
     "name": "stderr",
     "output_type": "stream",
     "text": [
      "  3%|▎         | 3/100 [00:00<00:04, 24.15it/s]"
     ]
    },
    {
     "name": "stdout",
     "output_type": "stream",
     "text": [
      "Epoch: 0 Train Loss: 2.5651 Train Acc: 0.0833 Test Acc: 0.0861\n"
     ]
    },
    {
     "name": "stderr",
     "output_type": "stream",
     "text": [
      " 18%|█▊        | 18/100 [00:00<00:02, 34.67it/s]"
     ]
    },
    {
     "name": "stdout",
     "output_type": "stream",
     "text": [
      "Epoch: 10 Train Loss: 2.5520 Train Acc: 0.1620 Test Acc: 0.1278\n"
     ]
    },
    {
     "name": "stderr",
     "output_type": "stream",
     "text": [
      " 26%|██▌       | 26/100 [00:00<00:02, 35.76it/s]"
     ]
    },
    {
     "name": "stdout",
     "output_type": "stream",
     "text": [
      "Epoch: 20 Train Loss: 2.4910 Train Acc: 0.2488 Test Acc: 0.2167\n"
     ]
    },
    {
     "name": "stderr",
     "output_type": "stream",
     "text": [
      " 38%|███▊      | 38/100 [00:01<00:01, 36.50it/s]"
     ]
    },
    {
     "name": "stdout",
     "output_type": "stream",
     "text": [
      "Epoch: 30 Train Loss: 2.3698 Train Acc: 0.4340 Test Acc: 0.4111\n"
     ]
    },
    {
     "name": "stderr",
     "output_type": "stream",
     "text": [
      " 46%|████▌     | 46/100 [00:01<00:01, 36.32it/s]"
     ]
    },
    {
     "name": "stdout",
     "output_type": "stream",
     "text": [
      "Epoch: 40 Train Loss: 2.2811 Train Acc: 0.4155 Test Acc: 0.4111\n"
     ]
    },
    {
     "name": "stderr",
     "output_type": "stream",
     "text": [
      " 58%|█████▊    | 58/100 [00:01<00:01, 36.56it/s]"
     ]
    },
    {
     "name": "stdout",
     "output_type": "stream",
     "text": [
      "Epoch: 50 Train Loss: 2.2280 Train Acc: 0.4201 Test Acc: 0.4111\n"
     ]
    },
    {
     "name": "stderr",
     "output_type": "stream",
     "text": [
      " 66%|██████▌   | 66/100 [00:01<00:00, 36.46it/s]"
     ]
    },
    {
     "name": "stdout",
     "output_type": "stream",
     "text": [
      "Epoch: 60 Train Loss: 2.1322 Train Acc: 0.5880 Test Acc: 0.5667\n"
     ]
    },
    {
     "name": "stderr",
     "output_type": "stream",
     "text": [
      " 78%|███████▊  | 78/100 [00:02<00:00, 36.40it/s]"
     ]
    },
    {
     "name": "stdout",
     "output_type": "stream",
     "text": [
      "Epoch: 70 Train Loss: 2.0530 Train Acc: 0.6956 Test Acc: 0.6639\n"
     ]
    },
    {
     "name": "stderr",
     "output_type": "stream",
     "text": [
      " 86%|████████▌ | 86/100 [00:02<00:00, 36.34it/s]"
     ]
    },
    {
     "name": "stdout",
     "output_type": "stream",
     "text": [
      "Epoch: 80 Train Loss: 1.9235 Train Acc: 0.7789 Test Acc: 0.7056\n"
     ]
    },
    {
     "name": "stderr",
     "output_type": "stream",
     "text": [
      " 98%|█████████▊| 98/100 [00:02<00:00, 36.37it/s]"
     ]
    },
    {
     "name": "stdout",
     "output_type": "stream",
     "text": [
      "Epoch: 90 Train Loss: 1.8711 Train Acc: 0.8576 Test Acc: 0.7639\n"
     ]
    },
    {
     "name": "stderr",
     "output_type": "stream",
     "text": [
      "100%|██████████| 100/100 [00:02<00:00, 35.71it/s]\n"
     ]
    },
    {
     "data": {
      "image/png": "[encoded data removed]",
      "text/plain": [
       "<Figure size 640x480 with 1 Axes>"
      ]
     },
     "metadata": {},
     "output_type": "display_data"
    }
   ],
   "source": [
    "model = ConvLSTM6()\n",
    "modalTest(model, X_tr_modal1, y_tr_modal, X_ts_modal1, y_ts_modal, 100, 100, 50)"
   ]
  },
  {
   "cell_type": "code",
   "execution_count": 16,
   "metadata": {},
   "outputs": [],
   "source": [
    "steps = [[20, 10], [30, 15], [40, 20], [50, 25], [60, 30], [70, 35], [80, 40], [90, 45], [100, 50]]"
   ]
  },
  {
   "cell_type": "code",
   "execution_count": 22,
   "metadata": {},
   "outputs": [
    {
     "name": "stdout",
     "output_type": "stream",
     "text": [
      "[20, 10]\n",
      "(24649, 20, 12) (24649, 1)\n"
     ]
    },
    {
     "name": "stderr",
     "output_type": "stream",
     "text": [
      "  7%|▋         | 7/100 [00:00<00:01, 61.63it/s]"
     ]
    },
    {
     "name": "stdout",
     "output_type": "stream",
     "text": [
      "Epoch: 0 Train Loss: 2.5650 Train Acc: 0.0891 Test Acc: 0.0833\n",
      "Epoch: 10 Train Loss: 2.5506 Train Acc: 0.2083 Test Acc: 0.1944\n"
     ]
    },
    {
     "name": "stderr",
     "output_type": "stream",
     "text": [
      " 27%|██▋       | 27/100 [00:00<00:00, 87.94it/s]"
     ]
    },
    {
     "name": "stdout",
     "output_type": "stream",
     "text": [
      "Epoch: 20 Train Loss: 2.4726 Train Acc: 0.3009 Test Acc: 0.3333\n",
      "Epoch: 30 Train Loss: 2.3483 Train Acc: 0.4653 Test Acc: 0.4389\n"
     ]
    },
    {
     "name": "stderr",
     "output_type": "stream",
     "text": [
      " 39%|███▉      | 39/100 [00:00<00:00, 98.55it/s]"
     ]
    },
    {
     "name": "stdout",
     "output_type": "stream",
     "text": [
      "Epoch: 40 Train Loss: 2.1672 Train Acc: 0.6586 Test Acc: 0.6472\n"
     ]
    },
    {
     "name": "stderr",
     "output_type": "stream",
     "text": [
      " 63%|██████▎   | 63/100 [00:00<00:00, 110.13it/s]"
     ]
    },
    {
     "name": "stdout",
     "output_type": "stream",
     "text": [
      "Epoch: 50 Train Loss: 2.0246 Train Acc: 0.7743 Test Acc: 0.6806\n",
      "Epoch: 60 Train Loss: 1.9073 Train Acc: 0.8241 Test Acc: 0.7028\n",
      "Epoch: 70 Train Loss: 1.8226 Train Acc: 0.8854 Test Acc: 0.7528\n"
     ]
    },
    {
     "name": "stderr",
     "output_type": "stream",
     "text": [
      " 87%|████████▋ | 87/100 [00:00<00:00, 112.18it/s]"
     ]
    },
    {
     "name": "stdout",
     "output_type": "stream",
     "text": [
      "Epoch: 80 Train Loss: 1.7823 Train Acc: 0.9097 Test Acc: 0.7611\n",
      "Epoch: 90 Train Loss: 1.7702 Train Acc: 0.9178 Test Acc: 0.7528\n"
     ]
    },
    {
     "name": "stderr",
     "output_type": "stream",
     "text": [
      "100%|██████████| 100/100 [00:00<00:00, 104.56it/s]\n"
     ]
    },
    {
     "data": {
      "image/png": "[encoded data removed]",
      "text/plain": [
       "<Figure size 640x480 with 1 Axes>"
      ]
     },
     "metadata": {},
     "output_type": "display_data"
    },
    {
     "name": "stdout",
     "output_type": "stream",
     "text": [
      "[30, 15]\n",
      "(16432, 30, 12) (16432, 1)\n"
     ]
    },
    {
     "name": "stderr",
     "output_type": "stream",
     "text": [
      "  6%|▌         | 6/100 [00:00<00:01, 53.62it/s]"
     ]
    },
    {
     "name": "stdout",
     "output_type": "stream",
     "text": [
      "Epoch: 0 Train Loss: 2.5648 Train Acc: 0.0833 Test Acc: 0.0833\n",
      "Epoch: 10 Train Loss: 2.5511 Train Acc: 0.2812 Test Acc: 0.2528\n"
     ]
    },
    {
     "name": "stderr",
     "output_type": "stream",
     "text": [
      " 22%|██▏       | 22/100 [00:00<00:01, 69.69it/s]"
     ]
    },
    {
     "name": "stdout",
     "output_type": "stream",
     "text": [
      "Epoch: 20 Train Loss: 2.4735 Train Acc: 0.3356 Test Acc: 0.3333\n"
     ]
    },
    {
     "name": "stderr",
     "output_type": "stream",
     "text": [
      " 32%|███▏      | 32/100 [00:00<00:00, 79.90it/s]"
     ]
    },
    {
     "name": "stdout",
     "output_type": "stream",
     "text": [
      "Epoch: 30 Train Loss: 2.3086 Train Acc: 0.4711 Test Acc: 0.4750\n"
     ]
    },
    {
     "name": "stderr",
     "output_type": "stream",
     "text": [
      " 42%|████▏     | 42/100 [00:00<00:00, 86.10it/s]"
     ]
    },
    {
     "name": "stdout",
     "output_type": "stream",
     "text": [
      "Epoch: 40 Train Loss: 2.1541 Train Acc: 0.6134 Test Acc: 0.5778\n"
     ]
    },
    {
     "name": "stderr",
     "output_type": "stream",
     "text": [
      " 52%|█████▏    | 52/100 [00:00<00:00, 89.60it/s]"
     ]
    },
    {
     "name": "stdout",
     "output_type": "stream",
     "text": [
      "Epoch: 50 Train Loss: 2.0241 Train Acc: 0.6678 Test Acc: 0.6194\n"
     ]
    },
    {
     "name": "stderr",
     "output_type": "stream",
     "text": [
      " 62%|██████▏   | 62/100 [00:00<00:00, 91.57it/s]"
     ]
    },
    {
     "name": "stdout",
     "output_type": "stream",
     "text": [
      "Epoch: 60 Train Loss: 1.9346 Train Acc: 0.7917 Test Acc: 0.7250\n"
     ]
    },
    {
     "name": "stderr",
     "output_type": "stream",
     "text": [
      " 72%|███████▏  | 72/100 [00:00<00:00, 93.80it/s]"
     ]
    },
    {
     "name": "stdout",
     "output_type": "stream",
     "text": [
      "Epoch: 70 Train Loss: 1.8867 Train Acc: 0.7940 Test Acc: 0.6806\n"
     ]
    },
    {
     "name": "stderr",
     "output_type": "stream",
     "text": [
      " 82%|████████▏ | 82/100 [00:00<00:00, 95.34it/s]"
     ]
    },
    {
     "name": "stdout",
     "output_type": "stream",
     "text": [
      "Epoch: 80 Train Loss: 1.8517 Train Acc: 0.8634 Test Acc: 0.8056\n"
     ]
    },
    {
     "name": "stderr",
     "output_type": "stream",
     "text": [
      "100%|██████████| 100/100 [00:01<00:00, 88.61it/s]"
     ]
    },
    {
     "name": "stdout",
     "output_type": "stream",
     "text": [
      "Epoch: 90 Train Loss: 1.8175 Train Acc: 0.8715 Test Acc: 0.7833\n"
     ]
    },
    {
     "name": "stderr",
     "output_type": "stream",
     "text": [
      "\n"
     ]
    },
    {
     "data": {
      "image/png": "[encoded data removed]",
      "text/plain": [
       "<Figure size 640x480 with 1 Axes>"
      ]
     },
     "metadata": {},
     "output_type": "display_data"
    },
    {
     "name": "stdout",
     "output_type": "stream",
     "text": [
      "[40, 20]\n",
      "(12324, 40, 12) (12324, 1)\n"
     ]
    },
    {
     "name": "stderr",
     "output_type": "stream",
     "text": [
      "  5%|▌         | 5/100 [00:00<00:02, 45.74it/s]"
     ]
    },
    {
     "name": "stdout",
     "output_type": "stream",
     "text": [
      "Epoch: 0 Train Loss: 2.5651 Train Acc: 0.0914 Test Acc: 0.0861\n"
     ]
    },
    {
     "name": "stderr",
     "output_type": "stream",
     "text": [
      " 24%|██▍       | 24/100 [00:00<00:01, 60.68it/s]"
     ]
    },
    {
     "name": "stdout",
     "output_type": "stream",
     "text": [
      "Epoch: 10 Train Loss: 2.5540 Train Acc: 0.2940 Test Acc: 0.2694\n",
      "Epoch: 20 Train Loss: 2.4915 Train Acc: 0.3981 Test Acc: 0.4028\n"
     ]
    },
    {
     "name": "stderr",
     "output_type": "stream",
     "text": [
      " 40%|████      | 40/100 [00:00<00:00, 69.92it/s]"
     ]
    },
    {
     "name": "stdout",
     "output_type": "stream",
     "text": [
      "Epoch: 30 Train Loss: 2.3179 Train Acc: 0.5127 Test Acc: 0.4667\n",
      "Epoch: 40 Train Loss: 2.1253 Train Acc: 0.7373 Test Acc: 0.6361\n"
     ]
    },
    {
     "name": "stderr",
     "output_type": "stream",
     "text": [
      " 64%|██████▍   | 64/100 [00:00<00:00, 75.10it/s]"
     ]
    },
    {
     "name": "stdout",
     "output_type": "stream",
     "text": [
      "Epoch: 50 Train Loss: 1.9466 Train Acc: 0.7940 Test Acc: 0.6083\n",
      "Epoch: 60 Train Loss: 1.8700 Train Acc: 0.8264 Test Acc: 0.6583\n"
     ]
    },
    {
     "name": "stderr",
     "output_type": "stream",
     "text": [
      " 80%|████████  | 80/100 [00:01<00:00, 75.96it/s]"
     ]
    },
    {
     "name": "stdout",
     "output_type": "stream",
     "text": [
      "Epoch: 70 Train Loss: 1.8040 Train Acc: 0.9606 Test Acc: 0.7778\n",
      "Epoch: 80 Train Loss: 1.7352 Train Acc: 0.9664 Test Acc: 0.7333\n"
     ]
    },
    {
     "name": "stderr",
     "output_type": "stream",
     "text": [
      "100%|██████████| 100/100 [00:01<00:00, 70.27it/s]\n"
     ]
    },
    {
     "name": "stdout",
     "output_type": "stream",
     "text": [
      "Epoch: 90 Train Loss: 1.7174 Train Acc: 0.9803 Test Acc: 0.7944\n"
     ]
    },
    {
     "data": {
      "image/png": "[encoded data removed]",
      "text/plain": [
       "<Figure size 640x480 with 1 Axes>"
      ]
     },
     "metadata": {},
     "output_type": "display_data"
    },
    {
     "name": "stdout",
     "output_type": "stream",
     "text": [
      "[50, 25]\n",
      "(9859, 50, 12) (9859, 1)\n"
     ]
    },
    {
     "name": "stderr",
     "output_type": "stream",
     "text": [
      "  4%|▍         | 4/100 [00:00<00:02, 38.88it/s]"
     ]
    },
    {
     "name": "stdout",
     "output_type": "stream",
     "text": [
      "Epoch: 0 Train Loss: 2.5649 Train Acc: 0.0833 Test Acc: 0.0833\n"
     ]
    },
    {
     "name": "stderr",
     "output_type": "stream",
     "text": [
      " 21%|██        | 21/100 [00:00<00:01, 53.53it/s]"
     ]
    },
    {
     "name": "stdout",
     "output_type": "stream",
     "text": [
      "Epoch: 10 Train Loss: 2.5491 Train Acc: 0.2130 Test Acc: 0.2194\n",
      "Epoch: 20 Train Loss: 2.4808 Train Acc: 0.2697 Test Acc: 0.2667\n"
     ]
    },
    {
     "name": "stderr",
     "output_type": "stream",
     "text": [
      " 42%|████▏     | 42/100 [00:00<00:00, 60.77it/s]"
     ]
    },
    {
     "name": "stdout",
     "output_type": "stream",
     "text": [
      "Epoch: 30 Train Loss: 2.3732 Train Acc: 0.4132 Test Acc: 0.3944\n",
      "Epoch: 40 Train Loss: 2.2166 Train Acc: 0.5312 Test Acc: 0.5167\n"
     ]
    },
    {
     "name": "stderr",
     "output_type": "stream",
     "text": [
      " 63%|██████▎   | 63/100 [00:01<00:00, 62.55it/s]"
     ]
    },
    {
     "name": "stdout",
     "output_type": "stream",
     "text": [
      "Epoch: 50 Train Loss: 2.0969 Train Acc: 0.6898 Test Acc: 0.6278\n",
      "Epoch: 60 Train Loss: 1.9815 Train Acc: 0.7859 Test Acc: 0.6972\n"
     ]
    },
    {
     "name": "stderr",
     "output_type": "stream",
     "text": [
      " 77%|███████▋  | 77/100 [00:01<00:00, 61.89it/s]"
     ]
    },
    {
     "name": "stdout",
     "output_type": "stream",
     "text": [
      "Epoch: 70 Train Loss: 1.8807 Train Acc: 0.8194 Test Acc: 0.7389\n",
      "Epoch: 80 Train Loss: 1.8098 Train Acc: 0.9549 Test Acc: 0.8500\n"
     ]
    },
    {
     "name": "stderr",
     "output_type": "stream",
     "text": [
      "100%|██████████| 100/100 [00:01<00:00, 59.55it/s]"
     ]
    },
    {
     "name": "stdout",
     "output_type": "stream",
     "text": [
      "Epoch: 90 Train Loss: 1.7369 Train Acc: 0.9630 Test Acc: 0.8667\n"
     ]
    },
    {
     "name": "stderr",
     "output_type": "stream",
     "text": [
      "\n"
     ]
    },
    {
     "data": {
      "image/png": "[encoded data removed]",
      "text/plain": [
       "<Figure size 640x480 with 1 Axes>"
      ]
     },
     "metadata": {},
     "output_type": "display_data"
    },
    {
     "name": "stdout",
     "output_type": "stream",
     "text": [
      "[60, 30]\n",
      "(8215, 60, 12) (8215, 1)\n"
     ]
    },
    {
     "name": "stderr",
     "output_type": "stream",
     "text": [
      "  6%|▌         | 6/100 [00:00<00:01, 55.99it/s]"
     ]
    },
    {
     "name": "stdout",
     "output_type": "stream",
     "text": [
      "Epoch: 0 Train Loss: 2.5648 Train Acc: 0.0833 Test Acc: 0.0833\n",
      "Epoch: 10 Train Loss: 2.5538 Train Acc: 0.2407 Test Acc: 0.2389\n"
     ]
    },
    {
     "name": "stderr",
     "output_type": "stream",
     "text": [
      " 18%|█▊        | 18/100 [00:00<00:01, 53.45it/s]"
     ]
    },
    {
     "name": "stdout",
     "output_type": "stream",
     "text": [
      "Epoch: 20 Train Loss: 2.4923 Train Acc: 0.3472 Test Acc: 0.2917\n"
     ]
    },
    {
     "name": "stderr",
     "output_type": "stream",
     "text": [
      " 30%|███       | 30/100 [00:00<00:01, 54.72it/s]"
     ]
    },
    {
     "name": "stdout",
     "output_type": "stream",
     "text": [
      "Epoch: 30 Train Loss: 2.3487 Train Acc: 0.4722 Test Acc: 0.4194\n"
     ]
    },
    {
     "name": "stderr",
     "output_type": "stream",
     "text": [
      " 42%|████▏     | 42/100 [00:00<00:01, 54.91it/s]"
     ]
    },
    {
     "name": "stdout",
     "output_type": "stream",
     "text": [
      "Epoch: 40 Train Loss: 2.1781 Train Acc: 0.6586 Test Acc: 0.6028\n"
     ]
    },
    {
     "name": "stderr",
     "output_type": "stream",
     "text": [
      " 48%|████▊     | 48/100 [00:00<00:00, 54.85it/s]"
     ]
    },
    {
     "name": "stdout",
     "output_type": "stream",
     "text": [
      "Epoch: 50 Train Loss: 2.0186 Train Acc: 0.7569 Test Acc: 0.7444\n"
     ]
    },
    {
     "name": "stderr",
     "output_type": "stream",
     "text": [
      " 60%|██████    | 60/100 [00:01<00:00, 54.79it/s]"
     ]
    },
    {
     "name": "stdout",
     "output_type": "stream",
     "text": [
      "Epoch: 60 Train Loss: 1.8960 Train Acc: 0.8762 Test Acc: 0.8528\n"
     ]
    },
    {
     "name": "stderr",
     "output_type": "stream",
     "text": [
      " 66%|██████▌   | 66/100 [00:01<00:00, 54.36it/s]"
     ]
    },
    {
     "name": "stdout",
     "output_type": "stream",
     "text": [
      "Epoch: 70 Train Loss: 1.7864 Train Acc: 0.9630 Test Acc: 0.8694\n"
     ]
    },
    {
     "name": "stderr",
     "output_type": "stream",
     "text": [
      " 78%|███████▊  | 78/100 [00:01<00:00, 54.29it/s]"
     ]
    },
    {
     "name": "stdout",
     "output_type": "stream",
     "text": [
      "Epoch: 80 Train Loss: 1.7325 Train Acc: 0.9792 Test Acc: 0.8722\n"
     ]
    },
    {
     "name": "stderr",
     "output_type": "stream",
     "text": [
      " 90%|█████████ | 90/100 [00:01<00:00, 54.43it/s]"
     ]
    },
    {
     "name": "stdout",
     "output_type": "stream",
     "text": [
      "Epoch: 90 Train Loss: 1.7138 Train Acc: 0.9780 Test Acc: 0.8889\n"
     ]
    },
    {
     "name": "stderr",
     "output_type": "stream",
     "text": [
      "100%|██████████| 100/100 [00:01<00:00, 54.45it/s]\n"
     ]
    },
    {
     "data": {
      "image/png": "[encoded data removed]",
      "text/plain": [
       "<Figure size 640x480 with 1 Axes>"
      ]
     },
     "metadata": {},
     "output_type": "display_data"
    },
    {
     "name": "stdout",
     "output_type": "stream",
     "text": [
      "[70, 35]\n",
      "(7041, 70, 12) (7041, 1)\n"
     ]
    },
    {
     "name": "stderr",
     "output_type": "stream",
     "text": [
      "  5%|▌         | 5/100 [00:00<00:01, 48.94it/s]"
     ]
    },
    {
     "name": "stdout",
     "output_type": "stream",
     "text": [
      "Epoch: 0 Train Loss: 2.5647 Train Acc: 0.1424 Test Acc: 0.1194\n"
     ]
    },
    {
     "name": "stderr",
     "output_type": "stream",
     "text": [
      " 20%|██        | 20/100 [00:00<00:01, 48.67it/s]"
     ]
    },
    {
     "name": "stdout",
     "output_type": "stream",
     "text": [
      "Epoch: 10 Train Loss: 2.5466 Train Acc: 0.2095 Test Acc: 0.2194\n"
     ]
    },
    {
     "name": "stderr",
     "output_type": "stream",
     "text": [
      " 30%|███       | 30/100 [00:00<00:01, 48.70it/s]"
     ]
    },
    {
     "name": "stdout",
     "output_type": "stream",
     "text": [
      "Epoch: 20 Train Loss: 2.4612 Train Acc: 0.2245 Test Acc: 0.2194\n"
     ]
    },
    {
     "name": "stderr",
     "output_type": "stream",
     "text": [
      " 40%|████      | 40/100 [00:00<00:01, 47.84it/s]"
     ]
    },
    {
     "name": "stdout",
     "output_type": "stream",
     "text": [
      "Epoch: 30 Train Loss: 2.3853 Train Acc: 0.3588 Test Acc: 0.3444\n"
     ]
    },
    {
     "name": "stderr",
     "output_type": "stream",
     "text": [
      " 50%|█████     | 50/100 [00:01<00:01, 46.55it/s]"
     ]
    },
    {
     "name": "stdout",
     "output_type": "stream",
     "text": [
      "Epoch: 40 Train Loss: 2.2507 Train Acc: 0.5532 Test Acc: 0.5333\n"
     ]
    },
    {
     "name": "stderr",
     "output_type": "stream",
     "text": [
      " 60%|██████    | 60/100 [00:01<00:00, 47.05it/s]"
     ]
    },
    {
     "name": "stdout",
     "output_type": "stream",
     "text": [
      "Epoch: 50 Train Loss: 2.1042 Train Acc: 0.6389 Test Acc: 0.6556\n"
     ]
    },
    {
     "name": "stderr",
     "output_type": "stream",
     "text": [
      " 70%|███████   | 70/100 [00:01<00:00, 47.50it/s]"
     ]
    },
    {
     "name": "stdout",
     "output_type": "stream",
     "text": [
      "Epoch: 60 Train Loss: 1.9831 Train Acc: 0.7396 Test Acc: 0.7389\n"
     ]
    },
    {
     "name": "stderr",
     "output_type": "stream",
     "text": [
      " 80%|████████  | 80/100 [00:01<00:00, 47.17it/s]"
     ]
    },
    {
     "name": "stdout",
     "output_type": "stream",
     "text": [
      "Epoch: 70 Train Loss: 1.9337 Train Acc: 0.7477 Test Acc: 0.7000\n"
     ]
    },
    {
     "name": "stderr",
     "output_type": "stream",
     "text": [
      " 90%|█████████ | 90/100 [00:01<00:00, 47.18it/s]"
     ]
    },
    {
     "name": "stdout",
     "output_type": "stream",
     "text": [
      "Epoch: 80 Train Loss: 1.8982 Train Acc: 0.8414 Test Acc: 0.7778\n"
     ]
    },
    {
     "name": "stderr",
     "output_type": "stream",
     "text": [
      "100%|██████████| 100/100 [00:02<00:00, 47.33it/s]"
     ]
    },
    {
     "name": "stdout",
     "output_type": "stream",
     "text": [
      "Epoch: 90 Train Loss: 1.8156 Train Acc: 0.8727 Test Acc: 0.8333\n"
     ]
    },
    {
     "name": "stderr",
     "output_type": "stream",
     "text": [
      "\n"
     ]
    },
    {
     "data": {
      "image/png": "[encoded data removed]",
      "text/plain": [
       "<Figure size 640x480 with 1 Axes>"
      ]
     },
     "metadata": {},
     "output_type": "display_data"
    },
    {
     "name": "stdout",
     "output_type": "stream",
     "text": [
      "[80, 40]\n",
      "(6161, 80, 12) (6161, 1)\n"
     ]
    },
    {
     "name": "stderr",
     "output_type": "stream",
     "text": [
      "  5%|▌         | 5/100 [00:00<00:02, 44.83it/s]"
     ]
    },
    {
     "name": "stdout",
     "output_type": "stream",
     "text": [
      "Epoch: 0 Train Loss: 2.5649 Train Acc: 0.0833 Test Acc: 0.0833\n"
     ]
    },
    {
     "name": "stderr",
     "output_type": "stream",
     "text": [
      " 15%|█▌        | 15/100 [00:00<00:01, 44.09it/s]"
     ]
    },
    {
     "name": "stdout",
     "output_type": "stream",
     "text": [
      "Epoch: 10 Train Loss: 2.5526 Train Acc: 0.3565 Test Acc: 0.3000\n"
     ]
    },
    {
     "name": "stderr",
     "output_type": "stream",
     "text": [
      " 25%|██▌       | 25/100 [00:00<00:01, 43.98it/s]"
     ]
    },
    {
     "name": "stdout",
     "output_type": "stream",
     "text": [
      "Epoch: 20 Train Loss: 2.4947 Train Acc: 0.4051 Test Acc: 0.3611\n"
     ]
    },
    {
     "name": "stderr",
     "output_type": "stream",
     "text": [
      " 35%|███▌      | 35/100 [00:00<00:01, 43.88it/s]"
     ]
    },
    {
     "name": "stdout",
     "output_type": "stream",
     "text": [
      "Epoch: 30 Train Loss: 2.3430 Train Acc: 0.5081 Test Acc: 0.4306\n"
     ]
    },
    {
     "name": "stderr",
     "output_type": "stream",
     "text": [
      " 45%|████▌     | 45/100 [00:01<00:01, 43.10it/s]"
     ]
    },
    {
     "name": "stdout",
     "output_type": "stream",
     "text": [
      "Epoch: 40 Train Loss: 2.1591 Train Acc: 0.6319 Test Acc: 0.5722\n"
     ]
    },
    {
     "name": "stderr",
     "output_type": "stream",
     "text": [
      " 55%|█████▌    | 55/100 [00:01<00:01, 43.17it/s]"
     ]
    },
    {
     "name": "stdout",
     "output_type": "stream",
     "text": [
      "Epoch: 50 Train Loss: 1.9902 Train Acc: 0.7188 Test Acc: 0.7444\n"
     ]
    },
    {
     "name": "stderr",
     "output_type": "stream",
     "text": [
      " 65%|██████▌   | 65/100 [00:01<00:00, 43.22it/s]"
     ]
    },
    {
     "name": "stdout",
     "output_type": "stream",
     "text": [
      "Epoch: 60 Train Loss: 1.8570 Train Acc: 0.8519 Test Acc: 0.7944\n"
     ]
    },
    {
     "name": "stderr",
     "output_type": "stream",
     "text": [
      " 75%|███████▌  | 75/100 [00:01<00:00, 43.64it/s]"
     ]
    },
    {
     "name": "stdout",
     "output_type": "stream",
     "text": [
      "Epoch: 70 Train Loss: 1.7947 Train Acc: 0.8762 Test Acc: 0.8222\n"
     ]
    },
    {
     "name": "stderr",
     "output_type": "stream",
     "text": [
      " 85%|████████▌ | 85/100 [00:01<00:00, 43.08it/s]"
     ]
    },
    {
     "name": "stdout",
     "output_type": "stream",
     "text": [
      "Epoch: 80 Train Loss: 1.7706 Train Acc: 0.9282 Test Acc: 0.8417\n"
     ]
    },
    {
     "name": "stderr",
     "output_type": "stream",
     "text": [
      " 95%|█████████▌| 95/100 [00:02<00:00, 43.20it/s]"
     ]
    },
    {
     "name": "stdout",
     "output_type": "stream",
     "text": [
      "Epoch: 90 Train Loss: 1.7236 Train Acc: 0.9630 Test Acc: 0.8583\n"
     ]
    },
    {
     "name": "stderr",
     "output_type": "stream",
     "text": [
      "100%|██████████| 100/100 [00:02<00:00, 43.44it/s]\n"
     ]
    },
    {
     "data": {
      "image/png": "[encoded data removed]",
      "text/plain": [
       "<Figure size 640x480 with 1 Axes>"
      ]
     },
     "metadata": {},
     "output_type": "display_data"
    },
    {
     "name": "stdout",
     "output_type": "stream",
     "text": [
      "[90, 45]\n",
      "(5476, 90, 12) (5476, 1)\n"
     ]
    },
    {
     "name": "stderr",
     "output_type": "stream",
     "text": [
      "  5%|▌         | 5/100 [00:00<00:02, 40.89it/s]"
     ]
    },
    {
     "name": "stdout",
     "output_type": "stream",
     "text": [
      "Epoch: 0 Train Loss: 2.5648 Train Acc: 0.1157 Test Acc: 0.0722\n"
     ]
    },
    {
     "name": "stderr",
     "output_type": "stream",
     "text": [
      " 18%|█▊        | 18/100 [00:00<00:02, 39.39it/s]"
     ]
    },
    {
     "name": "stdout",
     "output_type": "stream",
     "text": [
      "Epoch: 10 Train Loss: 2.5513 Train Acc: 0.2801 Test Acc: 0.2750\n"
     ]
    },
    {
     "name": "stderr",
     "output_type": "stream",
     "text": [
      " 26%|██▌       | 26/100 [00:00<00:01, 39.34it/s]"
     ]
    },
    {
     "name": "stdout",
     "output_type": "stream",
     "text": [
      "Epoch: 20 Train Loss: 2.4816 Train Acc: 0.3808 Test Acc: 0.4194\n"
     ]
    },
    {
     "name": "stderr",
     "output_type": "stream",
     "text": [
      " 38%|███▊      | 38/100 [00:00<00:01, 37.97it/s]"
     ]
    },
    {
     "name": "stdout",
     "output_type": "stream",
     "text": [
      "Epoch: 30 Train Loss: 2.2753 Train Acc: 0.5023 Test Acc: 0.4500\n"
     ]
    },
    {
     "name": "stderr",
     "output_type": "stream",
     "text": [
      " 46%|████▌     | 46/100 [00:01<00:01, 38.22it/s]"
     ]
    },
    {
     "name": "stdout",
     "output_type": "stream",
     "text": [
      "Epoch: 40 Train Loss: 2.0973 Train Acc: 0.6204 Test Acc: 0.5417\n"
     ]
    },
    {
     "name": "stderr",
     "output_type": "stream",
     "text": [
      " 58%|█████▊    | 58/100 [00:01<00:01, 38.80it/s]"
     ]
    },
    {
     "name": "stdout",
     "output_type": "stream",
     "text": [
      "Epoch: 50 Train Loss: 1.9710 Train Acc: 0.8102 Test Acc: 0.6583\n"
     ]
    },
    {
     "name": "stderr",
     "output_type": "stream",
     "text": [
      " 66%|██████▌   | 66/100 [00:01<00:00, 38.97it/s]"
     ]
    },
    {
     "name": "stdout",
     "output_type": "stream",
     "text": [
      "Epoch: 60 Train Loss: 1.8532 Train Acc: 0.8889 Test Acc: 0.7444\n"
     ]
    },
    {
     "name": "stderr",
     "output_type": "stream",
     "text": [
      " 78%|███████▊  | 78/100 [00:02<00:00, 38.46it/s]"
     ]
    },
    {
     "name": "stdout",
     "output_type": "stream",
     "text": [
      "Epoch: 70 Train Loss: 1.7715 Train Acc: 0.9606 Test Acc: 0.8306\n"
     ]
    },
    {
     "name": "stderr",
     "output_type": "stream",
     "text": [
      " 86%|████████▌ | 86/100 [00:02<00:00, 38.87it/s]"
     ]
    },
    {
     "name": "stdout",
     "output_type": "stream",
     "text": [
      "Epoch: 80 Train Loss: 1.7284 Train Acc: 0.9734 Test Acc: 0.7972\n"
     ]
    },
    {
     "name": "stderr",
     "output_type": "stream",
     "text": [
      " 98%|█████████▊| 98/100 [00:02<00:00, 38.95it/s]"
     ]
    },
    {
     "name": "stdout",
     "output_type": "stream",
     "text": [
      "Epoch: 90 Train Loss: 1.7185 Train Acc: 0.9769 Test Acc: 0.8417\n"
     ]
    },
    {
     "name": "stderr",
     "output_type": "stream",
     "text": [
      "100%|██████████| 100/100 [00:02<00:00, 38.84it/s]\n"
     ]
    },
    {
     "data": {
      "image/png": "[encoded data removed]",
      "text/plain": [
       "<Figure size 640x480 with 1 Axes>"
      ]
     },
     "metadata": {},
     "output_type": "display_data"
    },
    {
     "name": "stdout",
     "output_type": "stream",
     "text": [
      "[100, 50]\n",
      "(4929, 100, 12) (4929, 1)\n"
     ]
    },
    {
     "name": "stderr",
     "output_type": "stream",
     "text": [
      "  4%|▍         | 4/100 [00:00<00:02, 36.52it/s]"
     ]
    },
    {
     "name": "stdout",
     "output_type": "stream",
     "text": [
      "Epoch: 0 Train Loss: 2.5643 Train Acc: 0.1539 Test Acc: 0.1556\n"
     ]
    },
    {
     "name": "stderr",
     "output_type": "stream",
     "text": [
      " 16%|█▌        | 16/100 [00:00<00:02, 35.57it/s]"
     ]
    },
    {
     "name": "stdout",
     "output_type": "stream",
     "text": [
      "Epoch: 10 Train Loss: 2.5498 Train Acc: 0.2060 Test Acc: 0.1722\n"
     ]
    },
    {
     "name": "stderr",
     "output_type": "stream",
     "text": [
      " 28%|██▊       | 28/100 [00:00<00:02, 35.22it/s]"
     ]
    },
    {
     "name": "stdout",
     "output_type": "stream",
     "text": [
      "Epoch: 20 Train Loss: 2.4688 Train Acc: 0.3449 Test Acc: 0.3611\n"
     ]
    },
    {
     "name": "stderr",
     "output_type": "stream",
     "text": [
      " 36%|███▌      | 36/100 [00:01<00:01, 34.17it/s]"
     ]
    },
    {
     "name": "stdout",
     "output_type": "stream",
     "text": [
      "Epoch: 30 Train Loss: 2.3183 Train Acc: 0.5312 Test Acc: 0.5417\n"
     ]
    },
    {
     "name": "stderr",
     "output_type": "stream",
     "text": [
      " 48%|████▊     | 48/100 [00:01<00:01, 34.74it/s]"
     ]
    },
    {
     "name": "stdout",
     "output_type": "stream",
     "text": [
      "Epoch: 40 Train Loss: 2.1680 Train Acc: 0.6019 Test Acc: 0.6167\n"
     ]
    },
    {
     "name": "stderr",
     "output_type": "stream",
     "text": [
      " 56%|█████▌    | 56/100 [00:01<00:01, 34.87it/s]"
     ]
    },
    {
     "name": "stdout",
     "output_type": "stream",
     "text": [
      "Epoch: 50 Train Loss: 2.0373 Train Acc: 0.7373 Test Acc: 0.7083\n"
     ]
    },
    {
     "name": "stderr",
     "output_type": "stream",
     "text": [
      " 64%|██████▍   | 64/100 [00:01<00:01, 34.61it/s]"
     ]
    },
    {
     "name": "stdout",
     "output_type": "stream",
     "text": [
      "Epoch: 60 Train Loss: 1.9537 Train Acc: 0.7975 Test Acc: 0.7722\n"
     ]
    },
    {
     "name": "stderr",
     "output_type": "stream",
     "text": [
      " 76%|███████▌  | 76/100 [00:02<00:00, 34.37it/s]"
     ]
    },
    {
     "name": "stdout",
     "output_type": "stream",
     "text": [
      "Epoch: 70 Train Loss: 1.9194 Train Acc: 0.7951 Test Acc: 0.7528\n"
     ]
    },
    {
     "name": "stderr",
     "output_type": "stream",
     "text": [
      " 88%|████████▊ | 88/100 [00:02<00:00, 34.75it/s]"
     ]
    },
    {
     "name": "stdout",
     "output_type": "stream",
     "text": [
      "Epoch: 80 Train Loss: 1.8492 Train Acc: 0.8727 Test Acc: 0.8528\n"
     ]
    },
    {
     "name": "stderr",
     "output_type": "stream",
     "text": [
      " 96%|█████████▌| 96/100 [00:02<00:00, 34.93it/s]"
     ]
    },
    {
     "name": "stdout",
     "output_type": "stream",
     "text": [
      "Epoch: 90 Train Loss: 1.8060 Train Acc: 0.9039 Test Acc: 0.8861\n"
     ]
    },
    {
     "name": "stderr",
     "output_type": "stream",
     "text": [
      "100%|██████████| 100/100 [00:02<00:00, 34.75it/s]\n"
     ]
    },
    {
     "data": {
      "image/png": "[encoded data removed]",
      "text/plain": [
       "<Figure size 640x480 with 1 Axes>"
      ]
     },
     "metadata": {},
     "output_type": "display_data"
    }
   ],
   "source": [
    "for i in steps:\n",
    "    print(i)\n",
    "    model = ConvLSTM12()\n",
    "    modalTest(model, X_tr_modal3, y_tr_modal, X_ts_modal3, y_ts_modal, 100, i[0], i[1])"
   ]
  },
  {
   "cell_type": "code",
   "execution_count": 276,
   "metadata": {},
   "outputs": [
    {
     "name": "stderr",
     "output_type": "stream",
     "text": [
      "  2%|▏         | 2/100 [00:00<00:17,  5.51it/s]"
     ]
    },
    {
     "name": "stdout",
     "output_type": "stream",
     "text": [
      "Epoch: 0 Train Loss: 2.5639 Train Acc: 0.1000 Test Acc: 0.0956\n"
     ]
    },
    {
     "name": "stderr",
     "output_type": "stream",
     "text": [
      " 22%|██▏       | 22/100 [00:03<00:12,  6.35it/s]"
     ]
    },
    {
     "name": "stdout",
     "output_type": "stream",
     "text": [
      "Epoch: 20 Train Loss: 2.4910 Train Acc: 0.2193 Test Acc: 0.1888\n"
     ]
    },
    {
     "name": "stderr",
     "output_type": "stream",
     "text": [
      " 42%|████▏     | 42/100 [00:06<00:09,  6.22it/s]"
     ]
    },
    {
     "name": "stdout",
     "output_type": "stream",
     "text": [
      "Epoch: 40 Train Loss: 2.3046 Train Acc: 0.4181 Test Acc: 0.4336\n"
     ]
    },
    {
     "name": "stderr",
     "output_type": "stream",
     "text": [
      " 62%|██████▏   | 62/100 [00:09<00:06,  6.28it/s]"
     ]
    },
    {
     "name": "stdout",
     "output_type": "stream",
     "text": [
      "Epoch: 60 Train Loss: 2.1369 Train Acc: 0.5985 Test Acc: 0.6371\n"
     ]
    },
    {
     "name": "stderr",
     "output_type": "stream",
     "text": [
      " 82%|████████▏ | 82/100 [00:13<00:02,  6.22it/s]"
     ]
    },
    {
     "name": "stdout",
     "output_type": "stream",
     "text": [
      "Epoch: 80 Train Loss: 1.9795 Train Acc: 0.7192 Test Acc: 0.6807\n"
     ]
    },
    {
     "name": "stderr",
     "output_type": "stream",
     "text": [
      "100%|██████████| 100/100 [00:15<00:00,  6.27it/s]\n"
     ]
    },
    {
     "data": {
      "image/png": "[encoded data removed]",
      "text/plain": [
       "<Figure size 640x480 with 1 Axes>"
      ]
     },
     "metadata": {},
     "output_type": "display_data"
    }
   ],
   "source": [
    "model = ConvLSTM6()\n",
    "modalTest(model, X_tr_modal1, y_tr_modal, X_ts_modal1, y_ts_modal, 100)"
   ]
  },
  {
   "cell_type": "code",
   "execution_count": 274,
   "metadata": {},
   "outputs": [
    {
     "name": "stderr",
     "output_type": "stream",
     "text": [
      "  2%|▏         | 2/100 [00:00<00:18,  5.21it/s]"
     ]
    },
    {
     "name": "stdout",
     "output_type": "stream",
     "text": [
      "Epoch: 0 Train Loss: 2.5645 Train Acc: 0.0935 Test Acc: 0.0901\n"
     ]
    },
    {
     "name": "stderr",
     "output_type": "stream",
     "text": [
      " 22%|██▏       | 22/100 [00:03<00:12,  6.43it/s]"
     ]
    },
    {
     "name": "stdout",
     "output_type": "stream",
     "text": [
      "Epoch: 20 Train Loss: 2.5067 Train Acc: 0.3222 Test Acc: 0.2393\n"
     ]
    },
    {
     "name": "stderr",
     "output_type": "stream",
     "text": [
      " 42%|████▏     | 42/100 [00:06<00:09,  6.35it/s]"
     ]
    },
    {
     "name": "stdout",
     "output_type": "stream",
     "text": [
      "Epoch: 40 Train Loss: 2.1759 Train Acc: 0.5630 Test Acc: 0.5167\n"
     ]
    },
    {
     "name": "stderr",
     "output_type": "stream",
     "text": [
      " 62%|██████▏   | 62/100 [00:09<00:06,  6.18it/s]"
     ]
    },
    {
     "name": "stdout",
     "output_type": "stream",
     "text": [
      "Epoch: 60 Train Loss: 2.0140 Train Acc: 0.7154 Test Acc: 0.6177\n"
     ]
    },
    {
     "name": "stderr",
     "output_type": "stream",
     "text": [
      " 82%|████████▏ | 82/100 [00:13<00:02,  6.25it/s]"
     ]
    },
    {
     "name": "stdout",
     "output_type": "stream",
     "text": [
      "Epoch: 80 Train Loss: 1.9478 Train Acc: 0.7371 Test Acc: 0.6550\n"
     ]
    },
    {
     "name": "stderr",
     "output_type": "stream",
     "text": [
      "100%|██████████| 100/100 [00:15<00:00,  6.29it/s]\n"
     ]
    },
    {
     "data": {
      "image/png": "[encoded data removed]",
      "text/plain": [
       "<Figure size 640x480 with 1 Axes>"
      ]
     },
     "metadata": {},
     "output_type": "display_data"
    }
   ],
   "source": [
    "model = ConvLSTM6()\n",
    "modalTest(model, X_tr_modal1, y_tr_modal, X_ts_modal1, y_ts_modal, 100)"
   ]
  },
  {
   "cell_type": "code",
   "execution_count": 223,
   "metadata": {},
   "outputs": [
    {
     "name": "stderr",
     "output_type": "stream",
     "text": [
      "  2%|▏         | 2/100 [00:00<00:18,  5.41it/s]"
     ]
    },
    {
     "name": "stdout",
     "output_type": "stream",
     "text": [
      "Epoch: 0 Train Loss: 2.5651 Train Acc: 0.0747 Test Acc: 0.0653\n"
     ]
    },
    {
     "name": "stderr",
     "output_type": "stream",
     "text": [
      " 22%|██▏       | 22/100 [00:03<00:12,  6.30it/s]"
     ]
    },
    {
     "name": "stdout",
     "output_type": "stream",
     "text": [
      "Epoch: 20 Train Loss: 2.4916 Train Acc: 0.3439 Test Acc: 0.3395\n"
     ]
    },
    {
     "name": "stderr",
     "output_type": "stream",
     "text": [
      " 42%|████▏     | 42/100 [00:06<00:09,  6.33it/s]"
     ]
    },
    {
     "name": "stdout",
     "output_type": "stream",
     "text": [
      "Epoch: 40 Train Loss: 2.2136 Train Acc: 0.5498 Test Acc: 0.4957\n"
     ]
    },
    {
     "name": "stderr",
     "output_type": "stream",
     "text": [
      " 62%|██████▏   | 62/100 [00:09<00:06,  6.21it/s]"
     ]
    },
    {
     "name": "stdout",
     "output_type": "stream",
     "text": [
      "Epoch: 60 Train Loss: 2.0755 Train Acc: 0.6354 Test Acc: 0.5594\n"
     ]
    },
    {
     "name": "stderr",
     "output_type": "stream",
     "text": [
      " 82%|████████▏ | 82/100 [00:13<00:02,  6.17it/s]"
     ]
    },
    {
     "name": "stdout",
     "output_type": "stream",
     "text": [
      "Epoch: 80 Train Loss: 2.0364 Train Acc: 0.6517 Test Acc: 0.5835\n"
     ]
    },
    {
     "name": "stderr",
     "output_type": "stream",
     "text": [
      "100%|██████████| 100/100 [00:16<00:00,  6.25it/s]\n"
     ]
    },
    {
     "data": {
      "image/png": "[encoded data removed]",
      "text/plain": [
       "<Figure size 640x480 with 1 Axes>"
      ]
     },
     "metadata": {},
     "output_type": "display_data"
    }
   ],
   "source": [
    "model = ConvLSTM6()\n",
    "modalTest(model, X_tr_modal2, y_tr_modal, X_ts_modal2, y_ts_modal, 100)"
   ]
  },
  {
   "cell_type": "code",
   "execution_count": 225,
   "metadata": {},
   "outputs": [
    {
     "name": "stderr",
     "output_type": "stream",
     "text": [
      "  1%|          | 2/200 [00:00<00:34,  5.69it/s]"
     ]
    },
    {
     "name": "stdout",
     "output_type": "stream",
     "text": [
      "Epoch: 0 Train Loss: 2.5652 Train Acc: 0.1609 Test Acc: 0.1647\n"
     ]
    },
    {
     "name": "stderr",
     "output_type": "stream",
     "text": [
      " 11%|█         | 22/200 [00:03<00:27,  6.48it/s]"
     ]
    },
    {
     "name": "stdout",
     "output_type": "stream",
     "text": [
      "Epoch: 20 Train Loss: 2.4908 Train Acc: 0.4267 Test Acc: 0.5315\n"
     ]
    },
    {
     "name": "stderr",
     "output_type": "stream",
     "text": [
      " 21%|██        | 42/200 [00:06<00:24,  6.50it/s]"
     ]
    },
    {
     "name": "stdout",
     "output_type": "stream",
     "text": [
      "Epoch: 40 Train Loss: 2.0726 Train Acc: 0.6304 Test Acc: 0.6022\n"
     ]
    },
    {
     "name": "stderr",
     "output_type": "stream",
     "text": [
      " 31%|███       | 62/200 [00:09<00:21,  6.47it/s]"
     ]
    },
    {
     "name": "stdout",
     "output_type": "stream",
     "text": [
      "Epoch: 60 Train Loss: 1.9339 Train Acc: 0.7604 Test Acc: 0.7366\n"
     ]
    },
    {
     "name": "stderr",
     "output_type": "stream",
     "text": [
      " 41%|████      | 82/200 [00:12<00:18,  6.37it/s]"
     ]
    },
    {
     "name": "stdout",
     "output_type": "stream",
     "text": [
      "Epoch: 80 Train Loss: 1.8814 Train Acc: 0.8426 Test Acc: 0.8003\n"
     ]
    },
    {
     "name": "stderr",
     "output_type": "stream",
     "text": [
      " 51%|█████     | 102/200 [00:15<00:15,  6.42it/s]"
     ]
    },
    {
     "name": "stdout",
     "output_type": "stream",
     "text": [
      "Epoch: 100 Train Loss: 1.8097 Train Acc: 0.8811 Test Acc: 0.8415\n"
     ]
    },
    {
     "name": "stderr",
     "output_type": "stream",
     "text": [
      " 61%|██████    | 122/200 [00:18<00:12,  6.36it/s]"
     ]
    },
    {
     "name": "stdout",
     "output_type": "stream",
     "text": [
      "Epoch: 120 Train Loss: 1.7972 Train Acc: 0.8825 Test Acc: 0.8081\n"
     ]
    },
    {
     "name": "stderr",
     "output_type": "stream",
     "text": [
      " 71%|███████   | 142/200 [00:22<00:09,  6.39it/s]"
     ]
    },
    {
     "name": "stdout",
     "output_type": "stream",
     "text": [
      "Epoch: 140 Train Loss: 1.7942 Train Acc: 0.8943 Test Acc: 0.8104\n"
     ]
    },
    {
     "name": "stderr",
     "output_type": "stream",
     "text": [
      " 81%|████████  | 162/200 [00:25<00:06,  6.27it/s]"
     ]
    },
    {
     "name": "stdout",
     "output_type": "stream",
     "text": [
      "Epoch: 160 Train Loss: 1.7925 Train Acc: 0.8949 Test Acc: 0.8081\n"
     ]
    },
    {
     "name": "stderr",
     "output_type": "stream",
     "text": [
      " 91%|█████████ | 182/200 [00:28<00:02,  6.28it/s]"
     ]
    },
    {
     "name": "stdout",
     "output_type": "stream",
     "text": [
      "Epoch: 180 Train Loss: 1.7920 Train Acc: 0.8949 Test Acc: 0.7646\n"
     ]
    },
    {
     "name": "stderr",
     "output_type": "stream",
     "text": [
      "100%|██████████| 200/200 [00:31<00:00,  6.37it/s]\n"
     ]
    },
    {
     "data": {
      "image/png": "[encoded data removed]",
      "text/plain": [
       "<Figure size 640x480 with 1 Axes>"
      ]
     },
     "metadata": {},
     "output_type": "display_data"
    }
   ],
   "source": [
    "model = ConvLSTM12()\n",
    "modalTest(model, X_tr_modal3, y_tr_modal, X_ts_modal3, y_ts_modal, 200)"
   ]
  },
  {
   "cell_type": "code",
   "execution_count": 44,
   "metadata": {},
   "outputs": [],
   "source": [
    "with open('./balanced_weights/modal1_weights.pickle', 'rb') as f:\n",
    "    weights1 = pickle.load(f)\n",
    "with open('./balanced_weights/modal2_weights.pickle', 'rb') as f:\n",
    "    weights2 = pickle.load(f)\n",
    "with open('./balanced_weights/modal3_weights.pickle', 'rb') as f:\n",
    "    weights3 = pickle.load(f)"
   ]
  },
  {
   "cell_type": "code",
   "execution_count": 71,
   "metadata": {},
   "outputs": [],
   "source": [
    "model = ConvLSTM12()"
   ]
  },
  {
   "cell_type": "code",
   "execution_count": 72,
   "metadata": {},
   "outputs": [
    {
     "data": {
      "text/plain": [
       "tensor(0)"
      ]
     },
     "execution_count": 72,
     "metadata": {},
     "output_type": "execute_result"
    }
   ],
   "source": [
    "model.state_dict()['bn2.num_batches_tracked']"
   ]
  },
  {
   "cell_type": "code",
   "execution_count": 108,
   "metadata": {},
   "outputs": [
    {
     "data": {
      "text/plain": [
       "torch.Size([13])"
      ]
     },
     "execution_count": 108,
     "metadata": {},
     "output_type": "execute_result"
    }
   ],
   "source": [
    "model.state_dict()['fc2.bias'].shape"
   ]
  },
  {
   "cell_type": "code",
   "execution_count": 109,
   "metadata": {},
   "outputs": [
    {
     "data": {
      "text/plain": [
       "(13,)"
      ]
     },
     "execution_count": 109,
     "metadata": {},
     "output_type": "execute_result"
    }
   ],
   "source": [
    "weights1[22:][3].shape"
   ]
  },
  {
   "cell_type": "code",
   "execution_count": null,
   "metadata": {},
   "outputs": [],
   "source": [
    "def get_parameter():\n",
    "    parameters = []\n",
    "    for i in range(1, 4):\n",
    "        with open('/home/jhmoon/venvFL/2023-paper-Federated_Learning/multiFL/mHealth/balanced_weights/modal'+i+'_weights.pickle', 'rb') as f:\n",
    "            data = pickle.load(f)\n",
    "            parameters.append(data)\n",
    "\n",
    "    avg_params = []\n",
    "\n",
    "    for i in range(22, 26):\n",
    "        avg_params.append((parameters[0][i] + parameters[1][i] + parameters[2][i]) / 3)\n",
    "    \n",
    "    for i in range(22, 26):\n",
    "        parameters[0][i] = avg_params[i-22]\n",
    "        parameters[1][i] = avg_params[i-22]\n",
    "        parameters[2][i] = avg_params[i-22]\n",
    "\n",
    "    return parameters"
   ]
  },
  {
   "cell_type": "code",
   "execution_count": 112,
   "metadata": {},
   "outputs": [],
   "source": [
    "parameters = []\n",
    "for i in range(1, 4):\n",
    "    with open('/home/jhmoon/venvFL/2023-paper-Federated_Learning/multiFL/mHealth/balanced_weights/modal'+str(i)+'_weights.pickle', 'rb') as f:\n",
    "        data = pickle.load(f)\n",
    "        parameters.append(data)"
   ]
  },
  {
   "cell_type": "code",
   "execution_count": 140,
   "metadata": {},
   "outputs": [
    {
     "data": {
      "text/plain": [
       "(128,)"
      ]
     },
     "execution_count": 140,
     "metadata": {},
     "output_type": "execute_result"
    }
   ],
   "source": [
    "parameters[0][23].shape"
   ]
  },
  {
   "cell_type": "code",
   "execution_count": 123,
   "metadata": {},
   "outputs": [],
   "source": [
    "avg_params = []\n",
    "\n",
    "for i in range(22, 26):\n",
    "    avg_params.append((parameters[0][i] + parameters[1][i] + parameters[2][i]) / 3)"
   ]
  },
  {
   "cell_type": "code",
   "execution_count": 141,
   "metadata": {},
   "outputs": [
    {
     "data": {
      "text/plain": [
       "(128,)"
      ]
     },
     "execution_count": 141,
     "metadata": {},
     "output_type": "execute_result"
    }
   ],
   "source": [
    "avg_params[1].shape"
   ]
  }
 ],
 "metadata": {
  "kernelspec": {
   "display_name": "env",
   "language": "python",
   "name": "python3"
  },
  "language_info": {
   "codemirror_mode": {
    "name": "ipython",
    "version": 3
   },
   "file_extension": ".py",
   "mimetype": "text/x-python",
   "name": "python",
   "nbconvert_exporter": "python",
   "pygments_lexer": "ipython3",
   "version": "3.7.16"
  },
  "orig_nbformat": 4
 },
 "nbformat": 4,
 "nbformat_minor": 2
}
